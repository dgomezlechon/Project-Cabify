{
 "cells": [
  {
   "cell_type": "code",
   "execution_count": 4,
   "id": "4a448e70",
   "metadata": {},
   "outputs": [
    {
     "name": "stdout",
     "output_type": "stream",
     "text": [
      "Collecting osmnx\n",
      "  Downloading osmnx-1.2.1-py2.py3-none-any.whl (92 kB)\n",
      "\u001b[K     |████████████████████████████████| 92 kB 439 kB/s eta 0:00:01\n",
      "\u001b[?25hCollecting Rtree>=1.0\n",
      "  Downloading Rtree-1.0.0-cp39-cp39-macosx_10_9_x86_64.whl (814 kB)\n",
      "\u001b[K     |████████████████████████████████| 814 kB 1.6 MB/s eta 0:00:01\n",
      "\u001b[?25hCollecting Shapely<2.0,>=1.8\n",
      "  Downloading Shapely-1.8.2-cp39-cp39-macosx_10_9_x86_64.whl (1.2 MB)\n",
      "\u001b[K     |████████████████████████████████| 1.2 MB 2.2 MB/s eta 0:00:01\n",
      "\u001b[?25hRequirement already satisfied: matplotlib>=3.5 in /Users/danigomezlechonbarrachina/opt/anaconda3/envs/Ironhack/lib/python3.9/site-packages (from osmnx) (3.5.1)\n",
      "Requirement already satisfied: requests>=2.27 in /Users/danigomezlechonbarrachina/opt/anaconda3/envs/Ironhack/lib/python3.9/site-packages (from osmnx) (2.27.1)\n",
      "Requirement already satisfied: pandas>=1.4 in /Users/danigomezlechonbarrachina/opt/anaconda3/envs/Ironhack/lib/python3.9/site-packages (from osmnx) (1.4.1)\n",
      "Collecting geopandas>=0.10\n",
      "  Downloading geopandas-0.11.0-py3-none-any.whl (1.0 MB)\n",
      "\u001b[K     |████████████████████████████████| 1.0 MB 2.1 MB/s eta 0:00:01\n",
      "\u001b[?25hCollecting pyproj>=3.3\n",
      "  Downloading pyproj-3.3.1-cp39-cp39-macosx_10_9_x86_64.whl (8.2 MB)\n",
      "\u001b[K     |████████████████████████████████| 8.2 MB 5.1 MB/s eta 0:00:011\n",
      "\u001b[?25hRequirement already satisfied: networkx>=2.8 in /Users/danigomezlechonbarrachina/opt/anaconda3/envs/Ironhack/lib/python3.9/site-packages (from osmnx) (2.8)\n",
      "Requirement already satisfied: numpy>=1.21 in /Users/danigomezlechonbarrachina/opt/anaconda3/envs/Ironhack/lib/python3.9/site-packages (from osmnx) (1.21.6)\n",
      "Collecting fiona>=1.8\n",
      "  Downloading Fiona-1.8.21-cp39-cp39-macosx_10_10_x86_64.whl (18.5 MB)\n",
      "\u001b[K     |████████████████████████████████| 18.5 MB 6.5 MB/s eta 0:00:01    |███████████▍                    | 6.6 MB 5.4 MB/s eta 0:00:03\n",
      "\u001b[?25hRequirement already satisfied: packaging in /Users/danigomezlechonbarrachina/opt/anaconda3/envs/Ironhack/lib/python3.9/site-packages (from geopandas>=0.10->osmnx) (21.3)\n",
      "Requirement already satisfied: six>=1.7 in /Users/danigomezlechonbarrachina/opt/anaconda3/envs/Ironhack/lib/python3.9/site-packages (from fiona>=1.8->geopandas>=0.10->osmnx) (1.16.0)\n",
      "Collecting munch\n",
      "  Downloading munch-2.5.0-py2.py3-none-any.whl (10 kB)\n",
      "Collecting cligj>=0.5\n",
      "  Downloading cligj-0.7.2-py3-none-any.whl (7.1 kB)\n",
      "Requirement already satisfied: setuptools in /Users/danigomezlechonbarrachina/opt/anaconda3/envs/Ironhack/lib/python3.9/site-packages (from fiona>=1.8->geopandas>=0.10->osmnx) (58.0.4)\n",
      "Requirement already satisfied: certifi in /Users/danigomezlechonbarrachina/opt/anaconda3/envs/Ironhack/lib/python3.9/site-packages (from fiona>=1.8->geopandas>=0.10->osmnx) (2021.10.8)\n",
      "Collecting click-plugins>=1.0\n",
      "  Downloading click_plugins-1.1.1-py2.py3-none-any.whl (7.5 kB)\n",
      "Requirement already satisfied: click>=4.0 in /Users/danigomezlechonbarrachina/opt/anaconda3/envs/Ironhack/lib/python3.9/site-packages (from fiona>=1.8->geopandas>=0.10->osmnx) (8.0.4)\n",
      "Requirement already satisfied: attrs>=17 in /Users/danigomezlechonbarrachina/opt/anaconda3/envs/Ironhack/lib/python3.9/site-packages (from fiona>=1.8->geopandas>=0.10->osmnx) (21.4.0)\n",
      "Requirement already satisfied: pyparsing>=2.2.1 in /Users/danigomezlechonbarrachina/opt/anaconda3/envs/Ironhack/lib/python3.9/site-packages (from matplotlib>=3.5->osmnx) (3.0.7)\n",
      "Requirement already satisfied: fonttools>=4.22.0 in /Users/danigomezlechonbarrachina/opt/anaconda3/envs/Ironhack/lib/python3.9/site-packages (from matplotlib>=3.5->osmnx) (4.25.0)\n",
      "Requirement already satisfied: kiwisolver>=1.0.1 in /Users/danigomezlechonbarrachina/opt/anaconda3/envs/Ironhack/lib/python3.9/site-packages (from matplotlib>=3.5->osmnx) (1.3.2)\n",
      "Requirement already satisfied: cycler>=0.10 in /Users/danigomezlechonbarrachina/opt/anaconda3/envs/Ironhack/lib/python3.9/site-packages (from matplotlib>=3.5->osmnx) (0.11.0)\n",
      "Requirement already satisfied: python-dateutil>=2.7 in /Users/danigomezlechonbarrachina/opt/anaconda3/envs/Ironhack/lib/python3.9/site-packages (from matplotlib>=3.5->osmnx) (2.8.2)\n",
      "Requirement already satisfied: pillow>=6.2.0 in /Users/danigomezlechonbarrachina/opt/anaconda3/envs/Ironhack/lib/python3.9/site-packages (from matplotlib>=3.5->osmnx) (9.0.1)\n",
      "Requirement already satisfied: pytz>=2020.1 in /Users/danigomezlechonbarrachina/opt/anaconda3/envs/Ironhack/lib/python3.9/site-packages (from pandas>=1.4->osmnx) (2022.1)\n",
      "Requirement already satisfied: urllib3<1.27,>=1.21.1 in /Users/danigomezlechonbarrachina/opt/anaconda3/envs/Ironhack/lib/python3.9/site-packages (from requests>=2.27->osmnx) (1.26.9)\n",
      "Requirement already satisfied: charset-normalizer~=2.0.0 in /Users/danigomezlechonbarrachina/opt/anaconda3/envs/Ironhack/lib/python3.9/site-packages (from requests>=2.27->osmnx) (2.0.12)\n",
      "Requirement already satisfied: idna<4,>=2.5 in /Users/danigomezlechonbarrachina/opt/anaconda3/envs/Ironhack/lib/python3.9/site-packages (from requests>=2.27->osmnx) (3.3)\n",
      "Installing collected packages: munch, cligj, click-plugins, Shapely, pyproj, fiona, Rtree, geopandas, osmnx\n",
      "Successfully installed Rtree-1.0.0 Shapely-1.8.2 click-plugins-1.1.1 cligj-0.7.2 fiona-1.8.21 geopandas-0.11.0 munch-2.5.0 osmnx-1.2.1 pyproj-3.3.1\n",
      "Note: you may need to restart the kernel to use updated packages.\n"
     ]
    }
   ],
   "source": [
    "pip install osmnx"
   ]
  },
  {
   "cell_type": "code",
   "execution_count": 5,
   "id": "c3343bb6",
   "metadata": {},
   "outputs": [
    {
     "name": "stderr",
     "output_type": "stream",
     "text": [
      "/Users/danigomezlechonbarrachina/opt/anaconda3/envs/Ironhack/lib/python3.9/site-packages/osmnx/utils.py:192: UserWarning: The `utils.config` function is deprecated and will be removed in a future release. Instead, use the `settings` module directly to configure a global setting's value. For example, `ox.settings.log_console=True`.\n",
      "  warnings.warn(\n"
     ]
    }
   ],
   "source": [
    "import osmnx as ox\n",
    "import networkx as nx\n",
    "ox.config(log_console=True, use_cache=True)\n"
   ]
  },
  {
   "cell_type": "code",
   "execution_count": 7,
   "id": "06715c44",
   "metadata": {},
   "outputs": [
    {
     "ename": "KeyboardInterrupt",
     "evalue": "",
     "output_type": "error",
     "traceback": [
      "\u001b[0;31m---------------------------------------------------------------------------\u001b[0m",
      "\u001b[0;31mKeyboardInterrupt\u001b[0m                         Traceback (most recent call last)",
      "Input \u001b[0;32mIn [7]\u001b[0m, in \u001b[0;36m<cell line: 12>\u001b[0;34m()\u001b[0m\n\u001b[1;32m      9\u001b[0m optimizer \u001b[38;5;241m=\u001b[39m \u001b[38;5;124m'\u001b[39m\u001b[38;5;124mtime\u001b[39m\u001b[38;5;124m'\u001b[39m        \u001b[38;5;66;03m# 'length','time'\u001b[39;00m\n\u001b[1;32m     10\u001b[0m \u001b[38;5;66;03m# create graph from OSM within the boundaries of some \u001b[39;00m\n\u001b[1;32m     11\u001b[0m \u001b[38;5;66;03m# geocodable place(s)\u001b[39;00m\n\u001b[0;32m---> 12\u001b[0m graph \u001b[38;5;241m=\u001b[39m \u001b[43mox\u001b[49m\u001b[38;5;241;43m.\u001b[39;49m\u001b[43mgraph_from_place\u001b[49m\u001b[43m(\u001b[49m\u001b[43mplace\u001b[49m\u001b[43m,\u001b[49m\u001b[43m \u001b[49m\u001b[43mnetwork_type\u001b[49m\u001b[43m \u001b[49m\u001b[38;5;241;43m=\u001b[39;49m\u001b[43m \u001b[49m\u001b[43mmode\u001b[49m\u001b[43m)\u001b[49m\n\u001b[1;32m     13\u001b[0m \u001b[38;5;66;03m# find the nearest node to the start location\u001b[39;00m\n\u001b[1;32m     14\u001b[0m orig_node \u001b[38;5;241m=\u001b[39m ox\u001b[38;5;241m.\u001b[39mget_nearest_node(graph, start_latlng)\n",
      "File \u001b[0;32m~/opt/anaconda3/envs/Ironhack/lib/python3.9/site-packages/osmnx/graph.py:351\u001b[0m, in \u001b[0;36mgraph_from_place\u001b[0;34m(query, network_type, simplify, retain_all, truncate_by_edge, which_result, buffer_dist, clean_periphery, custom_filter)\u001b[0m\n\u001b[1;32m    348\u001b[0m utils\u001b[38;5;241m.\u001b[39mlog(\u001b[38;5;124m\"\u001b[39m\u001b[38;5;124mConstructed place geometry polygon(s) to query API\u001b[39m\u001b[38;5;124m\"\u001b[39m)\n\u001b[1;32m    350\u001b[0m \u001b[38;5;66;03m# create graph using this polygon(s) geometry\u001b[39;00m\n\u001b[0;32m--> 351\u001b[0m G \u001b[38;5;241m=\u001b[39m \u001b[43mgraph_from_polygon\u001b[49m\u001b[43m(\u001b[49m\n\u001b[1;32m    352\u001b[0m \u001b[43m    \u001b[49m\u001b[43mpolygon\u001b[49m\u001b[43m,\u001b[49m\n\u001b[1;32m    353\u001b[0m \u001b[43m    \u001b[49m\u001b[43mnetwork_type\u001b[49m\u001b[38;5;241;43m=\u001b[39;49m\u001b[43mnetwork_type\u001b[49m\u001b[43m,\u001b[49m\n\u001b[1;32m    354\u001b[0m \u001b[43m    \u001b[49m\u001b[43msimplify\u001b[49m\u001b[38;5;241;43m=\u001b[39;49m\u001b[43msimplify\u001b[49m\u001b[43m,\u001b[49m\n\u001b[1;32m    355\u001b[0m \u001b[43m    \u001b[49m\u001b[43mretain_all\u001b[49m\u001b[38;5;241;43m=\u001b[39;49m\u001b[43mretain_all\u001b[49m\u001b[43m,\u001b[49m\n\u001b[1;32m    356\u001b[0m \u001b[43m    \u001b[49m\u001b[43mtruncate_by_edge\u001b[49m\u001b[38;5;241;43m=\u001b[39;49m\u001b[43mtruncate_by_edge\u001b[49m\u001b[43m,\u001b[49m\n\u001b[1;32m    357\u001b[0m \u001b[43m    \u001b[49m\u001b[43mclean_periphery\u001b[49m\u001b[38;5;241;43m=\u001b[39;49m\u001b[43mclean_periphery\u001b[49m\u001b[43m,\u001b[49m\n\u001b[1;32m    358\u001b[0m \u001b[43m    \u001b[49m\u001b[43mcustom_filter\u001b[49m\u001b[38;5;241;43m=\u001b[39;49m\u001b[43mcustom_filter\u001b[49m\u001b[43m,\u001b[49m\n\u001b[1;32m    359\u001b[0m \u001b[43m\u001b[49m\u001b[43m)\u001b[49m\n\u001b[1;32m    361\u001b[0m utils\u001b[38;5;241m.\u001b[39mlog(\u001b[38;5;124mf\u001b[39m\u001b[38;5;124m\"\u001b[39m\u001b[38;5;124mgraph_from_place returned graph with \u001b[39m\u001b[38;5;132;01m{\u001b[39;00m\u001b[38;5;28mlen\u001b[39m(G)\u001b[38;5;132;01m}\u001b[39;00m\u001b[38;5;124m nodes and \u001b[39m\u001b[38;5;132;01m{\u001b[39;00m\u001b[38;5;28mlen\u001b[39m(G\u001b[38;5;241m.\u001b[39medges)\u001b[38;5;132;01m}\u001b[39;00m\u001b[38;5;124m edges\u001b[39m\u001b[38;5;124m\"\u001b[39m)\n\u001b[1;32m    362\u001b[0m \u001b[38;5;28;01mreturn\u001b[39;00m G\n",
      "File \u001b[0;32m~/opt/anaconda3/envs/Ironhack/lib/python3.9/site-packages/osmnx/graph.py:436\u001b[0m, in \u001b[0;36mgraph_from_polygon\u001b[0;34m(polygon, network_type, simplify, retain_all, truncate_by_edge, clean_periphery, custom_filter)\u001b[0m\n\u001b[1;32m    434\u001b[0m \u001b[38;5;66;03m# create buffered graph from the downloaded data\u001b[39;00m\n\u001b[1;32m    435\u001b[0m bidirectional \u001b[38;5;241m=\u001b[39m network_type \u001b[38;5;129;01min\u001b[39;00m settings\u001b[38;5;241m.\u001b[39mbidirectional_network_types\n\u001b[0;32m--> 436\u001b[0m G_buff \u001b[38;5;241m=\u001b[39m \u001b[43m_create_graph\u001b[49m\u001b[43m(\u001b[49m\u001b[43mresponse_jsons\u001b[49m\u001b[43m,\u001b[49m\u001b[43m \u001b[49m\u001b[43mretain_all\u001b[49m\u001b[38;5;241;43m=\u001b[39;49m\u001b[38;5;28;43;01mTrue\u001b[39;49;00m\u001b[43m,\u001b[49m\u001b[43m \u001b[49m\u001b[43mbidirectional\u001b[49m\u001b[38;5;241;43m=\u001b[39;49m\u001b[43mbidirectional\u001b[49m\u001b[43m)\u001b[49m\n\u001b[1;32m    438\u001b[0m \u001b[38;5;66;03m# truncate buffered graph to the buffered polygon and retain_all for\u001b[39;00m\n\u001b[1;32m    439\u001b[0m \u001b[38;5;66;03m# now. needed because overpass returns entire ways that also include\u001b[39;00m\n\u001b[1;32m    440\u001b[0m \u001b[38;5;66;03m# nodes outside the poly if the way (that is, a way with a single OSM\u001b[39;00m\n\u001b[1;32m    441\u001b[0m \u001b[38;5;66;03m# ID) has a node inside the poly at some point.\u001b[39;00m\n\u001b[1;32m    442\u001b[0m G_buff \u001b[38;5;241m=\u001b[39m truncate\u001b[38;5;241m.\u001b[39mtruncate_graph_polygon(G_buff, poly_buff, \u001b[38;5;28;01mTrue\u001b[39;00m, truncate_by_edge)\n",
      "File \u001b[0;32m~/opt/anaconda3/envs/Ironhack/lib/python3.9/site-packages/osmnx/graph.py:577\u001b[0m, in \u001b[0;36m_create_graph\u001b[0;34m(response_jsons, retain_all, bidirectional)\u001b[0m\n\u001b[1;32m    574\u001b[0m     G\u001b[38;5;241m.\u001b[39madd_node(node, \u001b[38;5;241m*\u001b[39m\u001b[38;5;241m*\u001b[39mdata)\n\u001b[1;32m    576\u001b[0m \u001b[38;5;66;03m# add each osm way (ie, a path of edges) to the graph\u001b[39;00m\n\u001b[0;32m--> 577\u001b[0m \u001b[43m_add_paths\u001b[49m\u001b[43m(\u001b[49m\u001b[43mG\u001b[49m\u001b[43m,\u001b[49m\u001b[43m \u001b[49m\u001b[43mpaths\u001b[49m\u001b[38;5;241;43m.\u001b[39;49m\u001b[43mvalues\u001b[49m\u001b[43m(\u001b[49m\u001b[43m)\u001b[49m\u001b[43m,\u001b[49m\u001b[43m \u001b[49m\u001b[43mbidirectional\u001b[49m\u001b[43m)\u001b[49m\n\u001b[1;32m    579\u001b[0m \u001b[38;5;66;03m# retain only the largest connected component if retain_all is False\u001b[39;00m\n\u001b[1;32m    580\u001b[0m \u001b[38;5;28;01mif\u001b[39;00m \u001b[38;5;129;01mnot\u001b[39;00m retain_all:\n",
      "File \u001b[0;32m~/opt/anaconda3/envs/Ironhack/lib/python3.9/site-packages/osmnx/graph.py:786\u001b[0m, in \u001b[0;36m_add_paths\u001b[0;34m(G, paths, bidirectional)\u001b[0m\n\u001b[1;32m    784\u001b[0m \u001b[38;5;28;01mif\u001b[39;00m \u001b[38;5;129;01mnot\u001b[39;00m is_one_way:\n\u001b[1;32m    785\u001b[0m     path[\u001b[38;5;124m\"\u001b[39m\u001b[38;5;124mreversed\u001b[39m\u001b[38;5;124m\"\u001b[39m] \u001b[38;5;241m=\u001b[39m \u001b[38;5;28;01mTrue\u001b[39;00m\n\u001b[0;32m--> 786\u001b[0m     \u001b[43mG\u001b[49m\u001b[38;5;241;43m.\u001b[39;49m\u001b[43madd_edges_from\u001b[49m\u001b[43m(\u001b[49m\u001b[43m[\u001b[49m\u001b[43m(\u001b[49m\u001b[43mv\u001b[49m\u001b[43m,\u001b[49m\u001b[43m \u001b[49m\u001b[43mu\u001b[49m\u001b[43m)\u001b[49m\u001b[43m \u001b[49m\u001b[38;5;28;43;01mfor\u001b[39;49;00m\u001b[43m \u001b[49m\u001b[43mu\u001b[49m\u001b[43m,\u001b[49m\u001b[43m \u001b[49m\u001b[43mv\u001b[49m\u001b[43m \u001b[49m\u001b[38;5;129;43;01min\u001b[39;49;00m\u001b[43m \u001b[49m\u001b[43medges\u001b[49m\u001b[43m]\u001b[49m\u001b[43m,\u001b[49m\u001b[43m \u001b[49m\u001b[38;5;241;43m*\u001b[39;49m\u001b[38;5;241;43m*\u001b[39;49m\u001b[43mpath\u001b[49m\u001b[43m)\u001b[49m\n",
      "File \u001b[0;32m~/opt/anaconda3/envs/Ironhack/lib/python3.9/site-packages/networkx/classes/multigraph.py:585\u001b[0m, in \u001b[0;36mMultiGraph.add_edges_from\u001b[0;34m(self, ebunch_to_add, **attr)\u001b[0m\n\u001b[1;32m    583\u001b[0m         key \u001b[38;5;241m=\u001b[39m dd  \u001b[38;5;66;03m# ne == 3 with 3rd value not dict, must be a key\u001b[39;00m\n\u001b[1;32m    584\u001b[0m     key \u001b[38;5;241m=\u001b[39m \u001b[38;5;28mself\u001b[39m\u001b[38;5;241m.\u001b[39madd_edge(u, v, key)\n\u001b[0;32m--> 585\u001b[0m     \u001b[38;5;28;43mself\u001b[39;49m\u001b[43m[\u001b[49m\u001b[43mu\u001b[49m\u001b[43m]\u001b[49m[v][key]\u001b[38;5;241m.\u001b[39mupdate(ddd)\n\u001b[1;32m    586\u001b[0m     keylist\u001b[38;5;241m.\u001b[39mappend(key)\n\u001b[1;32m    587\u001b[0m \u001b[38;5;28;01mreturn\u001b[39;00m keylist\n",
      "File \u001b[0;32m~/opt/anaconda3/envs/Ironhack/lib/python3.9/site-packages/networkx/classes/graph.py:476\u001b[0m, in \u001b[0;36mGraph.__getitem__\u001b[0;34m(self, n)\u001b[0m\n\u001b[1;32m    452\u001b[0m \u001b[38;5;28;01mdef\u001b[39;00m \u001b[38;5;21m__getitem__\u001b[39m(\u001b[38;5;28mself\u001b[39m, n):\n\u001b[1;32m    453\u001b[0m     \u001b[38;5;124;03m\"\"\"Returns a dict of neighbors of node n.  Use: 'G[n]'.\u001b[39;00m\n\u001b[1;32m    454\u001b[0m \n\u001b[1;32m    455\u001b[0m \u001b[38;5;124;03m    Parameters\u001b[39;00m\n\u001b[0;32m   (...)\u001b[0m\n\u001b[1;32m    474\u001b[0m \u001b[38;5;124;03m    AtlasView({1: {}})\u001b[39;00m\n\u001b[1;32m    475\u001b[0m \u001b[38;5;124;03m    \"\"\"\u001b[39;00m\n\u001b[0;32m--> 476\u001b[0m     \u001b[38;5;28;01mreturn\u001b[39;00m \u001b[38;5;28;43mself\u001b[39;49m\u001b[38;5;241;43m.\u001b[39;49m\u001b[43madj\u001b[49m[n]\n",
      "File \u001b[0;32m~/opt/anaconda3/envs/Ironhack/lib/python3.9/site-packages/networkx/classes/multidigraph.py:365\u001b[0m, in \u001b[0;36mMultiDiGraph.adj\u001b[0;34m(self)\u001b[0m\n\u001b[1;32m    348\u001b[0m \u001b[38;5;129m@property\u001b[39m\n\u001b[1;32m    349\u001b[0m \u001b[38;5;28;01mdef\u001b[39;00m \u001b[38;5;21madj\u001b[39m(\u001b[38;5;28mself\u001b[39m):\n\u001b[1;32m    350\u001b[0m     \u001b[38;5;124;03m\"\"\"Graph adjacency object holding the neighbors of each node.\u001b[39;00m\n\u001b[1;32m    351\u001b[0m \n\u001b[1;32m    352\u001b[0m \u001b[38;5;124;03m    This object is a read-only dict-like structure with node keys\u001b[39;00m\n\u001b[0;32m   (...)\u001b[0m\n\u001b[1;32m    363\u001b[0m \u001b[38;5;124;03m    For directed graphs, `G.adj` holds outgoing (successor) info.\u001b[39;00m\n\u001b[1;32m    364\u001b[0m \u001b[38;5;124;03m    \"\"\"\u001b[39;00m\n\u001b[0;32m--> 365\u001b[0m     \u001b[38;5;28;01mreturn\u001b[39;00m \u001b[43mMultiAdjacencyView\u001b[49m\u001b[43m(\u001b[49m\u001b[38;5;28;43mself\u001b[39;49m\u001b[38;5;241;43m.\u001b[39;49m\u001b[43m_succ\u001b[49m\u001b[43m)\u001b[49m\n",
      "File \u001b[0;32m~/opt/anaconda3/envs/Ironhack/lib/python3.9/site-packages/networkx/classes/coreviews.py:44\u001b[0m, in \u001b[0;36mAtlasView.__init__\u001b[0;34m(self, d)\u001b[0m\n\u001b[1;32m     41\u001b[0m \u001b[38;5;28;01mdef\u001b[39;00m \u001b[38;5;21m__setstate__\u001b[39m(\u001b[38;5;28mself\u001b[39m, state):\n\u001b[1;32m     42\u001b[0m     \u001b[38;5;28mself\u001b[39m\u001b[38;5;241m.\u001b[39m_atlas \u001b[38;5;241m=\u001b[39m state[\u001b[38;5;124m\"\u001b[39m\u001b[38;5;124m_atlas\u001b[39m\u001b[38;5;124m\"\u001b[39m]\n\u001b[0;32m---> 44\u001b[0m \u001b[38;5;28;01mdef\u001b[39;00m \u001b[38;5;21m__init__\u001b[39m(\u001b[38;5;28mself\u001b[39m, d):\n\u001b[1;32m     45\u001b[0m     \u001b[38;5;28mself\u001b[39m\u001b[38;5;241m.\u001b[39m_atlas \u001b[38;5;241m=\u001b[39m d\n\u001b[1;32m     47\u001b[0m \u001b[38;5;28;01mdef\u001b[39;00m \u001b[38;5;21m__len__\u001b[39m(\u001b[38;5;28mself\u001b[39m):\n",
      "\u001b[0;31mKeyboardInterrupt\u001b[0m: "
     ]
    }
   ],
   "source": [
    "# define the start and end locations in latlng\n",
    "start_latlng = (-12.1107896,-76.9854538)\n",
    "end_latlng = (-12.1287139,-77.0296191)\n",
    "# location where you want to find your route\n",
    "place     = 'Lima, Peru'\n",
    "# find shortest route based on the mode of travel\n",
    "mode      = 'walk'        # 'drive', 'bike', 'walk'\n",
    "# find shortest path based on distance or time\n",
    "optimizer = 'time'        # 'length','time'\n",
    "# create graph from OSM within the boundaries of some \n",
    "# geocodable place(s)\n",
    "graph = ox.graph_from_place(place, network_type = mode)\n",
    "# find the nearest node to the start location\n",
    "orig_node = ox.get_nearest_node(graph, start_latlng)\n",
    "# find the nearest node to the end location\n",
    "dest_node = ox.get_nearest_node(graph, end_latlng)\n",
    "#  find the shortest path\n",
    "shortest_route = nx.shortest_path(graph,\n",
    "                                  orig_node,\n",
    "                                  dest_node,\n",
    "                                  weight=optimizer)"
   ]
  },
  {
   "cell_type": "code",
   "execution_count": null,
   "id": "657f9c8b",
   "metadata": {},
   "outputs": [],
   "source": []
  }
 ],
 "metadata": {
  "kernelspec": {
   "display_name": "Ironhack",
   "language": "python",
   "name": "ironhack"
  },
  "language_info": {
   "codemirror_mode": {
    "name": "ipython",
    "version": 3
   },
   "file_extension": ".py",
   "mimetype": "text/x-python",
   "name": "python",
   "nbconvert_exporter": "python",
   "pygments_lexer": "ipython3",
   "version": "3.9.7"
  }
 },
 "nbformat": 4,
 "nbformat_minor": 5
}
