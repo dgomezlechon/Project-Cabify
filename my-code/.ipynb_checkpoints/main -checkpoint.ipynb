{
 "cells": [
  {
   "cell_type": "markdown",
   "id": "063102aa",
   "metadata": {},
   "source": [
    "We install and import the libraries needed"
   ]
  },
  {
   "cell_type": "code",
   "execution_count": 1,
   "id": "91ff3385",
   "metadata": {},
   "outputs": [
    {
     "name": "stdout",
     "output_type": "stream",
     "text": [
      "Requirement already satisfied: openpyxl in /Users/danigomezlechonbarrachina/opt/anaconda3/envs/Ironhack/lib/python3.9/site-packages (3.0.9)\n",
      "Requirement already satisfied: et-xmlfile in /Users/danigomezlechonbarrachina/opt/anaconda3/envs/Ironhack/lib/python3.9/site-packages (from openpyxl) (1.1.0)\n",
      "Note: you may need to restart the kernel to use updated packages.\n"
     ]
    }
   ],
   "source": [
    "pip install openpyxl"
   ]
  },
  {
   "cell_type": "code",
   "execution_count": 2,
   "id": "b59112ac",
   "metadata": {},
   "outputs": [],
   "source": [
    "import pandas as pd "
   ]
  },
  {
   "cell_type": "markdown",
   "id": "5b2188bb",
   "metadata": {},
   "source": [
    "I import the data from excel into Pandas"
   ]
  },
  {
   "cell_type": "code",
   "execution_count": 3,
   "id": "be15d195",
   "metadata": {},
   "outputs": [],
   "source": [
    "data=pd.read_excel(\"../data/Data_BC_GlobalDelivery (1).xlsx\")"
   ]
  },
  {
   "cell_type": "markdown",
   "id": "cdb1dd36",
   "metadata": {},
   "source": [
    "### Exploring and analyzing drivers data"
   ]
  },
  {
   "cell_type": "code",
   "execution_count": 4,
   "id": "fcd2016c",
   "metadata": {},
   "outputs": [],
   "source": [
    "drivers=data.driver_id.unique()"
   ]
  },
  {
   "cell_type": "code",
   "execution_count": 5,
   "id": "d7f71b5e",
   "metadata": {},
   "outputs": [
    {
     "data": {
      "text/plain": [
       "169"
      ]
     },
     "execution_count": 5,
     "metadata": {},
     "output_type": "execute_result"
    }
   ],
   "source": [
    "len(drivers)"
   ]
  },
  {
   "cell_type": "markdown",
   "id": "a7a8bba6",
   "metadata": {},
   "source": [
    "I drop the records for which we dont have a driver_id as they wont be useful for the analysis"
   ]
  },
  {
   "cell_type": "code",
   "execution_count": 6,
   "id": "74ac6ffc",
   "metadata": {},
   "outputs": [],
   "source": [
    "data=data[data.driver_id.notna()]"
   ]
  },
  {
   "cell_type": "code",
   "execution_count": 7,
   "id": "30980a2b",
   "metadata": {},
   "outputs": [],
   "source": [
    "data.reset_index(inplace=True)"
   ]
  },
  {
   "cell_type": "code",
   "execution_count": 26,
   "id": "b9fb002a",
   "metadata": {},
   "outputs": [],
   "source": [
    "data=data.drop(\"index\",axis=1)"
   ]
  },
  {
   "cell_type": "code",
   "execution_count": 9,
   "id": "1a3e153e",
   "metadata": {},
   "outputs": [],
   "source": [
    "data2=data[[\"driver_id\",\"journey_id\",\"price\",\"cost\",\"end_state\",\"driver_score\",\"rider_score\"]]"
   ]
  },
  {
   "cell_type": "code",
   "execution_count": 10,
   "id": "ab2c8821",
   "metadata": {},
   "outputs": [],
   "source": [
    "\n",
    "driv_summary=data2.groupby([\"driver_id\",\"end_state\"]).agg({\"journey_id\":\"count\",\"price\":\"sum\",\"cost\":\"sum\",\"driver_score\":\"mean\",\"rider_score\":\"mean\"})"
   ]
  },
  {
   "cell_type": "code",
   "execution_count": 11,
   "id": "61c8a57f",
   "metadata": {},
   "outputs": [],
   "source": [
    "driv_summary.reset_index(inplace=True)"
   ]
  },
  {
   "cell_type": "code",
   "execution_count": 12,
   "id": "314e8f13",
   "metadata": {},
   "outputs": [],
   "source": [
    "driver_canceling=driv_summary[driv_summary.end_state==\"driver cancel\"]"
   ]
  },
  {
   "cell_type": "markdown",
   "id": "dad15142",
   "metadata": {},
   "source": [
    "There are 168 different riders, of which 65 have canceled their journeys (\"driver cancel\") at least once"
   ]
  },
  {
   "cell_type": "markdown",
   "id": "7ab14146",
   "metadata": {},
   "source": [
    "At this point I have to decide from which amount of cancelations made by the drivers we can consider them as low quality drivers as if they only have a few number of cancelations it may be due to extraordinary causes. \n",
    "\n",
    "For this i can only focus on absolute numbers, but instead I will have to look at the % of journeys they have cancelled. (its not the same to cancel 8 out of 300 that 2 out of 15. Therefore we first need to check the % cancelation."
   ]
  },
  {
   "cell_type": "code",
   "execution_count": 13,
   "id": "6e499102",
   "metadata": {},
   "outputs": [],
   "source": [
    "driver_canceling.set_index(\"driver_id\",inplace=True)"
   ]
  },
  {
   "cell_type": "code",
   "execution_count": 14,
   "id": "533987c8",
   "metadata": {},
   "outputs": [
    {
     "name": "stderr",
     "output_type": "stream",
     "text": [
      "/var/folders/tr/7ry1klqj22sglvfj6nq3g5kw0000gn/T/ipykernel_57870/2160433506.py:1: SettingWithCopyWarning: \n",
      "A value is trying to be set on a copy of a slice from a DataFrame.\n",
      "Try using .loc[row_indexer,col_indexer] = value instead\n",
      "\n",
      "See the caveats in the documentation: https://pandas.pydata.org/pandas-docs/stable/user_guide/indexing.html#returning-a-view-versus-a-copy\n",
      "  driver_canceling[\"total_journeys\"]=0\n"
     ]
    }
   ],
   "source": [
    "driver_canceling[\"total_journeys\"]=0"
   ]
  },
  {
   "cell_type": "code",
   "execution_count": 17,
   "id": "809b337c",
   "metadata": {},
   "outputs": [],
   "source": [
    "journeys=data.groupby(\"driver_id\").count()"
   ]
  },
  {
   "cell_type": "code",
   "execution_count": 19,
   "id": "6ca7f841",
   "metadata": {},
   "outputs": [],
   "source": [
    "driver_canceling=driver_canceling.assign(total_journeys=journeys[\"journey_id\"])"
   ]
  },
  {
   "cell_type": "code",
   "execution_count": 21,
   "id": "a6c58d9e",
   "metadata": {},
   "outputs": [],
   "source": [
    "driver_canceling[\"percentage cancelled\"]=(driver_canceling.journey_id/driver_canceling.total_journeys)*100"
   ]
  },
  {
   "cell_type": "markdown",
   "id": "5dde7b73",
   "metadata": {},
   "source": [
    "I am going to classify as low quality drivers those with a percentage of trips cancelled by them greater than 8%"
   ]
  },
  {
   "cell_type": "code",
   "execution_count": 31,
   "id": "f9cce1ff",
   "metadata": {},
   "outputs": [],
   "source": [
    "low_quality_drivers=driver_canceling.index[driver_canceling[\"percentage cancelled\"]>=8]"
   ]
  },
  {
   "cell_type": "code",
   "execution_count": 74,
   "id": "1b7f6caf",
   "metadata": {},
   "outputs": [],
   "source": [
    "low_quality_drivers=list(low_quality_drivers)"
   ]
  },
  {
   "cell_type": "code",
   "execution_count": 79,
   "id": "759ba682",
   "metadata": {},
   "outputs": [],
   "source": [
    "medium_quality_drivers=driver_canceling.index[(driver_canceling[\"percentage cancelled\"]>=4)&(driver_canceling[\"percentage cancelled\"]<=8)]"
   ]
  },
  {
   "cell_type": "code",
   "execution_count": 80,
   "id": "aec899fe",
   "metadata": {},
   "outputs": [],
   "source": [
    "medium_quality_drivers=list(medium_quality_drivers)"
   ]
  },
  {
   "cell_type": "code",
   "execution_count": 81,
   "id": "dfbfc189",
   "metadata": {},
   "outputs": [],
   "source": [
    "high_quality_drivers=driver_canceling.index[driver_canceling[\"percentage cancelled\"]<4]"
   ]
  },
  {
   "cell_type": "code",
   "execution_count": 82,
   "id": "fdc2f5be",
   "metadata": {},
   "outputs": [],
   "source": [
    "high_quality_drivers=list(high_quality_drivers)"
   ]
  },
  {
   "cell_type": "markdown",
   "id": "5d1cc686",
   "metadata": {},
   "source": [
    "#### Now Im going to focus on the rating of the drivers"
   ]
  },
  {
   "cell_type": "code",
   "execution_count": 28,
   "id": "23d2feb7",
   "metadata": {},
   "outputs": [],
   "source": [
    "ratings=data[[\"driver_id\",\"rider_score\",\"driver_score\"]]"
   ]
  },
  {
   "cell_type": "code",
   "execution_count": 30,
   "id": "3c1db05b",
   "metadata": {},
   "outputs": [],
   "source": [
    "ratings=ratings.groupby(\"driver_id\").mean()"
   ]
  },
  {
   "cell_type": "markdown",
   "id": "c35047a3",
   "metadata": {},
   "source": [
    "We are going to set as:\n",
    "\n",
    "low quality drivers those that have a rating below 3.5, \n",
    "\n",
    "\n",
    "medium quality those with rating above 3.5 and below 4.5 \n",
    "\n",
    "\n",
    "high quality those with rating higher than or equal to 4.5"
   ]
  },
  {
   "cell_type": "code",
   "execution_count": 76,
   "id": "3ffdb8a9",
   "metadata": {},
   "outputs": [],
   "source": [
    "for i in range(len(ratings.index)):      \n",
    "\n",
    "    if ratings.driver_score[i]<3.5:\n",
    "        \n",
    "        low_quality_drivers.append(ratings.id[i])       "
   ]
  },
  {
   "cell_type": "code",
   "execution_count": 83,
   "id": "1e68a256",
   "metadata": {},
   "outputs": [],
   "source": [
    "for i in range(len(ratings.index)):      \n",
    "\n",
    "    if ratings.driver_score[i]<4.5 and ratings.driver_score[i]>=3.5 and ratings.driver_score[i] not in low_quality_drivers:\n",
    "        \n",
    "        medium_quality_drivers.append(ratings.id[i])       "
   ]
  },
  {
   "cell_type": "code",
   "execution_count": 87,
   "id": "6836ed14",
   "metadata": {},
   "outputs": [],
   "source": [
    "for i in range(len(ratings.index)):      \n",
    "\n",
    "    if ratings.driver_score[i]>=4.5 and ratings.driver_score[i] not in medium_quality_drivers and ratings.driver_score[i] not in low_quality_drivers:\n",
    "        \n",
    "        high_quality_drivers.append(ratings.id[i])  "
   ]
  },
  {
   "cell_type": "markdown",
   "id": "194bf5a8",
   "metadata": {},
   "source": [
    "#### We check \"failure\" and \"not found\" trips"
   ]
  },
  {
   "cell_type": "markdown",
   "id": "01600c3e",
   "metadata": {},
   "source": [
    "For these type of trips we see that not found ones are due to the app not finding a driver and failure might be due to a fail in the app. Therefore thse wont be relevant right now to classify riders"
   ]
  },
  {
   "cell_type": "markdown",
   "id": "ca36f7f9",
   "metadata": {},
   "source": [
    "#### Number of trips"
   ]
  },
  {
   "cell_type": "markdown",
   "id": "c41574f5",
   "metadata": {},
   "source": [
    "Now we are going to classify drivers according to the time they work for us and the amount of profit (price-cost) they report on average to the company and we will classify them in low_productibity_drivers, medium_productibity_drivers and high_productibity_drivers"
   ]
  },
  {
   "cell_type": "markdown",
   "id": "468e6b35",
   "metadata": {},
   "source": [
    "-low_productibity_drivers below the 30th percentile\n",
    "\n",
    "-medium_productibity_drivers below the 60th percentile and above the 30th \n",
    "\n",
    "-high_productibity_drivers above the 60th percentile"
   ]
  },
  {
   "cell_type": "code",
   "execution_count": 102,
   "id": "69e578a7",
   "metadata": {},
   "outputs": [
    {
     "data": {
      "text/plain": [
       "25.0"
      ]
     },
     "execution_count": 102,
     "metadata": {},
     "output_type": "execute_result"
    }
   ],
   "source": [
    "journeys.journey_id.median()"
   ]
  },
  {
   "cell_type": "code",
   "execution_count": 109,
   "id": "f6249178",
   "metadata": {},
   "outputs": [
    {
     "data": {
      "text/plain": [
       "9.0"
      ]
     },
     "execution_count": 109,
     "metadata": {},
     "output_type": "execute_result"
    }
   ],
   "source": [
    "journeys.journey_id.quantile(0.30)"
   ]
  },
  {
   "cell_type": "code",
   "execution_count": 104,
   "id": "12d24b54",
   "metadata": {},
   "outputs": [
    {
     "data": {
      "text/plain": [
       "89.5"
      ]
     },
     "execution_count": 104,
     "metadata": {},
     "output_type": "execute_result"
    }
   ],
   "source": [
    "journeys.journey_id.quantile(0.75)"
   ]
  },
  {
   "cell_type": "code",
   "execution_count": null,
   "id": "dd98c7cb",
   "metadata": {},
   "outputs": [],
   "source": []
  },
  {
   "cell_type": "code",
   "execution_count": null,
   "id": "21151898",
   "metadata": {},
   "outputs": [],
   "source": []
  },
  {
   "cell_type": "code",
   "execution_count": null,
   "id": "6e6fc23d",
   "metadata": {},
   "outputs": [],
   "source": []
  },
  {
   "cell_type": "code",
   "execution_count": null,
   "id": "ffde42f7",
   "metadata": {},
   "outputs": [],
   "source": []
  },
  {
   "cell_type": "code",
   "execution_count": null,
   "id": "fdaa2b07",
   "metadata": {},
   "outputs": [],
   "source": []
  },
  {
   "cell_type": "code",
   "execution_count": null,
   "id": "44eced8b",
   "metadata": {},
   "outputs": [],
   "source": []
  },
  {
   "cell_type": "code",
   "execution_count": null,
   "id": "1eb828f8",
   "metadata": {},
   "outputs": [],
   "source": []
  },
  {
   "cell_type": "markdown",
   "id": "717ab977",
   "metadata": {},
   "source": [
    "from math import radians, cos, sin, asin, sqrt\n",
    "def distance(lat1, lat2, lon1, lon2):\n",
    "     \n",
    "    # The math module contains a function named\n",
    "    # radians which converts from degrees to radians.\n",
    "    lon1 = radians(lon1)\n",
    "    lon2 = radians(lon2)\n",
    "    lat1 = radians(lat1)\n",
    "    lat2 = radians(lat2)\n",
    "      \n",
    "    # Haversine formula\n",
    "    dlon = lon2 - lon1\n",
    "    dlat = lat2 - lat1\n",
    "    a = sin(dlat / 2)**2 + cos(lat1) * cos(lat2) * sin(dlon / 2)**2\n",
    " \n",
    "    c = 2 * asin(sqrt(a))\n",
    "    \n",
    "    # Radius of earth in kilometers. Use 3956 for miles\n",
    "    r = 6371\n",
    "      \n",
    "    # calculate the result\n",
    "    return(c * r)\n",
    "     \n",
    "     \n",
    "# driver code\n"
   ]
  },
  {
   "cell_type": "code",
   "execution_count": null,
   "id": "e3b6364a",
   "metadata": {},
   "outputs": [],
   "source": []
  }
 ],
 "metadata": {
  "kernelspec": {
   "display_name": "Ironhack",
   "language": "python",
   "name": "ironhack"
  },
  "language_info": {
   "codemirror_mode": {
    "name": "ipython",
    "version": 3
   },
   "file_extension": ".py",
   "mimetype": "text/x-python",
   "name": "python",
   "nbconvert_exporter": "python",
   "pygments_lexer": "ipython3",
   "version": "3.9.7"
  }
 },
 "nbformat": 4,
 "nbformat_minor": 5
}
