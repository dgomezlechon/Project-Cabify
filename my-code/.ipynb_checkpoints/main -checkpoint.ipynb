{
 "cells": [
  {
   "cell_type": "markdown",
   "id": "99f15dae",
   "metadata": {},
   "source": [
    "We install and import the libraries needed"
   ]
  },
  {
   "cell_type": "code",
   "execution_count": 1,
   "id": "276ddddc",
   "metadata": {},
   "outputs": [
    {
     "name": "stdout",
     "output_type": "stream",
     "text": [
      "Requirement already satisfied: openpyxl in /Users/danigomezlechonbarrachina/opt/anaconda3/envs/Ironhack/lib/python3.9/site-packages (3.0.9)\n",
      "Requirement already satisfied: et-xmlfile in /Users/danigomezlechonbarrachina/opt/anaconda3/envs/Ironhack/lib/python3.9/site-packages (from openpyxl) (1.1.0)\n",
      "Note: you may need to restart the kernel to use updated packages.\n"
     ]
    }
   ],
   "source": [
    "pip install openpyxl"
   ]
  },
  {
   "cell_type": "code",
   "execution_count": 2,
   "id": "b8dce6ed",
   "metadata": {},
   "outputs": [],
   "source": [
    "import pandas as pd "
   ]
  },
  {
   "cell_type": "markdown",
   "id": "d13d40bc",
   "metadata": {},
   "source": [
    "I import the data from excel into Pandas"
   ]
  },
  {
   "cell_type": "code",
   "execution_count": 3,
   "id": "f9efb6bd",
   "metadata": {},
   "outputs": [],
   "source": [
    "data=pd.read_excel(\"../data/Data_BC_GlobalDelivery (1).xlsx\")"
   ]
  },
  {
   "cell_type": "code",
   "execution_count": 171,
   "id": "f58b67fc",
   "metadata": {},
   "outputs": [
    {
     "data": {
      "text/html": [
       "<div>\n",
       "<style scoped>\n",
       "    .dataframe tbody tr th:only-of-type {\n",
       "        vertical-align: middle;\n",
       "    }\n",
       "\n",
       "    .dataframe tbody tr th {\n",
       "        vertical-align: top;\n",
       "    }\n",
       "\n",
       "    .dataframe thead th {\n",
       "        text-align: right;\n",
       "    }\n",
       "</style>\n",
       "<table border=\"1\" class=\"dataframe\">\n",
       "  <thead>\n",
       "    <tr style=\"text-align: right;\">\n",
       "      <th></th>\n",
       "      <th>journey_id</th>\n",
       "      <th>user_id</th>\n",
       "      <th>driver_id</th>\n",
       "      <th>icon</th>\n",
       "      <th>start_type</th>\n",
       "      <th>start_at</th>\n",
       "      <th>start_lat</th>\n",
       "      <th>start_lon</th>\n",
       "      <th>end_at</th>\n",
       "      <th>end_lat</th>\n",
       "      <th>...</th>\n",
       "      <th>price_distance</th>\n",
       "      <th>price_duration</th>\n",
       "      <th>distance</th>\n",
       "      <th>duration</th>\n",
       "      <th>cost</th>\n",
       "      <th>cost_distance</th>\n",
       "      <th>cost_duration</th>\n",
       "      <th>source</th>\n",
       "      <th>driver_score</th>\n",
       "      <th>rider_score</th>\n",
       "    </tr>\n",
       "  </thead>\n",
       "  <tbody>\n",
       "    <tr>\n",
       "      <th>0</th>\n",
       "      <td>23a1406fc6a11d866e3c82f22eed4d4c</td>\n",
       "      <td>0e9af5bbf1edfe591b54ecdfd7e91e26</td>\n",
       "      <td>583949a89a9ee17d19e3ca4f137b6b4c</td>\n",
       "      <td>executive</td>\n",
       "      <td>asap</td>\n",
       "      <td>2010-11-16 16:44:52.000002</td>\n",
       "      <td>-12.139835</td>\n",
       "      <td>-77.023560</td>\n",
       "      <td>2010-11-16 17:29:56.999996</td>\n",
       "      <td>-12.055370</td>\n",
       "      <td>...</td>\n",
       "      <td>3626.0</td>\n",
       "      <td>195.0</td>\n",
       "      <td>11331.0</td>\n",
       "      <td>234.0</td>\n",
       "      <td>0.0</td>\n",
       "      <td>0.0</td>\n",
       "      <td>0.0</td>\n",
       "      <td>iPhone</td>\n",
       "      <td>5.0</td>\n",
       "      <td>5.0</td>\n",
       "    </tr>\n",
       "    <tr>\n",
       "      <th>1</th>\n",
       "      <td>85b7eabcf5d84e42dc7629b7d27781af</td>\n",
       "      <td>56772d544fdfa589a020a1ff894a86f7</td>\n",
       "      <td>d665fb9f75ef5d9cd0fd89479380ba78</td>\n",
       "      <td>executive</td>\n",
       "      <td>reserved</td>\n",
       "      <td>2010-09-11 23:55:00.000002</td>\n",
       "      <td>-12.089954</td>\n",
       "      <td>-76.926270</td>\n",
       "      <td>2010-09-12 01:07:01.999998</td>\n",
       "      <td>-12.022232</td>\n",
       "      <td>...</td>\n",
       "      <td>7665.0</td>\n",
       "      <td>562.0</td>\n",
       "      <td>30270.0</td>\n",
       "      <td>715.0</td>\n",
       "      <td>6173.0</td>\n",
       "      <td>5756.0</td>\n",
       "      <td>417.0</td>\n",
       "      <td>iPhone</td>\n",
       "      <td>4.0</td>\n",
       "      <td>5.0</td>\n",
       "    </tr>\n",
       "    <tr>\n",
       "      <th>2</th>\n",
       "      <td>2254715f0f569e3173ec61f16cbb8341</td>\n",
       "      <td>56772d544fdfa589a020a1ff894a86f7</td>\n",
       "      <td>baacf396f773709519bbde35a5eab861</td>\n",
       "      <td>executive</td>\n",
       "      <td>reserved</td>\n",
       "      <td>2010-08-10 13:00:00.000003</td>\n",
       "      <td>-12.022419</td>\n",
       "      <td>-77.106506</td>\n",
       "      <td>2010-08-10 14:26:51.000003</td>\n",
       "      <td>-12.089802</td>\n",
       "      <td>...</td>\n",
       "      <td>7393.0</td>\n",
       "      <td>1001.0</td>\n",
       "      <td>29080.0</td>\n",
       "      <td>1201.0</td>\n",
       "      <td>5875.0</td>\n",
       "      <td>5175.0</td>\n",
       "      <td>700.0</td>\n",
       "      <td>iPhone</td>\n",
       "      <td>NaN</td>\n",
       "      <td>4.0</td>\n",
       "    </tr>\n",
       "    <tr>\n",
       "      <th>3</th>\n",
       "      <td>12432d83b49393bf25164673212b8295</td>\n",
       "      <td>56772d544fdfa589a020a1ff894a86f7</td>\n",
       "      <td>e1332f68e81526e498e4d845233a6d7d</td>\n",
       "      <td>executive</td>\n",
       "      <td>reserved</td>\n",
       "      <td>2010-08-08 12:09:59.999996</td>\n",
       "      <td>-12.089958</td>\n",
       "      <td>-76.926208</td>\n",
       "      <td>2010-08-08 12:48:02.000002</td>\n",
       "      <td>-12.021523</td>\n",
       "      <td>...</td>\n",
       "      <td>7112.0</td>\n",
       "      <td>0.0</td>\n",
       "      <td>27230.0</td>\n",
       "      <td>0.0</td>\n",
       "      <td>5340.0</td>\n",
       "      <td>5340.0</td>\n",
       "      <td>0.0</td>\n",
       "      <td>iPhone</td>\n",
       "      <td>5.0</td>\n",
       "      <td>5.0</td>\n",
       "    </tr>\n",
       "    <tr>\n",
       "      <th>4</th>\n",
       "      <td>2e51db3a8a77aa594aa686ff19fe6036</td>\n",
       "      <td>56772d544fdfa589a020a1ff894a86f7</td>\n",
       "      <td>d665fb9f75ef5d9cd0fd89479380ba78</td>\n",
       "      <td>executive</td>\n",
       "      <td>asap</td>\n",
       "      <td>2010-05-16 03:58:58.999996</td>\n",
       "      <td>-12.113472</td>\n",
       "      <td>-77.043854</td>\n",
       "      <td>2010-05-16 04:40:34.999997</td>\n",
       "      <td>-12.091087</td>\n",
       "      <td>...</td>\n",
       "      <td>5519.0</td>\n",
       "      <td>193.0</td>\n",
       "      <td>17247.0</td>\n",
       "      <td>232.0</td>\n",
       "      <td>4282.0</td>\n",
       "      <td>4139.0</td>\n",
       "      <td>143.0</td>\n",
       "      <td>iPhone</td>\n",
       "      <td>5.0</td>\n",
       "      <td>5.0</td>\n",
       "    </tr>\n",
       "  </tbody>\n",
       "</table>\n",
       "<p>5 rows × 27 columns</p>\n",
       "</div>"
      ],
      "text/plain": [
       "                         journey_id                           user_id  \\\n",
       "0  23a1406fc6a11d866e3c82f22eed4d4c  0e9af5bbf1edfe591b54ecdfd7e91e26   \n",
       "1  85b7eabcf5d84e42dc7629b7d27781af  56772d544fdfa589a020a1ff894a86f7   \n",
       "2  2254715f0f569e3173ec61f16cbb8341  56772d544fdfa589a020a1ff894a86f7   \n",
       "3  12432d83b49393bf25164673212b8295  56772d544fdfa589a020a1ff894a86f7   \n",
       "4  2e51db3a8a77aa594aa686ff19fe6036  56772d544fdfa589a020a1ff894a86f7   \n",
       "\n",
       "                          driver_id       icon start_type  \\\n",
       "0  583949a89a9ee17d19e3ca4f137b6b4c  executive       asap   \n",
       "1  d665fb9f75ef5d9cd0fd89479380ba78  executive   reserved   \n",
       "2  baacf396f773709519bbde35a5eab861  executive   reserved   \n",
       "3  e1332f68e81526e498e4d845233a6d7d  executive   reserved   \n",
       "4  d665fb9f75ef5d9cd0fd89479380ba78  executive       asap   \n",
       "\n",
       "                    start_at  start_lat  start_lon                     end_at  \\\n",
       "0 2010-11-16 16:44:52.000002 -12.139835 -77.023560 2010-11-16 17:29:56.999996   \n",
       "1 2010-09-11 23:55:00.000002 -12.089954 -76.926270 2010-09-12 01:07:01.999998   \n",
       "2 2010-08-10 13:00:00.000003 -12.022419 -77.106506 2010-08-10 14:26:51.000003   \n",
       "3 2010-08-08 12:09:59.999996 -12.089958 -76.926208 2010-08-08 12:48:02.000002   \n",
       "4 2010-05-16 03:58:58.999996 -12.113472 -77.043854 2010-05-16 04:40:34.999997   \n",
       "\n",
       "     end_lat  ...  price_distance price_duration  distance  duration    cost  \\\n",
       "0 -12.055370  ...          3626.0          195.0   11331.0     234.0     0.0   \n",
       "1 -12.022232  ...          7665.0          562.0   30270.0     715.0  6173.0   \n",
       "2 -12.089802  ...          7393.0         1001.0   29080.0    1201.0  5875.0   \n",
       "3 -12.021523  ...          7112.0            0.0   27230.0       0.0  5340.0   \n",
       "4 -12.091087  ...          5519.0          193.0   17247.0     232.0  4282.0   \n",
       "\n",
       "  cost_distance  cost_duration  source  driver_score  rider_score  \n",
       "0           0.0            0.0  iPhone           5.0          5.0  \n",
       "1        5756.0          417.0  iPhone           4.0          5.0  \n",
       "2        5175.0          700.0  iPhone           NaN          4.0  \n",
       "3        5340.0            0.0  iPhone           5.0          5.0  \n",
       "4        4139.0          143.0  iPhone           5.0          5.0  \n",
       "\n",
       "[5 rows x 27 columns]"
      ]
     },
     "execution_count": 171,
     "metadata": {},
     "output_type": "execute_result"
    }
   ],
   "source": [
    "data.head()"
   ]
  },
  {
   "cell_type": "markdown",
   "id": "f337ce8c",
   "metadata": {},
   "source": [
    "### Exploring and analyzing drivers data"
   ]
  },
  {
   "cell_type": "code",
   "execution_count": 4,
   "id": "803edf57",
   "metadata": {},
   "outputs": [],
   "source": [
    "drivers=data.driver_id.unique()"
   ]
  },
  {
   "cell_type": "code",
   "execution_count": 5,
   "id": "99e411fd",
   "metadata": {},
   "outputs": [
    {
     "data": {
      "text/plain": [
       "169"
      ]
     },
     "execution_count": 5,
     "metadata": {},
     "output_type": "execute_result"
    }
   ],
   "source": [
    "len(drivers)"
   ]
  },
  {
   "cell_type": "markdown",
   "id": "6069c31c",
   "metadata": {},
   "source": [
    "I drop the records for which we dont have a driver_id as they wont be useful for the analysis"
   ]
  },
  {
   "cell_type": "code",
   "execution_count": 6,
   "id": "974b25fa",
   "metadata": {},
   "outputs": [],
   "source": [
    "data=data[data.driver_id.notna()]"
   ]
  },
  {
   "cell_type": "code",
   "execution_count": 7,
   "id": "57422ac4",
   "metadata": {},
   "outputs": [],
   "source": [
    "data.reset_index(inplace=True)"
   ]
  },
  {
   "cell_type": "code",
   "execution_count": 26,
   "id": "260646e0",
   "metadata": {},
   "outputs": [],
   "source": [
    "data=data.drop(\"index\",axis=1)"
   ]
  },
  {
   "cell_type": "code",
   "execution_count": 9,
   "id": "d74687d3",
   "metadata": {},
   "outputs": [],
   "source": [
    "data2=data[[\"driver_id\",\"journey_id\",\"price\",\"cost\",\"end_state\",\"driver_score\",\"rider_score\"]]"
   ]
  },
  {
   "cell_type": "code",
   "execution_count": 10,
   "id": "907f6920",
   "metadata": {},
   "outputs": [],
   "source": [
    "\n",
    "driv_summary=data2.groupby([\"driver_id\",\"end_state\"]).agg({\"journey_id\":\"count\",\"price\":\"sum\",\"cost\":\"sum\",\"driver_score\":\"mean\",\"rider_score\":\"mean\"})"
   ]
  },
  {
   "cell_type": "code",
   "execution_count": 11,
   "id": "f53994e4",
   "metadata": {},
   "outputs": [],
   "source": [
    "driv_summary.reset_index(inplace=True)"
   ]
  },
  {
   "cell_type": "code",
   "execution_count": 12,
   "id": "1a740eb4",
   "metadata": {},
   "outputs": [],
   "source": [
    "driver_canceling=driv_summary[driv_summary.end_state==\"driver cancel\"]"
   ]
  },
  {
   "cell_type": "markdown",
   "id": "6435c139",
   "metadata": {},
   "source": [
    "There are 168 different riders, of which 65 have canceled their journeys (\"driver cancel\") at least once"
   ]
  },
  {
   "cell_type": "markdown",
   "id": "615b7855",
   "metadata": {},
   "source": [
    "At this point I have to decide from which amount of cancelations made by the drivers we can consider them as low quality drivers as if they only have a few number of cancelations it may be due to extraordinary causes. \n",
    "\n",
    "For this i can only focus on absolute numbers, but instead I will have to look at the % of journeys they have cancelled. (its not the same to cancel 8 out of 300 that 2 out of 15. Therefore we first need to check the % cancelation."
   ]
  },
  {
   "cell_type": "code",
   "execution_count": 13,
   "id": "638e759a",
   "metadata": {},
   "outputs": [],
   "source": [
    "driver_canceling.set_index(\"driver_id\",inplace=True)"
   ]
  },
  {
   "cell_type": "code",
   "execution_count": 14,
   "id": "f35c9da5",
   "metadata": {},
   "outputs": [
    {
     "name": "stderr",
     "output_type": "stream",
     "text": [
      "/var/folders/tr/7ry1klqj22sglvfj6nq3g5kw0000gn/T/ipykernel_57870/2160433506.py:1: SettingWithCopyWarning: \n",
      "A value is trying to be set on a copy of a slice from a DataFrame.\n",
      "Try using .loc[row_indexer,col_indexer] = value instead\n",
      "\n",
      "See the caveats in the documentation: https://pandas.pydata.org/pandas-docs/stable/user_guide/indexing.html#returning-a-view-versus-a-copy\n",
      "  driver_canceling[\"total_journeys\"]=0\n"
     ]
    }
   ],
   "source": [
    "driver_canceling[\"total_journeys\"]=0"
   ]
  },
  {
   "cell_type": "code",
   "execution_count": 17,
   "id": "d10473f3",
   "metadata": {},
   "outputs": [],
   "source": [
    "journeys=data.groupby(\"driver_id\").count()"
   ]
  },
  {
   "cell_type": "code",
   "execution_count": 19,
   "id": "d016fdfc",
   "metadata": {},
   "outputs": [],
   "source": [
    "driver_canceling=driver_canceling.assign(total_journeys=journeys[\"journey_id\"])"
   ]
  },
  {
   "cell_type": "code",
   "execution_count": 21,
   "id": "766d1a69",
   "metadata": {},
   "outputs": [],
   "source": [
    "driver_canceling[\"percentage cancelled\"]=(driver_canceling.journey_id/driver_canceling.total_journeys)*100"
   ]
  },
  {
   "cell_type": "markdown",
   "id": "931fdcf7",
   "metadata": {},
   "source": [
    "I am going to classify as low quality drivers those with a percentage of trips cancelled by them greater than 8%"
   ]
  },
  {
   "cell_type": "code",
   "execution_count": 31,
   "id": "ad1f33ed",
   "metadata": {},
   "outputs": [],
   "source": [
    "low_quality_drivers=driver_canceling.index[driver_canceling[\"percentage cancelled\"]>=8]"
   ]
  },
  {
   "cell_type": "code",
   "execution_count": 74,
   "id": "3aa71f55",
   "metadata": {},
   "outputs": [],
   "source": [
    "low_quality_drivers=list(low_quality_drivers)"
   ]
  },
  {
   "cell_type": "code",
   "execution_count": 79,
   "id": "c6f5209a",
   "metadata": {},
   "outputs": [],
   "source": [
    "medium_quality_drivers=driver_canceling.index[(driver_canceling[\"percentage cancelled\"]>=4)&(driver_canceling[\"percentage cancelled\"]<=8)]"
   ]
  },
  {
   "cell_type": "code",
   "execution_count": 80,
   "id": "443a3d12",
   "metadata": {},
   "outputs": [],
   "source": [
    "medium_quality_drivers=list(medium_quality_drivers)"
   ]
  },
  {
   "cell_type": "code",
   "execution_count": 81,
   "id": "d26aecac",
   "metadata": {},
   "outputs": [],
   "source": [
    "high_quality_drivers=driver_canceling.index[driver_canceling[\"percentage cancelled\"]<4]"
   ]
  },
  {
   "cell_type": "code",
   "execution_count": 82,
   "id": "44cd1ed6",
   "metadata": {},
   "outputs": [],
   "source": [
    "high_quality_drivers=list(high_quality_drivers)"
   ]
  },
  {
   "cell_type": "markdown",
   "id": "cc6895a6",
   "metadata": {},
   "source": [
    "#### Now Im going to focus on the rating of the drivers"
   ]
  },
  {
   "cell_type": "code",
   "execution_count": 28,
   "id": "207cc202",
   "metadata": {},
   "outputs": [],
   "source": [
    "ratings=data[[\"driver_id\",\"rider_score\",\"driver_score\"]]"
   ]
  },
  {
   "cell_type": "code",
   "execution_count": 30,
   "id": "68704586",
   "metadata": {},
   "outputs": [],
   "source": [
    "ratings=ratings.groupby(\"driver_id\").mean()"
   ]
  },
  {
   "cell_type": "markdown",
   "id": "b8652b83",
   "metadata": {},
   "source": [
    "We are going to set as:\n",
    "\n",
    "low quality drivers those that have a rating below 3.5, \n",
    "\n",
    "\n",
    "medium quality those with rating above 3.5 and below 4.5 \n",
    "\n",
    "\n",
    "high quality those with rating higher than or equal to 4.5"
   ]
  },
  {
   "cell_type": "code",
   "execution_count": 174,
   "id": "1d1ea05c",
   "metadata": {},
   "outputs": [],
   "source": [
    "for i in range(len(ratings.index)):      \n",
    "\n",
    "    if ratings.driver_score[i]<3.5:\n",
    "        \n",
    "        low_quality_drivers.append(ratings.index[i])       "
   ]
  },
  {
   "cell_type": "code",
   "execution_count": 179,
   "id": "de852d80",
   "metadata": {},
   "outputs": [],
   "source": [
    "for i in range(len(ratings.index)):      \n",
    "\n",
    "    if ratings.driver_score[i]<4.5 and ratings.driver_score[i]>=3.5 and ratings.driver_score[i] not in low_quality_drivers:\n",
    "        \n",
    "        medium_quality_drivers.append(ratings.index[i])       "
   ]
  },
  {
   "cell_type": "code",
   "execution_count": 87,
   "id": "2ea32e2c",
   "metadata": {},
   "outputs": [],
   "source": [
    "for i in range(len(ratings.index)):      \n",
    "\n",
    "    if ratings.driver_score[i]>=4.5 and ratings.driver_score[i] not in medium_quality_drivers and ratings.driver_score[i] not in low_quality_drivers:\n",
    "        \n",
    "        high_quality_drivers.append(ratings.index[i])  "
   ]
  },
  {
   "cell_type": "markdown",
   "id": "6d5ffc52",
   "metadata": {},
   "source": [
    "#### We check \"failure\" and \"not found\" trips"
   ]
  },
  {
   "cell_type": "markdown",
   "id": "591bcf6d",
   "metadata": {},
   "source": [
    "For these type of trips we see that not found ones are due to the app not finding a driver and failure might be due to a fail in the app. Therefore thse wont be relevant right now to classify riders"
   ]
  },
  {
   "cell_type": "markdown",
   "id": "f6bdc1ba",
   "metadata": {},
   "source": [
    "#### Number of trips"
   ]
  },
  {
   "cell_type": "markdown",
   "id": "aaf65cac",
   "metadata": {},
   "source": [
    "Now we are going to classify drivers according to the time they work for us and the amount of profit (price-cost) they report on average to the company and we will classify them in low_productibity_drivers, medium_productibity_drivers and high_productibity_drivers"
   ]
  },
  {
   "cell_type": "markdown",
   "id": "9e923ba8",
   "metadata": {},
   "source": [
    "-low_productibity_drivers below the 30th percentile\n",
    "\n",
    "-medium_productibity_drivers below the 60th percentile and above the 30th \n",
    "\n",
    "-high_productibity_drivers above the 75th percentile"
   ]
  },
  {
   "cell_type": "code",
   "execution_count": 109,
   "id": "70f0114a",
   "metadata": {},
   "outputs": [
    {
     "data": {
      "text/plain": [
       "9.0"
      ]
     },
     "execution_count": 109,
     "metadata": {},
     "output_type": "execute_result"
    }
   ],
   "source": [
    "journeys.journey_id.quantile(0.30)"
   ]
  },
  {
   "cell_type": "code",
   "execution_count": 118,
   "id": "2a6d73d9",
   "metadata": {},
   "outputs": [],
   "source": [
    "low_productibity_drivers=journeys.index[journeys.journey_id<journeys.journey_id.quantile(0.30)]"
   ]
  },
  {
   "cell_type": "code",
   "execution_count": 121,
   "id": "02418bb7",
   "metadata": {},
   "outputs": [],
   "source": [
    "low_productibity_drivers=list(low_productibity_drivers)"
   ]
  },
  {
   "cell_type": "code",
   "execution_count": 102,
   "id": "a306d3a6",
   "metadata": {},
   "outputs": [
    {
     "data": {
      "text/plain": [
       "25.0"
      ]
     },
     "execution_count": 102,
     "metadata": {},
     "output_type": "execute_result"
    }
   ],
   "source": [
    "journeys.journey_id.median()"
   ]
  },
  {
   "cell_type": "code",
   "execution_count": 172,
   "id": "a4b7e16b",
   "metadata": {},
   "outputs": [
    {
     "data": {
      "text/plain": [
       "117.41666666666667"
      ]
     },
     "execution_count": 172,
     "metadata": {},
     "output_type": "execute_result"
    }
   ],
   "source": [
    "journeys.journey_id.mean()"
   ]
  },
  {
   "cell_type": "code",
   "execution_count": 132,
   "id": "113efa1e",
   "metadata": {},
   "outputs": [],
   "source": [
    "medium_productibity_drivers=journeys.index[(journeys.journey_id<journeys.journey_id.quantile(0.50)) & (journeys.journey_id>=journeys.journey_id.quantile(0.30))]"
   ]
  },
  {
   "cell_type": "code",
   "execution_count": 168,
   "id": "246a0b6b",
   "metadata": {},
   "outputs": [],
   "source": [
    "medium_productibity_drivers=list(medium_productibity_drivers)"
   ]
  },
  {
   "cell_type": "code",
   "execution_count": 104,
   "id": "023692f2",
   "metadata": {},
   "outputs": [
    {
     "data": {
      "text/plain": [
       "89.5"
      ]
     },
     "execution_count": 104,
     "metadata": {},
     "output_type": "execute_result"
    }
   ],
   "source": [
    "journeys.journey_id.quantile(0.75)"
   ]
  },
  {
   "cell_type": "code",
   "execution_count": 137,
   "id": "1a599acd",
   "metadata": {},
   "outputs": [],
   "source": [
    "high_productibity_drivers=journeys.index[journeys.journey_id<journeys.journey_id.quantile(0.75)]"
   ]
  },
  {
   "cell_type": "code",
   "execution_count": 138,
   "id": "f9a8500f",
   "metadata": {},
   "outputs": [],
   "source": [
    "high_productibity_drivers=list(high_productibity_drivers)"
   ]
  },
  {
   "cell_type": "markdown",
   "id": "b8f0d326",
   "metadata": {},
   "source": [
    "Now Im going to calculate the average duration per trip and the average profit they make per trip as well as the total amount"
   ]
  },
  {
   "cell_type": "code",
   "execution_count": 140,
   "id": "30cdd525",
   "metadata": {},
   "outputs": [],
   "source": [
    "trips=data[[\"driver_id\",\"price\",\"cost\",\"duration\",\"journey_id\"]]"
   ]
  },
  {
   "cell_type": "code",
   "execution_count": 141,
   "id": "6477af3f",
   "metadata": {},
   "outputs": [],
   "source": [
    "trips=trips.groupby(\"driver_id\").agg({\"price\":\"sum\",\"cost\":\"sum\",\"duration\":\"sum\",\"journey_id\":\"count\"})"
   ]
  },
  {
   "cell_type": "code",
   "execution_count": 143,
   "id": "7f2e990d",
   "metadata": {},
   "outputs": [],
   "source": [
    "trips[\"profit\"]=trips.price-trips.cost"
   ]
  },
  {
   "cell_type": "code",
   "execution_count": 145,
   "id": "ba670419",
   "metadata": {},
   "outputs": [],
   "source": [
    "trips[\"avg_profit\"]=trips.profit/trips.journey_id"
   ]
  },
  {
   "cell_type": "code",
   "execution_count": 153,
   "id": "f3fe1495",
   "metadata": {},
   "outputs": [],
   "source": [
    "loose_money=trips[trips.profit<0]"
   ]
  },
  {
   "cell_type": "markdown",
   "id": "5ace4a57",
   "metadata": {},
   "source": [
    "We see there are drivers that eventhough might have a considerable amount of trips, are loosing money, therefore we will classify them as low_productivity_drivers\n",
    "\n",
    "I will classify as medium those with an average profit below the 0.5 quantile and above 0 and as high those between the 50th and 100th quartiles"
   ]
  },
  {
   "cell_type": "code",
   "execution_count": 155,
   "id": "51017466",
   "metadata": {},
   "outputs": [],
   "source": [
    "for i in loose_money.index:\n",
    "    \n",
    "    if i not in low_productibity_drivers:\n",
    "        \n",
    "        low_productibity_drivers.append(i)"
   ]
  },
  {
   "cell_type": "code",
   "execution_count": 156,
   "id": "2e243630",
   "metadata": {},
   "outputs": [
    {
     "data": {
      "text/plain": [
       "676.7516556291391"
      ]
     },
     "execution_count": 156,
     "metadata": {},
     "output_type": "execute_result"
    }
   ],
   "source": [
    "trips[\"avg_profit\"].quantile(0.50)"
   ]
  },
  {
   "cell_type": "code",
   "execution_count": 169,
   "id": "cfccc651",
   "metadata": {},
   "outputs": [],
   "source": [
    "for i in range(len(trips.index)):\n",
    "    \n",
    "    if trips[\"avg_profit\"][i]<676.7516556291391  and trips.profit[i]>0:\n",
    "                                                        \n",
    "        \n",
    "        medium_productibity_drivers.append(i)      "
   ]
  },
  {
   "cell_type": "code",
   "execution_count": 170,
   "id": "b552e2ef",
   "metadata": {},
   "outputs": [],
   "source": [
    "for i in range(len(trips.index)):\n",
    "    \n",
    "    if trips[\"avg_profit\"][i]>=trips[\"avg_profit\"].quantile(0.50):\n",
    "                                                        \n",
    "        \n",
    "        high_productibity_drivers.append(i)\n",
    "        "
   ]
  },
  {
   "cell_type": "code",
   "execution_count": null,
   "id": "db78dee4",
   "metadata": {},
   "outputs": [],
   "source": []
  },
  {
   "cell_type": "markdown",
   "id": "f3cd5573",
   "metadata": {},
   "source": [
    "## Exploring and analyzing clients data"
   ]
  },
  {
   "cell_type": "markdown",
   "id": "62df1d18",
   "metadata": {},
   "source": [
    "#### Rating scores"
   ]
  },
  {
   "cell_type": "markdown",
   "id": "cf5eb49f",
   "metadata": {},
   "source": [
    "In the same way as we used drivers scores to calsify them, im going to use the \"rider_score\" to classify clients. In this case we will use the same metrics:\n",
    "\n",
    "low_quality_riders <3.5\n",
    "\n",
    "3.5<=medium_quality_riders<4.5\n",
    "\n",
    "4.5<=high_quality_riders\n"
   ]
  },
  {
   "cell_type": "code",
   "execution_count": 176,
   "id": "6da98e3d",
   "metadata": {},
   "outputs": [],
   "source": [
    "low_quality_riders=[]\n",
    "medium_quality_riders=[]\n",
    "high_quality_riders=[]"
   ]
  },
  {
   "cell_type": "code",
   "execution_count": 177,
   "id": "7fc97b84",
   "metadata": {},
   "outputs": [],
   "source": [
    "for i in range(len(ratings.index)):      \n",
    "\n",
    "    if ratings.rider_score[i]<3.5:\n",
    "        \n",
    "        low_quality_riders.append(ratings.index)   "
   ]
  },
  {
   "cell_type": "code",
   "execution_count": 184,
   "id": "d460ad92",
   "metadata": {},
   "outputs": [],
   "source": [
    "for i in range(len(ratings.index)):      \n",
    "\n",
    "    if ratings.rider_score[i]<4.5 and ratings.rider_score[i]>=3.5 :#and ratings.rider_score[i] not in low_quality_riders:\n",
    "        \n",
    "        medium_quality_riders.append(ratings.index[i])    "
   ]
  },
  {
   "cell_type": "code",
   "execution_count": 182,
   "id": "3805d328",
   "metadata": {},
   "outputs": [],
   "source": [
    "for i in range(len(ratings.index)):      \n",
    "\n",
    "    if ratings.driver_score[i]>=4.5 and ratings.driver_score[i] not in medium_quality_drivers and ratings.driver_score[i] not in low_quality_drivers:\n",
    "        \n",
    "        high_quality_drivers.append(ratings.index[i])  "
   ]
  },
  {
   "cell_type": "markdown",
   "id": "c0c209b0",
   "metadata": {},
   "source": [
    "#### Average and total profit and riders made by users"
   ]
  },
  {
   "cell_type": "markdown",
   "id": "517adfec",
   "metadata": {},
   "source": [
    "Now Im going to check the amount of rides each customer has done as well as the profits we made with each customer and the average profit their trips report to the company "
   ]
  },
  {
   "cell_type": "code",
   "execution_count": 197,
   "id": "2c74e9ca",
   "metadata": {},
   "outputs": [],
   "source": [
    "riders=data[[\"user_id\",\"journey_id\",\"end_state\",\"duration\",\"price\",\"cost\",\"distance\"]]"
   ]
  },
  {
   "cell_type": "code",
   "execution_count": 198,
   "id": "d143f723",
   "metadata": {},
   "outputs": [],
   "source": [
    "riders=riders.groupby(\"user_id\").agg({\"journey_id\":\"count\",\"end_state\":\"count\",\"duration\":\"sum\",\"cost\":\"sum\",\"price\":\"sum\",\"distance\":\"sum\"})"
   ]
  },
  {
   "cell_type": "code",
   "execution_count": 194,
   "id": "07a7b581",
   "metadata": {},
   "outputs": [
    {
     "data": {
      "text/plain": [
       "630"
      ]
     },
     "execution_count": 194,
     "metadata": {},
     "output_type": "execute_result"
    }
   ],
   "source": [
    "riders.journey_id.max()"
   ]
  },
  {
   "cell_type": "code",
   "execution_count": 200,
   "id": "f804aaa4",
   "metadata": {},
   "outputs": [],
   "source": [
    "riders[\"profit\"]=riders.price-riders.cost"
   ]
  },
  {
   "cell_type": "code",
   "execution_count": 206,
   "id": "32830d4c",
   "metadata": {},
   "outputs": [],
   "source": [
    "riders[\"avg_profit\"]=riders.profit/riders.journey_id"
   ]
  },
  {
   "cell_type": "code",
   "execution_count": 207,
   "id": "f3aa74bf",
   "metadata": {},
   "outputs": [
    {
     "data": {
      "text/html": [
       "<div>\n",
       "<style scoped>\n",
       "    .dataframe tbody tr th:only-of-type {\n",
       "        vertical-align: middle;\n",
       "    }\n",
       "\n",
       "    .dataframe tbody tr th {\n",
       "        vertical-align: top;\n",
       "    }\n",
       "\n",
       "    .dataframe thead th {\n",
       "        text-align: right;\n",
       "    }\n",
       "</style>\n",
       "<table border=\"1\" class=\"dataframe\">\n",
       "  <thead>\n",
       "    <tr style=\"text-align: right;\">\n",
       "      <th></th>\n",
       "      <th>journey_id</th>\n",
       "      <th>end_state</th>\n",
       "      <th>duration</th>\n",
       "      <th>cost</th>\n",
       "      <th>price</th>\n",
       "      <th>distance</th>\n",
       "      <th>profit</th>\n",
       "      <th>avg_profit</th>\n",
       "    </tr>\n",
       "    <tr>\n",
       "      <th>user_id</th>\n",
       "      <th></th>\n",
       "      <th></th>\n",
       "      <th></th>\n",
       "      <th></th>\n",
       "      <th></th>\n",
       "      <th></th>\n",
       "      <th></th>\n",
       "      <th></th>\n",
       "    </tr>\n",
       "  </thead>\n",
       "  <tbody>\n",
       "    <tr>\n",
       "      <th>00cb8ad6a0f7214d002e3ded6b7c9b80</th>\n",
       "      <td>7</td>\n",
       "      <td>7</td>\n",
       "      <td>1723.0</td>\n",
       "      <td>22246.0</td>\n",
       "      <td>31587.0</td>\n",
       "      <td>88349.0</td>\n",
       "      <td>9341.0</td>\n",
       "      <td>1334.428571</td>\n",
       "    </tr>\n",
       "    <tr>\n",
       "      <th>00cb8ad6a0f7214d002e3ded6b7de012</th>\n",
       "      <td>7</td>\n",
       "      <td>7</td>\n",
       "      <td>5722.0</td>\n",
       "      <td>13851.0</td>\n",
       "      <td>17782.0</td>\n",
       "      <td>42793.0</td>\n",
       "      <td>3931.0</td>\n",
       "      <td>561.571429</td>\n",
       "    </tr>\n",
       "    <tr>\n",
       "      <th>00cb8ad6a0f7214d002e3ded6b7eb91b</th>\n",
       "      <td>1</td>\n",
       "      <td>1</td>\n",
       "      <td>406.0</td>\n",
       "      <td>4238.0</td>\n",
       "      <td>5368.0</td>\n",
       "      <td>15716.0</td>\n",
       "      <td>1130.0</td>\n",
       "      <td>1130.000000</td>\n",
       "    </tr>\n",
       "    <tr>\n",
       "      <th>0194b4a5c9e41bfd35f9168423f7b7b4</th>\n",
       "      <td>2</td>\n",
       "      <td>2</td>\n",
       "      <td>0.0</td>\n",
       "      <td>0.0</td>\n",
       "      <td>0.0</td>\n",
       "      <td>0.0</td>\n",
       "      <td>0.0</td>\n",
       "      <td>0.000000</td>\n",
       "    </tr>\n",
       "    <tr>\n",
       "      <th>0194b4a5c9e41bfd35f9168423fa2857</th>\n",
       "      <td>30</td>\n",
       "      <td>30</td>\n",
       "      <td>12231.0</td>\n",
       "      <td>31359.0</td>\n",
       "      <td>50935.0</td>\n",
       "      <td>125130.0</td>\n",
       "      <td>19576.0</td>\n",
       "      <td>652.533333</td>\n",
       "    </tr>\n",
       "    <tr>\n",
       "      <th>...</th>\n",
       "      <td>...</td>\n",
       "      <td>...</td>\n",
       "      <td>...</td>\n",
       "      <td>...</td>\n",
       "      <td>...</td>\n",
       "      <td>...</td>\n",
       "      <td>...</td>\n",
       "      <td>...</td>\n",
       "    </tr>\n",
       "    <tr>\n",
       "      <th>ff1cb10b9edf79369742a37ce5d8d6f6</th>\n",
       "      <td>1</td>\n",
       "      <td>1</td>\n",
       "      <td>76.0</td>\n",
       "      <td>1700.0</td>\n",
       "      <td>1700.0</td>\n",
       "      <td>4776.0</td>\n",
       "      <td>0.0</td>\n",
       "      <td>0.000000</td>\n",
       "    </tr>\n",
       "    <tr>\n",
       "      <th>ff5c924e0b630fd7c019a4234053c385</th>\n",
       "      <td>1</td>\n",
       "      <td>1</td>\n",
       "      <td>61.0</td>\n",
       "      <td>2887.0</td>\n",
       "      <td>4441.0</td>\n",
       "      <td>13720.0</td>\n",
       "      <td>1554.0</td>\n",
       "      <td>1554.000000</td>\n",
       "    </tr>\n",
       "    <tr>\n",
       "      <th>ff5c924e0b630fd7c019a42340593ee2</th>\n",
       "      <td>1</td>\n",
       "      <td>1</td>\n",
       "      <td>193.0</td>\n",
       "      <td>1700.0</td>\n",
       "      <td>1700.0</td>\n",
       "      <td>3370.0</td>\n",
       "      <td>0.0</td>\n",
       "      <td>0.000000</td>\n",
       "    </tr>\n",
       "    <tr>\n",
       "      <th>ff5c924e0b630fd7c019a42340594b55</th>\n",
       "      <td>33</td>\n",
       "      <td>33</td>\n",
       "      <td>11363.0</td>\n",
       "      <td>52991.0</td>\n",
       "      <td>73581.0</td>\n",
       "      <td>224330.0</td>\n",
       "      <td>20590.0</td>\n",
       "      <td>623.939394</td>\n",
       "    </tr>\n",
       "    <tr>\n",
       "      <th>ff5c924e0b630fd7c019a42340596fb0</th>\n",
       "      <td>1</td>\n",
       "      <td>1</td>\n",
       "      <td>293.0</td>\n",
       "      <td>2528.0</td>\n",
       "      <td>2500.0</td>\n",
       "      <td>9778.0</td>\n",
       "      <td>-28.0</td>\n",
       "      <td>-28.000000</td>\n",
       "    </tr>\n",
       "  </tbody>\n",
       "</table>\n",
       "<p>1293 rows × 8 columns</p>\n",
       "</div>"
      ],
      "text/plain": [
       "                                  journey_id  end_state  duration     cost  \\\n",
       "user_id                                                                      \n",
       "00cb8ad6a0f7214d002e3ded6b7c9b80           7          7    1723.0  22246.0   \n",
       "00cb8ad6a0f7214d002e3ded6b7de012           7          7    5722.0  13851.0   \n",
       "00cb8ad6a0f7214d002e3ded6b7eb91b           1          1     406.0   4238.0   \n",
       "0194b4a5c9e41bfd35f9168423f7b7b4           2          2       0.0      0.0   \n",
       "0194b4a5c9e41bfd35f9168423fa2857          30         30   12231.0  31359.0   \n",
       "...                                      ...        ...       ...      ...   \n",
       "ff1cb10b9edf79369742a37ce5d8d6f6           1          1      76.0   1700.0   \n",
       "ff5c924e0b630fd7c019a4234053c385           1          1      61.0   2887.0   \n",
       "ff5c924e0b630fd7c019a42340593ee2           1          1     193.0   1700.0   \n",
       "ff5c924e0b630fd7c019a42340594b55          33         33   11363.0  52991.0   \n",
       "ff5c924e0b630fd7c019a42340596fb0           1          1     293.0   2528.0   \n",
       "\n",
       "                                    price  distance   profit   avg_profit  \n",
       "user_id                                                                    \n",
       "00cb8ad6a0f7214d002e3ded6b7c9b80  31587.0   88349.0   9341.0  1334.428571  \n",
       "00cb8ad6a0f7214d002e3ded6b7de012  17782.0   42793.0   3931.0   561.571429  \n",
       "00cb8ad6a0f7214d002e3ded6b7eb91b   5368.0   15716.0   1130.0  1130.000000  \n",
       "0194b4a5c9e41bfd35f9168423f7b7b4      0.0       0.0      0.0     0.000000  \n",
       "0194b4a5c9e41bfd35f9168423fa2857  50935.0  125130.0  19576.0   652.533333  \n",
       "...                                   ...       ...      ...          ...  \n",
       "ff1cb10b9edf79369742a37ce5d8d6f6   1700.0    4776.0      0.0     0.000000  \n",
       "ff5c924e0b630fd7c019a4234053c385   4441.0   13720.0   1554.0  1554.000000  \n",
       "ff5c924e0b630fd7c019a42340593ee2   1700.0    3370.0      0.0     0.000000  \n",
       "ff5c924e0b630fd7c019a42340594b55  73581.0  224330.0  20590.0   623.939394  \n",
       "ff5c924e0b630fd7c019a42340596fb0   2500.0    9778.0    -28.0   -28.000000  \n",
       "\n",
       "[1293 rows x 8 columns]"
      ]
     },
     "execution_count": 207,
     "metadata": {},
     "output_type": "execute_result"
    }
   ],
   "source": [
    "riders"
   ]
  },
  {
   "cell_type": "code",
   "execution_count": 202,
   "id": "831edd98",
   "metadata": {},
   "outputs": [
    {
     "data": {
      "text/plain": [
       "938.0"
      ]
     },
     "execution_count": 202,
     "metadata": {},
     "output_type": "execute_result"
    }
   ],
   "source": [
    "riders.profit.quantile(0.25)"
   ]
  },
  {
   "cell_type": "code",
   "execution_count": 203,
   "id": "2e6a86f9",
   "metadata": {},
   "outputs": [
    {
     "data": {
      "text/plain": [
       "3174.0"
      ]
     },
     "execution_count": 203,
     "metadata": {},
     "output_type": "execute_result"
    }
   ],
   "source": [
    "riders.profit.quantile(0.5)"
   ]
  },
  {
   "cell_type": "code",
   "execution_count": 204,
   "id": "ab909ba3",
   "metadata": {},
   "outputs": [
    {
     "data": {
      "text/plain": [
       "11078.0"
      ]
     },
     "execution_count": 204,
     "metadata": {},
     "output_type": "execute_result"
    }
   ],
   "source": [
    "riders.profit.quantile(0.75)"
   ]
  },
  {
   "cell_type": "code",
   "execution_count": 208,
   "id": "533168ac",
   "metadata": {},
   "outputs": [
    {
     "data": {
      "text/plain": [
       "519.3333333333334"
      ]
     },
     "execution_count": 208,
     "metadata": {},
     "output_type": "execute_result"
    }
   ],
   "source": [
    "riders.avg_profit.quantile(0.25)"
   ]
  },
  {
   "cell_type": "code",
   "execution_count": 209,
   "id": "0b30be3b",
   "metadata": {},
   "outputs": [
    {
     "data": {
      "text/plain": [
       "1034.0"
      ]
     },
     "execution_count": 209,
     "metadata": {},
     "output_type": "execute_result"
    }
   ],
   "source": [
    "riders.avg_profit.quantile(0.5)"
   ]
  },
  {
   "cell_type": "code",
   "execution_count": 210,
   "id": "dfb6560b",
   "metadata": {},
   "outputs": [
    {
     "data": {
      "text/plain": [
       "1650.0"
      ]
     },
     "execution_count": 210,
     "metadata": {},
     "output_type": "execute_result"
    }
   ],
   "source": [
    "riders.avg_profit.quantile(0.75)"
   ]
  },
  {
   "cell_type": "code",
   "execution_count": null,
   "id": "24f0f6e9",
   "metadata": {},
   "outputs": [],
   "source": []
  },
  {
   "cell_type": "code",
   "execution_count": null,
   "id": "b5f61480",
   "metadata": {},
   "outputs": [],
   "source": []
  },
  {
   "cell_type": "code",
   "execution_count": null,
   "id": "92ef52ea",
   "metadata": {},
   "outputs": [],
   "source": []
  },
  {
   "cell_type": "code",
   "execution_count": null,
   "id": "7ed1ca15",
   "metadata": {},
   "outputs": [],
   "source": []
  },
  {
   "cell_type": "code",
   "execution_count": null,
   "id": "10812aec",
   "metadata": {},
   "outputs": [],
   "source": []
  },
  {
   "cell_type": "code",
   "execution_count": null,
   "id": "84d89683",
   "metadata": {},
   "outputs": [],
   "source": []
  },
  {
   "cell_type": "code",
   "execution_count": null,
   "id": "19c38f38",
   "metadata": {},
   "outputs": [],
   "source": []
  },
  {
   "cell_type": "markdown",
   "id": "e6a9f5b6",
   "metadata": {},
   "source": [
    "from math import radians, cos, sin, asin, sqrt\n",
    "def distance(lat1, lat2, lon1, lon2):\n",
    "     \n",
    "    # The math module contains a function named\n",
    "    # radians which converts from degrees to radians.\n",
    "    lon1 = radians(lon1)\n",
    "    lon2 = radians(lon2)\n",
    "    lat1 = radians(lat1)\n",
    "    lat2 = radians(lat2)\n",
    "      \n",
    "    # Haversine formula\n",
    "    dlon = lon2 - lon1\n",
    "    dlat = lat2 - lat1\n",
    "    a = sin(dlat / 2)**2 + cos(lat1) * cos(lat2) * sin(dlon / 2)**2\n",
    " \n",
    "    c = 2 * asin(sqrt(a))\n",
    "    \n",
    "    # Radius of earth in kilometers. Use 3956 for miles\n",
    "    r = 6371\n",
    "      \n",
    "    # calculate the result\n",
    "    return(c * r)\n",
    "     \n",
    "     \n",
    "# driver code\n"
   ]
  },
  {
   "cell_type": "code",
   "execution_count": null,
   "id": "2405a729",
   "metadata": {},
   "outputs": [],
   "source": []
  }
 ],
 "metadata": {
  "kernelspec": {
   "display_name": "Ironhack",
   "language": "python",
   "name": "ironhack"
  },
  "language_info": {
   "codemirror_mode": {
    "name": "ipython",
    "version": 3
   },
   "file_extension": ".py",
   "mimetype": "text/x-python",
   "name": "python",
   "nbconvert_exporter": "python",
   "pygments_lexer": "ipython3",
   "version": "3.9.7"
  }
 },
 "nbformat": 4,
 "nbformat_minor": 5
}
