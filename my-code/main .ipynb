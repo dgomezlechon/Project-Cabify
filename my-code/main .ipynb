{
 "cells": [
  {
   "cell_type": "markdown",
   "id": "dfe716b8",
   "metadata": {},
   "source": [
    "We install and import the libraries needed"
   ]
  },
  {
   "cell_type": "code",
   "execution_count": 1,
   "id": "a8d8bb99",
   "metadata": {},
   "outputs": [
    {
     "name": "stdout",
     "output_type": "stream",
     "text": [
      "Requirement already satisfied: openpyxl in /Users/danigomezlechonbarrachina/opt/anaconda3/envs/Ironhack/lib/python3.9/site-packages (3.0.9)\n",
      "Requirement already satisfied: et-xmlfile in /Users/danigomezlechonbarrachina/opt/anaconda3/envs/Ironhack/lib/python3.9/site-packages (from openpyxl) (1.1.0)\n",
      "Note: you may need to restart the kernel to use updated packages.\n"
     ]
    }
   ],
   "source": [
    "pip install openpyxl"
   ]
  },
  {
   "cell_type": "code",
   "execution_count": 2,
   "id": "c24748a5",
   "metadata": {},
   "outputs": [],
   "source": [
    "import pandas as pd "
   ]
  },
  {
   "cell_type": "markdown",
   "id": "6e8711e3",
   "metadata": {},
   "source": [
    "I import the data from excel into Pandas"
   ]
  },
  {
   "cell_type": "code",
   "execution_count": 3,
   "id": "76024341",
   "metadata": {},
   "outputs": [],
   "source": [
    "data=pd.read_excel(\"../data/Data_BC_GlobalDelivery (1).xlsx\")"
   ]
  },
  {
   "cell_type": "code",
   "execution_count": 4,
   "id": "0f9c7ba7",
   "metadata": {},
   "outputs": [
    {
     "data": {
      "text/html": [
       "<div>\n",
       "<style scoped>\n",
       "    .dataframe tbody tr th:only-of-type {\n",
       "        vertical-align: middle;\n",
       "    }\n",
       "\n",
       "    .dataframe tbody tr th {\n",
       "        vertical-align: top;\n",
       "    }\n",
       "\n",
       "    .dataframe thead th {\n",
       "        text-align: right;\n",
       "    }\n",
       "</style>\n",
       "<table border=\"1\" class=\"dataframe\">\n",
       "  <thead>\n",
       "    <tr style=\"text-align: right;\">\n",
       "      <th></th>\n",
       "      <th>journey_id</th>\n",
       "      <th>user_id</th>\n",
       "      <th>driver_id</th>\n",
       "      <th>icon</th>\n",
       "      <th>start_type</th>\n",
       "      <th>start_at</th>\n",
       "      <th>start_lat</th>\n",
       "      <th>start_lon</th>\n",
       "      <th>end_at</th>\n",
       "      <th>end_lat</th>\n",
       "      <th>...</th>\n",
       "      <th>price_distance</th>\n",
       "      <th>price_duration</th>\n",
       "      <th>distance</th>\n",
       "      <th>duration</th>\n",
       "      <th>cost</th>\n",
       "      <th>cost_distance</th>\n",
       "      <th>cost_duration</th>\n",
       "      <th>source</th>\n",
       "      <th>driver_score</th>\n",
       "      <th>rider_score</th>\n",
       "    </tr>\n",
       "  </thead>\n",
       "  <tbody>\n",
       "    <tr>\n",
       "      <th>0</th>\n",
       "      <td>23a1406fc6a11d866e3c82f22eed4d4c</td>\n",
       "      <td>0e9af5bbf1edfe591b54ecdfd7e91e26</td>\n",
       "      <td>583949a89a9ee17d19e3ca4f137b6b4c</td>\n",
       "      <td>executive</td>\n",
       "      <td>asap</td>\n",
       "      <td>2010-11-16 16:44:52.000002</td>\n",
       "      <td>-12.139835</td>\n",
       "      <td>-77.023560</td>\n",
       "      <td>2010-11-16 17:29:56.999996</td>\n",
       "      <td>-12.055370</td>\n",
       "      <td>...</td>\n",
       "      <td>3626.0</td>\n",
       "      <td>195.0</td>\n",
       "      <td>11331.0</td>\n",
       "      <td>234.0</td>\n",
       "      <td>0.0</td>\n",
       "      <td>0.0</td>\n",
       "      <td>0.0</td>\n",
       "      <td>iPhone</td>\n",
       "      <td>5.0</td>\n",
       "      <td>5.0</td>\n",
       "    </tr>\n",
       "    <tr>\n",
       "      <th>1</th>\n",
       "      <td>dd2af4715d0dc16eded53afc0e243577</td>\n",
       "      <td>a553c46e3a22fb9c326aeb3d72b3334e</td>\n",
       "      <td>NaN</td>\n",
       "      <td>executive</td>\n",
       "      <td>asap</td>\n",
       "      <td>2010-06-01 00:34:37.999998</td>\n",
       "      <td>-12.138748</td>\n",
       "      <td>-76.995361</td>\n",
       "      <td>2010-06-01 00:37:38.999997</td>\n",
       "      <td>-12.124657</td>\n",
       "      <td>...</td>\n",
       "      <td>NaN</td>\n",
       "      <td>NaN</td>\n",
       "      <td>0.0</td>\n",
       "      <td>0.0</td>\n",
       "      <td>0.0</td>\n",
       "      <td>NaN</td>\n",
       "      <td>NaN</td>\n",
       "      <td>iPhone</td>\n",
       "      <td>NaN</td>\n",
       "      <td>NaN</td>\n",
       "    </tr>\n",
       "    <tr>\n",
       "      <th>2</th>\n",
       "      <td>dd91e131888064bf7df3ce08f3d4b4ad</td>\n",
       "      <td>a553c46e3a22fb9c326aeb3d72b3334e</td>\n",
       "      <td>NaN</td>\n",
       "      <td>executive</td>\n",
       "      <td>asap</td>\n",
       "      <td>2010-05-31 05:01:24.000004</td>\n",
       "      <td>-12.124531</td>\n",
       "      <td>-77.027802</td>\n",
       "      <td>2010-05-31 05:04:33.999998</td>\n",
       "      <td>-12.138832</td>\n",
       "      <td>...</td>\n",
       "      <td>NaN</td>\n",
       "      <td>NaN</td>\n",
       "      <td>0.0</td>\n",
       "      <td>0.0</td>\n",
       "      <td>0.0</td>\n",
       "      <td>NaN</td>\n",
       "      <td>NaN</td>\n",
       "      <td>iPhone</td>\n",
       "      <td>NaN</td>\n",
       "      <td>NaN</td>\n",
       "    </tr>\n",
       "    <tr>\n",
       "      <th>3</th>\n",
       "      <td>dd2af4715d0dc16eded53afc0e2466d0</td>\n",
       "      <td>a553c46e3a22fb9c326aeb3d72b3334e</td>\n",
       "      <td>NaN</td>\n",
       "      <td>executive</td>\n",
       "      <td>asap</td>\n",
       "      <td>2010-06-01 00:29:29.999999</td>\n",
       "      <td>-12.138851</td>\n",
       "      <td>-76.995300</td>\n",
       "      <td>2010-06-01 00:32:34.999999</td>\n",
       "      <td>-12.124588</td>\n",
       "      <td>...</td>\n",
       "      <td>NaN</td>\n",
       "      <td>NaN</td>\n",
       "      <td>0.0</td>\n",
       "      <td>0.0</td>\n",
       "      <td>0.0</td>\n",
       "      <td>NaN</td>\n",
       "      <td>NaN</td>\n",
       "      <td>iPhone</td>\n",
       "      <td>NaN</td>\n",
       "      <td>NaN</td>\n",
       "    </tr>\n",
       "    <tr>\n",
       "      <th>4</th>\n",
       "      <td>85b7eabcf5d84e42dc7629b7d27781af</td>\n",
       "      <td>56772d544fdfa589a020a1ff894a86f7</td>\n",
       "      <td>d665fb9f75ef5d9cd0fd89479380ba78</td>\n",
       "      <td>executive</td>\n",
       "      <td>reserved</td>\n",
       "      <td>2010-09-11 23:55:00.000002</td>\n",
       "      <td>-12.089954</td>\n",
       "      <td>-76.926270</td>\n",
       "      <td>2010-09-12 01:07:01.999998</td>\n",
       "      <td>-12.022232</td>\n",
       "      <td>...</td>\n",
       "      <td>7665.0</td>\n",
       "      <td>562.0</td>\n",
       "      <td>30270.0</td>\n",
       "      <td>715.0</td>\n",
       "      <td>6173.0</td>\n",
       "      <td>5756.0</td>\n",
       "      <td>417.0</td>\n",
       "      <td>iPhone</td>\n",
       "      <td>4.0</td>\n",
       "      <td>5.0</td>\n",
       "    </tr>\n",
       "  </tbody>\n",
       "</table>\n",
       "<p>5 rows × 27 columns</p>\n",
       "</div>"
      ],
      "text/plain": [
       "                         journey_id                           user_id  \\\n",
       "0  23a1406fc6a11d866e3c82f22eed4d4c  0e9af5bbf1edfe591b54ecdfd7e91e26   \n",
       "1  dd2af4715d0dc16eded53afc0e243577  a553c46e3a22fb9c326aeb3d72b3334e   \n",
       "2  dd91e131888064bf7df3ce08f3d4b4ad  a553c46e3a22fb9c326aeb3d72b3334e   \n",
       "3  dd2af4715d0dc16eded53afc0e2466d0  a553c46e3a22fb9c326aeb3d72b3334e   \n",
       "4  85b7eabcf5d84e42dc7629b7d27781af  56772d544fdfa589a020a1ff894a86f7   \n",
       "\n",
       "                          driver_id       icon start_type  \\\n",
       "0  583949a89a9ee17d19e3ca4f137b6b4c  executive       asap   \n",
       "1                               NaN  executive       asap   \n",
       "2                               NaN  executive       asap   \n",
       "3                               NaN  executive       asap   \n",
       "4  d665fb9f75ef5d9cd0fd89479380ba78  executive   reserved   \n",
       "\n",
       "                    start_at  start_lat  start_lon                     end_at  \\\n",
       "0 2010-11-16 16:44:52.000002 -12.139835 -77.023560 2010-11-16 17:29:56.999996   \n",
       "1 2010-06-01 00:34:37.999998 -12.138748 -76.995361 2010-06-01 00:37:38.999997   \n",
       "2 2010-05-31 05:01:24.000004 -12.124531 -77.027802 2010-05-31 05:04:33.999998   \n",
       "3 2010-06-01 00:29:29.999999 -12.138851 -76.995300 2010-06-01 00:32:34.999999   \n",
       "4 2010-09-11 23:55:00.000002 -12.089954 -76.926270 2010-09-12 01:07:01.999998   \n",
       "\n",
       "     end_lat  ...  price_distance price_duration  distance  duration    cost  \\\n",
       "0 -12.055370  ...          3626.0          195.0   11331.0     234.0     0.0   \n",
       "1 -12.124657  ...             NaN            NaN       0.0       0.0     0.0   \n",
       "2 -12.138832  ...             NaN            NaN       0.0       0.0     0.0   \n",
       "3 -12.124588  ...             NaN            NaN       0.0       0.0     0.0   \n",
       "4 -12.022232  ...          7665.0          562.0   30270.0     715.0  6173.0   \n",
       "\n",
       "  cost_distance  cost_duration  source  driver_score  rider_score  \n",
       "0           0.0            0.0  iPhone           5.0          5.0  \n",
       "1           NaN            NaN  iPhone           NaN          NaN  \n",
       "2           NaN            NaN  iPhone           NaN          NaN  \n",
       "3           NaN            NaN  iPhone           NaN          NaN  \n",
       "4        5756.0          417.0  iPhone           4.0          5.0  \n",
       "\n",
       "[5 rows x 27 columns]"
      ]
     },
     "execution_count": 4,
     "metadata": {},
     "output_type": "execute_result"
    }
   ],
   "source": [
    "data.head()"
   ]
  },
  {
   "cell_type": "markdown",
   "id": "30e9ac78",
   "metadata": {},
   "source": [
    "### Exploring and analyzing drivers data"
   ]
  },
  {
   "cell_type": "code",
   "execution_count": 5,
   "id": "4822bcde",
   "metadata": {},
   "outputs": [],
   "source": [
    "drivers=data.driver_id.unique()"
   ]
  },
  {
   "cell_type": "code",
   "execution_count": 6,
   "id": "b207efe1",
   "metadata": {},
   "outputs": [
    {
     "data": {
      "text/plain": [
       "169"
      ]
     },
     "execution_count": 6,
     "metadata": {},
     "output_type": "execute_result"
    }
   ],
   "source": [
    "len(drivers)"
   ]
  },
  {
   "cell_type": "markdown",
   "id": "54f2afb6",
   "metadata": {},
   "source": [
    "I drop the records for which we dont have a driver_id as they wont be useful for the analysis"
   ]
  },
  {
   "cell_type": "code",
   "execution_count": 7,
   "id": "cfb70849",
   "metadata": {},
   "outputs": [],
   "source": [
    "data=data[data.driver_id.notna()]"
   ]
  },
  {
   "cell_type": "code",
   "execution_count": 8,
   "id": "fb666016",
   "metadata": {},
   "outputs": [],
   "source": [
    "data.reset_index(inplace=True)"
   ]
  },
  {
   "cell_type": "code",
   "execution_count": 9,
   "id": "0c3c74d3",
   "metadata": {},
   "outputs": [],
   "source": [
    "data=data.drop(\"index\",axis=1)"
   ]
  },
  {
   "cell_type": "code",
   "execution_count": 10,
   "id": "0123c1ca",
   "metadata": {},
   "outputs": [],
   "source": [
    "data2=data[[\"driver_id\",\"journey_id\",\"price\",\"cost\",\"end_state\",\"driver_score\",\"rider_score\"]]"
   ]
  },
  {
   "cell_type": "code",
   "execution_count": 11,
   "id": "95b131b2",
   "metadata": {},
   "outputs": [],
   "source": [
    "\n",
    "driv_summary=data2.groupby([\"driver_id\",\"end_state\"]).agg({\"journey_id\":\"count\",\"price\":\"sum\",\"cost\":\"sum\",\"driver_score\":\"mean\",\"rider_score\":\"mean\"})"
   ]
  },
  {
   "cell_type": "code",
   "execution_count": 12,
   "id": "a5bf0580",
   "metadata": {},
   "outputs": [],
   "source": [
    "driv_summary.reset_index(inplace=True)"
   ]
  },
  {
   "cell_type": "code",
   "execution_count": 13,
   "id": "22be59da",
   "metadata": {},
   "outputs": [],
   "source": [
    "driver_canceling=driv_summary[driv_summary.end_state==\"driver cancel\"]"
   ]
  },
  {
   "cell_type": "markdown",
   "id": "b432ad02",
   "metadata": {},
   "source": [
    "There are 168 different riders, of which 65 have canceled their journeys (\"driver cancel\") at least once"
   ]
  },
  {
   "cell_type": "markdown",
   "id": "8af04016",
   "metadata": {},
   "source": [
    "At this point I have to decide from which amount of cancelations made by the drivers we can consider them as low quality drivers as if they only have a few number of cancelations it may be due to extraordinary causes. \n",
    "\n",
    "For this i can only focus on absolute numbers, but instead I will have to look at the % of journeys they have cancelled. (its not the same to cancel 8 out of 300 that 2 out of 15. Therefore we first need to check the % cancelation."
   ]
  },
  {
   "cell_type": "code",
   "execution_count": 14,
   "id": "899a786c",
   "metadata": {},
   "outputs": [],
   "source": [
    "driver_canceling.set_index(\"driver_id\",inplace=True)"
   ]
  },
  {
   "cell_type": "code",
   "execution_count": 15,
   "id": "a94c765b",
   "metadata": {},
   "outputs": [
    {
     "name": "stderr",
     "output_type": "stream",
     "text": [
      "/var/folders/tr/7ry1klqj22sglvfj6nq3g5kw0000gn/T/ipykernel_60943/2160433506.py:1: SettingWithCopyWarning: \n",
      "A value is trying to be set on a copy of a slice from a DataFrame.\n",
      "Try using .loc[row_indexer,col_indexer] = value instead\n",
      "\n",
      "See the caveats in the documentation: https://pandas.pydata.org/pandas-docs/stable/user_guide/indexing.html#returning-a-view-versus-a-copy\n",
      "  driver_canceling[\"total_journeys\"]=0\n"
     ]
    }
   ],
   "source": [
    "driver_canceling[\"total_journeys\"]=0"
   ]
  },
  {
   "cell_type": "code",
   "execution_count": 16,
   "id": "0835296c",
   "metadata": {},
   "outputs": [],
   "source": [
    "journeys=data.groupby(\"driver_id\").count()"
   ]
  },
  {
   "cell_type": "code",
   "execution_count": 17,
   "id": "ad74f044",
   "metadata": {},
   "outputs": [],
   "source": [
    "driver_canceling=driver_canceling.assign(total_journeys=journeys[\"journey_id\"])"
   ]
  },
  {
   "cell_type": "code",
   "execution_count": 18,
   "id": "232843f9",
   "metadata": {},
   "outputs": [],
   "source": [
    "driver_canceling[\"percentage cancelled\"]=(driver_canceling.journey_id/driver_canceling.total_journeys)*100"
   ]
  },
  {
   "cell_type": "markdown",
   "id": "43aba884",
   "metadata": {},
   "source": [
    "I am going to classify as low quality drivers those with a percentage of trips cancelled by them greater than 8%"
   ]
  },
  {
   "cell_type": "code",
   "execution_count": 19,
   "id": "f747a810",
   "metadata": {},
   "outputs": [],
   "source": [
    "low_quality_drivers=driver_canceling.index[driver_canceling[\"percentage cancelled\"]>=8]"
   ]
  },
  {
   "cell_type": "code",
   "execution_count": 20,
   "id": "c467a7a3",
   "metadata": {},
   "outputs": [],
   "source": [
    "low_quality_drivers=list(low_quality_drivers)"
   ]
  },
  {
   "cell_type": "code",
   "execution_count": 21,
   "id": "ca5e6480",
   "metadata": {},
   "outputs": [],
   "source": [
    "medium_quality_drivers=driver_canceling.index[(driver_canceling[\"percentage cancelled\"]>=4)&(driver_canceling[\"percentage cancelled\"]<=8)]"
   ]
  },
  {
   "cell_type": "code",
   "execution_count": 22,
   "id": "92967dd4",
   "metadata": {},
   "outputs": [],
   "source": [
    "medium_quality_drivers=list(medium_quality_drivers)"
   ]
  },
  {
   "cell_type": "code",
   "execution_count": 23,
   "id": "930cb0a6",
   "metadata": {},
   "outputs": [],
   "source": [
    "high_quality_drivers=driver_canceling.index[driver_canceling[\"percentage cancelled\"]<4]"
   ]
  },
  {
   "cell_type": "code",
   "execution_count": 24,
   "id": "4eaca2da",
   "metadata": {},
   "outputs": [],
   "source": [
    "high_quality_drivers=list(high_quality_drivers)"
   ]
  },
  {
   "cell_type": "markdown",
   "id": "a46345c7",
   "metadata": {},
   "source": [
    "#### Now Im going to focus on the rating of the drivers"
   ]
  },
  {
   "cell_type": "code",
   "execution_count": 25,
   "id": "42f35391",
   "metadata": {},
   "outputs": [],
   "source": [
    "ratings=data[[\"driver_id\",\"rider_score\",\"driver_score\"]]"
   ]
  },
  {
   "cell_type": "code",
   "execution_count": 26,
   "id": "1374a65d",
   "metadata": {},
   "outputs": [],
   "source": [
    "ratings=ratings.groupby(\"driver_id\").mean()"
   ]
  },
  {
   "cell_type": "markdown",
   "id": "7b5f5dae",
   "metadata": {},
   "source": [
    "We are going to set as:\n",
    "\n",
    "low quality drivers those that have a rating below 3.5, \n",
    "\n",
    "\n",
    "medium quality those with rating above 3.5 and below 4.5 \n",
    "\n",
    "\n",
    "high quality those with rating higher than or equal to 4.5"
   ]
  },
  {
   "cell_type": "code",
   "execution_count": 27,
   "id": "7ffd8251",
   "metadata": {},
   "outputs": [],
   "source": [
    "for i in range(len(ratings.index)):      \n",
    "\n",
    "    if ratings.driver_score[i]<3.5:\n",
    "        \n",
    "        low_quality_drivers.append(ratings.index[i])       "
   ]
  },
  {
   "cell_type": "code",
   "execution_count": 28,
   "id": "8c2bf798",
   "metadata": {},
   "outputs": [],
   "source": [
    "for i in range(len(ratings.index)):      \n",
    "\n",
    "    if ratings.driver_score[i]<4.5 and ratings.driver_score[i]>=3.5 and ratings.driver_score[i] not in low_quality_drivers:\n",
    "        \n",
    "        medium_quality_drivers.append(ratings.index[i])       "
   ]
  },
  {
   "cell_type": "code",
   "execution_count": 29,
   "id": "1a7f0c32",
   "metadata": {},
   "outputs": [],
   "source": [
    "for i in range(len(ratings.index)):      \n",
    "\n",
    "    if ratings.driver_score[i]>=4.5 and ratings.driver_score[i] not in medium_quality_drivers and ratings.driver_score[i] not in low_quality_drivers:\n",
    "        \n",
    "        high_quality_drivers.append(ratings.index[i])  "
   ]
  },
  {
   "cell_type": "markdown",
   "id": "70f88e6a",
   "metadata": {},
   "source": [
    "I eliminate duplicates in the lists of drivers"
   ]
  },
  {
   "cell_type": "code",
   "execution_count": 30,
   "id": "779af235",
   "metadata": {},
   "outputs": [],
   "source": [
    "low_quality_drivers=set(low_quality_drivers)\n",
    "medium_quality_drivers=set(medium_quality_drivers)\n",
    "high_quality_drivers=set(high_quality_drivers)"
   ]
  },
  {
   "cell_type": "code",
   "execution_count": 31,
   "id": "f89bfe02",
   "metadata": {},
   "outputs": [],
   "source": [
    "for i in low_quality_drivers:\n",
    "    \n",
    "    if i in medium_quality_drivers:\n",
    "        medium_quality_drivers.remove(i)       "
   ]
  },
  {
   "cell_type": "code",
   "execution_count": 32,
   "id": "5ca5727a",
   "metadata": {},
   "outputs": [],
   "source": [
    "for i in low_quality_drivers:\n",
    "    \n",
    "    if i in high_quality_drivers:\n",
    "        high_quality_drivers.remove(i)      "
   ]
  },
  {
   "cell_type": "code",
   "execution_count": 33,
   "id": "b05ffa51",
   "metadata": {},
   "outputs": [],
   "source": [
    "for i in medium_quality_drivers:\n",
    "    \n",
    "    if i in high_quality_drivers:\n",
    "        high_quality_drivers.remove(i)        "
   ]
  },
  {
   "cell_type": "code",
   "execution_count": 34,
   "id": "edc2799f",
   "metadata": {},
   "outputs": [
    {
     "data": {
      "text/plain": [
       "26"
      ]
     },
     "execution_count": 34,
     "metadata": {},
     "output_type": "execute_result"
    }
   ],
   "source": [
    "len(high_quality_drivers)"
   ]
  },
  {
   "cell_type": "markdown",
   "id": "50df077e",
   "metadata": {},
   "source": [
    "#### We check \"failure\" and \"not found\" trips"
   ]
  },
  {
   "cell_type": "markdown",
   "id": "a35cc5cb",
   "metadata": {},
   "source": [
    "For these type of trips we see that not found ones are due to the app not finding a driver and failure might be due to a fail in the app. Therefore thse wont be relevant right now to classify riders"
   ]
  },
  {
   "cell_type": "markdown",
   "id": "a59b9c9c",
   "metadata": {},
   "source": [
    "#### Number of trips"
   ]
  },
  {
   "cell_type": "markdown",
   "id": "252ed089",
   "metadata": {},
   "source": [
    "Now we are going to classify drivers according to the time they work for us and the amount of profit (price-cost) they report on average to the company and we will classify them in low_productibity_drivers, medium_productibity_drivers and high_productibity_drivers"
   ]
  },
  {
   "cell_type": "markdown",
   "id": "8bd7ddca",
   "metadata": {},
   "source": [
    "-low_productibity_drivers below the 30th percentile\n",
    "\n",
    "-medium_productibity_drivers below the 60th percentile and above the 30th \n",
    "\n",
    "-high_productibity_drivers above the 75th percentile"
   ]
  },
  {
   "cell_type": "code",
   "execution_count": 35,
   "id": "66b66862",
   "metadata": {},
   "outputs": [
    {
     "data": {
      "text/plain": [
       "9.0"
      ]
     },
     "execution_count": 35,
     "metadata": {},
     "output_type": "execute_result"
    }
   ],
   "source": [
    "journeys.journey_id.quantile(0.30)"
   ]
  },
  {
   "cell_type": "code",
   "execution_count": 36,
   "id": "506843e7",
   "metadata": {},
   "outputs": [],
   "source": [
    "low_productivity_drivers=journeys.index[journeys.journey_id<journeys.journey_id.quantile(0.30)]"
   ]
  },
  {
   "cell_type": "code",
   "execution_count": 37,
   "id": "ef756133",
   "metadata": {},
   "outputs": [],
   "source": [
    "low_productivity_drivers=list(low_productivity_drivers)"
   ]
  },
  {
   "cell_type": "code",
   "execution_count": 38,
   "id": "ceeb7424",
   "metadata": {},
   "outputs": [
    {
     "data": {
      "text/plain": [
       "25.0"
      ]
     },
     "execution_count": 38,
     "metadata": {},
     "output_type": "execute_result"
    }
   ],
   "source": [
    "journeys.journey_id.median()"
   ]
  },
  {
   "cell_type": "code",
   "execution_count": 39,
   "id": "76356573",
   "metadata": {},
   "outputs": [
    {
     "data": {
      "text/plain": [
       "117.41666666666667"
      ]
     },
     "execution_count": 39,
     "metadata": {},
     "output_type": "execute_result"
    }
   ],
   "source": [
    "journeys.journey_id.mean()"
   ]
  },
  {
   "cell_type": "code",
   "execution_count": 40,
   "id": "f92db79d",
   "metadata": {},
   "outputs": [],
   "source": [
    "medium_productivity_drivers=journeys.index[(journeys.journey_id<journeys.journey_id.quantile(0.75)) & (journeys.journey_id>=journeys.journey_id.quantile(0.30))]"
   ]
  },
  {
   "cell_type": "code",
   "execution_count": 41,
   "id": "53599e96",
   "metadata": {},
   "outputs": [],
   "source": [
    "medium_productivity_drivers=list(medium_productivity_drivers)"
   ]
  },
  {
   "cell_type": "code",
   "execution_count": 42,
   "id": "758a0c95",
   "metadata": {},
   "outputs": [
    {
     "data": {
      "text/plain": [
       "89.5"
      ]
     },
     "execution_count": 42,
     "metadata": {},
     "output_type": "execute_result"
    }
   ],
   "source": [
    "journeys.journey_id.quantile(0.75)"
   ]
  },
  {
   "cell_type": "code",
   "execution_count": 43,
   "id": "24894178",
   "metadata": {},
   "outputs": [],
   "source": [
    "high_productivity_drivers=journeys.index[journeys.journey_id>journeys.journey_id.quantile(0.75)]"
   ]
  },
  {
   "cell_type": "code",
   "execution_count": 44,
   "id": "5216e94b",
   "metadata": {},
   "outputs": [],
   "source": [
    "high_productivity_drivers=list(high_productivity_drivers)"
   ]
  },
  {
   "cell_type": "markdown",
   "id": "16fa36b1",
   "metadata": {},
   "source": [
    "Now Im going to calculate the average duration per trip and the average profit they make per trip as well as the total amount"
   ]
  },
  {
   "cell_type": "code",
   "execution_count": 45,
   "id": "b6fff2ad",
   "metadata": {},
   "outputs": [],
   "source": [
    "trips=data[[\"driver_id\",\"price\",\"cost\",\"duration\",\"journey_id\"]]"
   ]
  },
  {
   "cell_type": "code",
   "execution_count": 46,
   "id": "8ff73d95",
   "metadata": {},
   "outputs": [],
   "source": [
    "trips=trips.groupby(\"driver_id\").agg({\"price\":\"sum\",\"cost\":\"sum\",\"duration\":\"sum\",\"journey_id\":\"count\"})"
   ]
  },
  {
   "cell_type": "code",
   "execution_count": 47,
   "id": "d891f120",
   "metadata": {},
   "outputs": [],
   "source": [
    "trips[\"profit\"]=trips.price-trips.cost"
   ]
  },
  {
   "cell_type": "code",
   "execution_count": 48,
   "id": "cb584a95",
   "metadata": {},
   "outputs": [],
   "source": [
    "trips[\"avg_profit\"]=trips.profit/trips.journey_id"
   ]
  },
  {
   "cell_type": "code",
   "execution_count": 49,
   "id": "5ca06936",
   "metadata": {},
   "outputs": [],
   "source": [
    "loose_money=trips[trips.profit<0]"
   ]
  },
  {
   "cell_type": "code",
   "execution_count": 50,
   "id": "2c32e015",
   "metadata": {},
   "outputs": [
    {
     "data": {
      "text/plain": [
       "14"
      ]
     },
     "execution_count": 50,
     "metadata": {},
     "output_type": "execute_result"
    }
   ],
   "source": [
    "len(loose_money)"
   ]
  },
  {
   "cell_type": "markdown",
   "id": "a06fa70a",
   "metadata": {},
   "source": [
    "We see there are drivers that eventhough might have a considerable amount of trips, are loosing money, therefore we will classify them as low_productivity_drivers\n",
    "\n",
    "I will classify as medium those with an average profit below the 0.5 quantile and above 0 and as high those between the 50th and 100th quartiles"
   ]
  },
  {
   "cell_type": "code",
   "execution_count": 51,
   "id": "561d37e6",
   "metadata": {},
   "outputs": [],
   "source": [
    "for i in loose_money.index:\n",
    "    \n",
    "    if i not in low_productivity_drivers:\n",
    "        \n",
    "        low_productivity_drivers.append(i)"
   ]
  },
  {
   "cell_type": "code",
   "execution_count": 52,
   "id": "b7c2185d",
   "metadata": {},
   "outputs": [
    {
     "data": {
      "text/plain": [
       "13413.5"
      ]
     },
     "execution_count": 52,
     "metadata": {},
     "output_type": "execute_result"
    }
   ],
   "source": [
    "trips[\"profit\"].quantile(0.50)"
   ]
  },
  {
   "cell_type": "code",
   "execution_count": 53,
   "id": "4a235e62",
   "metadata": {},
   "outputs": [],
   "source": [
    "for i in range(len(trips.index)):\n",
    "    \n",
    "    if trips[\"profit\"][i]<676.7516556291391  and trips.profit[i]>0:\n",
    "                                                        \n",
    "        \n",
    "        medium_productivity_drivers.append(i)      "
   ]
  },
  {
   "cell_type": "code",
   "execution_count": 54,
   "id": "e7754561",
   "metadata": {},
   "outputs": [],
   "source": [
    "for i in range(len(trips.index)):\n",
    "    \n",
    "    if trips[\"profit\"][i]>=trips[\"profit\"].quantile(0.50):\n",
    "                                                        \n",
    "        \n",
    "        high_productivity_drivers.append(i)\n",
    "        "
   ]
  },
  {
   "cell_type": "markdown",
   "id": "8e7c0549",
   "metadata": {},
   "source": [
    "I eliminate duplicates from the productivity lists"
   ]
  },
  {
   "cell_type": "code",
   "execution_count": 55,
   "id": "a26a3616",
   "metadata": {},
   "outputs": [],
   "source": [
    "low_productivity_drivers=set(low_productivity_drivers)\n",
    "medium_productivity_drivers=set(medium_productivity_drivers)\n",
    "high_productivity_drivers=set(high_productivity_drivers)"
   ]
  },
  {
   "cell_type": "code",
   "execution_count": 56,
   "id": "fbdada4d",
   "metadata": {},
   "outputs": [],
   "source": [
    "for i in low_productivity_drivers:\n",
    "    \n",
    "    if i in medium_productivity_drivers:\n",
    "        medium_productivity_drivers.remove(i)       "
   ]
  },
  {
   "cell_type": "code",
   "execution_count": 57,
   "id": "0c3f8ae5",
   "metadata": {},
   "outputs": [],
   "source": [
    "for i in low_productivity_drivers:\n",
    "    \n",
    "    if i in high_productivity_drivers:\n",
    "        high_productivity_drivers.remove(i)       "
   ]
  },
  {
   "cell_type": "code",
   "execution_count": 58,
   "id": "ff8137d4",
   "metadata": {},
   "outputs": [],
   "source": [
    "for i in medium_productivity_drivers:\n",
    "    \n",
    "    if i in high_productivity_drivers:\n",
    "        high_productivity_drivers.remove(i)      "
   ]
  },
  {
   "cell_type": "code",
   "execution_count": 59,
   "id": "cf25ae93",
   "metadata": {},
   "outputs": [
    {
     "data": {
      "text/plain": [
       "117"
      ]
     },
     "execution_count": 59,
     "metadata": {},
     "output_type": "execute_result"
    }
   ],
   "source": [
    "len(high_productivity_drivers)"
   ]
  },
  {
   "cell_type": "markdown",
   "id": "13133305",
   "metadata": {},
   "source": [
    "## Exploring and analyzing clients data"
   ]
  },
  {
   "cell_type": "markdown",
   "id": "94977388",
   "metadata": {},
   "source": [
    "#### Rating scores"
   ]
  },
  {
   "cell_type": "markdown",
   "id": "b21fb01b",
   "metadata": {},
   "source": [
    "In the same way as we used drivers scores to calsify them, im going to use the \"rider_score\" to classify clients. In this case we will use the same metrics:\n",
    "\n",
    "low_quality_riders <3.5\n",
    "\n",
    "3.5<=medium_quality_riders<4.5\n",
    "\n",
    "4.5<=high_quality_riders\n"
   ]
  },
  {
   "cell_type": "code",
   "execution_count": 89,
   "id": "feecac04",
   "metadata": {},
   "outputs": [],
   "source": [
    "low_quality_riders=[]\n",
    "medium_quality_riders=[]\n",
    "high_quality_riders=[]"
   ]
  },
  {
   "cell_type": "code",
   "execution_count": 90,
   "id": "13cfb4c4",
   "metadata": {},
   "outputs": [],
   "source": [
    "for i in range(len(ratings.index)):      \n",
    "\n",
    "    if ratings.rider_score[i]<3.5:\n",
    "        \n",
    "        low_quality_riders.append(ratings.index[i])   "
   ]
  },
  {
   "cell_type": "code",
   "execution_count": 91,
   "id": "767ef727",
   "metadata": {},
   "outputs": [],
   "source": [
    "for i in range(len(ratings.index)):      \n",
    "\n",
    "    if ratings.rider_score[i]<4.5 and ratings.rider_score[i]>=3.5 :#and ratings.rider_score[i] not in low_quality_riders:\n",
    "        \n",
    "        medium_quality_riders.append(ratings.index[i])    "
   ]
  },
  {
   "cell_type": "code",
   "execution_count": 92,
   "id": "d724de7f",
   "metadata": {},
   "outputs": [],
   "source": [
    "for i in range(len(ratings.index)):      \n",
    "\n",
    "    if ratings.rider_score[i]>=4.5: #and ratings.rider_score[i] not in medium_quality_riders and ratings.rider_score[i] not in low_quality_riders:\n",
    "        \n",
    "        high_quality_riders.append(ratings.index[i])  "
   ]
  },
  {
   "cell_type": "markdown",
   "id": "f406383f",
   "metadata": {},
   "source": [
    "#### Average and total profit and riders made by users"
   ]
  },
  {
   "cell_type": "markdown",
   "id": "2689a825",
   "metadata": {},
   "source": [
    "Now Im going to check the amount of rides each customer has done as well as the profits we made with each customer and the average profit their trips report to the company "
   ]
  },
  {
   "cell_type": "code",
   "execution_count": 93,
   "id": "697e789d",
   "metadata": {},
   "outputs": [],
   "source": [
    "riders=data[[\"user_id\",\"journey_id\",\"end_state\",\"duration\",\"price\",\"cost\",\"distance\"]]"
   ]
  },
  {
   "cell_type": "code",
   "execution_count": 94,
   "id": "48cf1b14",
   "metadata": {},
   "outputs": [],
   "source": [
    "riders=riders.groupby(\"user_id\").agg({\"journey_id\":\"count\",\"end_state\":\"count\",\"duration\":\"sum\",\"cost\":\"sum\",\"price\":\"sum\",\"distance\":\"sum\"})"
   ]
  },
  {
   "cell_type": "code",
   "execution_count": 95,
   "id": "246e89ec",
   "metadata": {},
   "outputs": [
    {
     "data": {
      "text/plain": [
       "630"
      ]
     },
     "execution_count": 95,
     "metadata": {},
     "output_type": "execute_result"
    }
   ],
   "source": [
    "riders.journey_id.max()"
   ]
  },
  {
   "cell_type": "code",
   "execution_count": 96,
   "id": "82bfdba8",
   "metadata": {},
   "outputs": [],
   "source": [
    "riders[\"profit\"]=riders.price-riders.cost"
   ]
  },
  {
   "cell_type": "code",
   "execution_count": 97,
   "id": "5052053d",
   "metadata": {},
   "outputs": [],
   "source": [
    "riders[\"avg_profit\"]=riders.profit/riders.journey_id"
   ]
  },
  {
   "cell_type": "code",
   "execution_count": 98,
   "id": "b9dd977d",
   "metadata": {},
   "outputs": [
    {
     "data": {
      "text/plain": [
       "938.0"
      ]
     },
     "execution_count": 98,
     "metadata": {},
     "output_type": "execute_result"
    }
   ],
   "source": [
    "riders.profit.quantile(0.25)"
   ]
  },
  {
   "cell_type": "code",
   "execution_count": 99,
   "id": "5b3fda25",
   "metadata": {},
   "outputs": [],
   "source": [
    "for i in range(len(riders.index)):      \n",
    "\n",
    "    if riders.profit[i]<riders.profit.quantile(0.25):\n",
    "        \n",
    "        low_quality_riders.append(riders.index[i])   "
   ]
  },
  {
   "cell_type": "code",
   "execution_count": 100,
   "id": "26c4bf16",
   "metadata": {},
   "outputs": [
    {
     "data": {
      "text/plain": [
       "3174.0"
      ]
     },
     "execution_count": 100,
     "metadata": {},
     "output_type": "execute_result"
    }
   ],
   "source": [
    "riders.profit.quantile(0.5)"
   ]
  },
  {
   "cell_type": "code",
   "execution_count": 101,
   "id": "25a143ed",
   "metadata": {},
   "outputs": [],
   "source": [
    "for i in range(len(riders.index)):      \n",
    "\n",
    "    if riders.profit[i]<riders.profit.quantile(0.5):\n",
    "        \n",
    "        medium_quality_riders.append(riders.index[i])   "
   ]
  },
  {
   "cell_type": "code",
   "execution_count": 102,
   "id": "eaf76962",
   "metadata": {},
   "outputs": [
    {
     "data": {
      "text/plain": [
       "11078.0"
      ]
     },
     "execution_count": 102,
     "metadata": {},
     "output_type": "execute_result"
    }
   ],
   "source": [
    "riders.profit.quantile(0.75)"
   ]
  },
  {
   "cell_type": "code",
   "execution_count": 103,
   "id": "800abfbc",
   "metadata": {},
   "outputs": [],
   "source": [
    "for i in range(len(riders.index)):      \n",
    "\n",
    "    if riders.profit[i]>riders.profit.quantile(0.5):\n",
    "        \n",
    "        high_quality_riders.append(riders.index[i])   "
   ]
  },
  {
   "cell_type": "code",
   "execution_count": 104,
   "id": "d9832539",
   "metadata": {},
   "outputs": [
    {
     "data": {
      "text/plain": [
       "519.3333333333334"
      ]
     },
     "execution_count": 104,
     "metadata": {},
     "output_type": "execute_result"
    }
   ],
   "source": [
    "riders.avg_profit.quantile(0.25)"
   ]
  },
  {
   "cell_type": "code",
   "execution_count": 105,
   "id": "1c6e5248",
   "metadata": {},
   "outputs": [
    {
     "data": {
      "text/plain": [
       "1034.0"
      ]
     },
     "execution_count": 105,
     "metadata": {},
     "output_type": "execute_result"
    }
   ],
   "source": [
    "riders.avg_profit.quantile(0.5)"
   ]
  },
  {
   "cell_type": "code",
   "execution_count": 138,
   "id": "7c163154",
   "metadata": {},
   "outputs": [
    {
     "data": {
      "text/plain": [
       "561.5409199881333"
      ]
     },
     "execution_count": 138,
     "metadata": {},
     "output_type": "execute_result"
    }
   ],
   "source": [
    "riders.avg_profit.mean()"
   ]
  },
  {
   "cell_type": "code",
   "execution_count": 106,
   "id": "0b2e3594",
   "metadata": {},
   "outputs": [
    {
     "data": {
      "text/plain": [
       "1650.0"
      ]
     },
     "execution_count": 106,
     "metadata": {},
     "output_type": "execute_result"
    }
   ],
   "source": [
    "riders.avg_profit.quantile(0.75)"
   ]
  },
  {
   "cell_type": "code",
   "execution_count": 107,
   "id": "7168fd09",
   "metadata": {},
   "outputs": [],
   "source": [
    "low_quality_riders=set(low_quality_riders)\n",
    "medium_quality_riders=set(medium_quality_riders)\n",
    "high_quality_riders=set(high_quality_riders)"
   ]
  },
  {
   "cell_type": "code",
   "execution_count": 109,
   "id": "6c743ffc",
   "metadata": {},
   "outputs": [],
   "source": [
    "for i in low_quality_riders:\n",
    "    \n",
    "    if i in medium_quality_riders:\n",
    "        medium_quality_riders.remove(i)  "
   ]
  },
  {
   "cell_type": "code",
   "execution_count": 110,
   "id": "722a494d",
   "metadata": {},
   "outputs": [],
   "source": [
    "for i in low_quality_riders:\n",
    "    \n",
    "    if i in high_quality_riders:\n",
    "        high_quality_riders.remove(i)   "
   ]
  },
  {
   "cell_type": "code",
   "execution_count": 111,
   "id": "33bda01d",
   "metadata": {},
   "outputs": [],
   "source": [
    "for i in medium_quality_riders:\n",
    "    \n",
    "    if i in high_quality_riders:\n",
    "        high_quality_riders.remove(i) "
   ]
  },
  {
   "cell_type": "code",
   "execution_count": 136,
   "id": "38c57365",
   "metadata": {},
   "outputs": [
    {
     "data": {
      "text/plain": [
       "344"
      ]
     },
     "execution_count": 136,
     "metadata": {},
     "output_type": "execute_result"
    }
   ],
   "source": [
    "len(low_quality_riders)"
   ]
  },
  {
   "cell_type": "code",
   "execution_count": null,
   "id": "09ecd8f5",
   "metadata": {},
   "outputs": [],
   "source": []
  },
  {
   "cell_type": "markdown",
   "id": "f6db0163",
   "metadata": {},
   "source": [
    "### Correlations between variables"
   ]
  },
  {
   "cell_type": "markdown",
   "id": "04496780",
   "metadata": {},
   "source": [
    "I check correlation between variables which i might have not spoted"
   ]
  },
  {
   "cell_type": "code",
   "execution_count": 143,
   "id": "e84dcc70",
   "metadata": {},
   "outputs": [],
   "source": [
    "import seaborn as sns"
   ]
  },
  {
   "cell_type": "code",
   "execution_count": 145,
   "id": "1c7a3007",
   "metadata": {},
   "outputs": [],
   "source": [
    "import numpy as np"
   ]
  },
  {
   "cell_type": "code",
   "execution_count": 139,
   "id": "3c62835a",
   "metadata": {},
   "outputs": [],
   "source": [
    "corr=data.corr(method='pearson')"
   ]
  },
  {
   "cell_type": "code",
   "execution_count": 147,
   "id": "4f8a0fb5",
   "metadata": {},
   "outputs": [
    {
     "data": {
      "text/html": [
       "<div>\n",
       "<style scoped>\n",
       "    .dataframe tbody tr th:only-of-type {\n",
       "        vertical-align: middle;\n",
       "    }\n",
       "\n",
       "    .dataframe tbody tr th {\n",
       "        vertical-align: top;\n",
       "    }\n",
       "\n",
       "    .dataframe thead th {\n",
       "        text-align: right;\n",
       "    }\n",
       "</style>\n",
       "<table border=\"1\" class=\"dataframe\">\n",
       "  <thead>\n",
       "    <tr style=\"text-align: right;\">\n",
       "      <th></th>\n",
       "      <th>start_lat</th>\n",
       "      <th>start_lon</th>\n",
       "      <th>end_lat</th>\n",
       "      <th>end_lon</th>\n",
       "      <th>driver_start_lat</th>\n",
       "      <th>driver_start_lon</th>\n",
       "      <th>price</th>\n",
       "      <th>price_distance</th>\n",
       "      <th>price_duration</th>\n",
       "      <th>distance</th>\n",
       "      <th>duration</th>\n",
       "      <th>cost</th>\n",
       "      <th>cost_distance</th>\n",
       "      <th>cost_duration</th>\n",
       "      <th>driver_score</th>\n",
       "      <th>rider_score</th>\n",
       "    </tr>\n",
       "  </thead>\n",
       "  <tbody>\n",
       "    <tr>\n",
       "      <th>start_lat</th>\n",
       "      <td>1.000000</td>\n",
       "      <td>-0.394971</td>\n",
       "      <td>0.000759</td>\n",
       "      <td>0.013101</td>\n",
       "      <td>0.018066</td>\n",
       "      <td>0.009889</td>\n",
       "      <td>0.045909</td>\n",
       "      <td>0.005320</td>\n",
       "      <td>0.037522</td>\n",
       "      <td>0.004159</td>\n",
       "      <td>0.032566</td>\n",
       "      <td>0.006661</td>\n",
       "      <td>0.003967</td>\n",
       "      <td>0.035003</td>\n",
       "      <td>0.017973</td>\n",
       "      <td>-0.002991</td>\n",
       "    </tr>\n",
       "    <tr>\n",
       "      <th>start_lon</th>\n",
       "      <td>-0.394971</td>\n",
       "      <td>1.000000</td>\n",
       "      <td>-0.004213</td>\n",
       "      <td>0.001531</td>\n",
       "      <td>0.049369</td>\n",
       "      <td>0.053464</td>\n",
       "      <td>-0.007620</td>\n",
       "      <td>0.001083</td>\n",
       "      <td>-0.031350</td>\n",
       "      <td>0.002198</td>\n",
       "      <td>-0.027392</td>\n",
       "      <td>0.002089</td>\n",
       "      <td>-0.003639</td>\n",
       "      <td>-0.040477</td>\n",
       "      <td>-0.016395</td>\n",
       "      <td>0.014453</td>\n",
       "    </tr>\n",
       "    <tr>\n",
       "      <th>end_lat</th>\n",
       "      <td>0.000759</td>\n",
       "      <td>-0.004213</td>\n",
       "      <td>1.000000</td>\n",
       "      <td>0.289164</td>\n",
       "      <td>-0.003140</td>\n",
       "      <td>-0.003350</td>\n",
       "      <td>0.017930</td>\n",
       "      <td>-0.000424</td>\n",
       "      <td>-0.002870</td>\n",
       "      <td>-0.000819</td>\n",
       "      <td>-0.003020</td>\n",
       "      <td>-0.001967</td>\n",
       "      <td>-0.000415</td>\n",
       "      <td>-0.004565</td>\n",
       "      <td>0.007794</td>\n",
       "      <td>0.008932</td>\n",
       "    </tr>\n",
       "    <tr>\n",
       "      <th>end_lon</th>\n",
       "      <td>0.013101</td>\n",
       "      <td>0.001531</td>\n",
       "      <td>0.289164</td>\n",
       "      <td>1.000000</td>\n",
       "      <td>0.011355</td>\n",
       "      <td>0.011216</td>\n",
       "      <td>0.012144</td>\n",
       "      <td>-0.000320</td>\n",
       "      <td>0.003181</td>\n",
       "      <td>-0.000598</td>\n",
       "      <td>0.002670</td>\n",
       "      <td>-0.000178</td>\n",
       "      <td>-0.000412</td>\n",
       "      <td>0.000466</td>\n",
       "      <td>-0.007417</td>\n",
       "      <td>-0.014445</td>\n",
       "    </tr>\n",
       "    <tr>\n",
       "      <th>driver_start_lat</th>\n",
       "      <td>0.018066</td>\n",
       "      <td>0.049369</td>\n",
       "      <td>-0.003140</td>\n",
       "      <td>0.011355</td>\n",
       "      <td>1.000000</td>\n",
       "      <td>0.994215</td>\n",
       "      <td>-0.035689</td>\n",
       "      <td>0.086845</td>\n",
       "      <td>-0.021131</td>\n",
       "      <td>0.104542</td>\n",
       "      <td>-0.016358</td>\n",
       "      <td>-0.007663</td>\n",
       "      <td>0.058224</td>\n",
       "      <td>-0.033749</td>\n",
       "      <td>0.033201</td>\n",
       "      <td>0.007910</td>\n",
       "    </tr>\n",
       "    <tr>\n",
       "      <th>driver_start_lon</th>\n",
       "      <td>0.009889</td>\n",
       "      <td>0.053464</td>\n",
       "      <td>-0.003350</td>\n",
       "      <td>0.011216</td>\n",
       "      <td>0.994215</td>\n",
       "      <td>1.000000</td>\n",
       "      <td>-0.033894</td>\n",
       "      <td>0.087270</td>\n",
       "      <td>-0.020871</td>\n",
       "      <td>0.105011</td>\n",
       "      <td>-0.016112</td>\n",
       "      <td>-0.007441</td>\n",
       "      <td>0.058583</td>\n",
       "      <td>-0.033448</td>\n",
       "      <td>0.032683</td>\n",
       "      <td>0.008602</td>\n",
       "    </tr>\n",
       "    <tr>\n",
       "      <th>price</th>\n",
       "      <td>0.045909</td>\n",
       "      <td>-0.007620</td>\n",
       "      <td>0.017930</td>\n",
       "      <td>0.012144</td>\n",
       "      <td>-0.035689</td>\n",
       "      <td>-0.033894</td>\n",
       "      <td>1.000000</td>\n",
       "      <td>0.032534</td>\n",
       "      <td>0.605348</td>\n",
       "      <td>0.022213</td>\n",
       "      <td>0.601898</td>\n",
       "      <td>0.121940</td>\n",
       "      <td>0.036856</td>\n",
       "      <td>0.582016</td>\n",
       "      <td>-0.037278</td>\n",
       "      <td>-0.005659</td>\n",
       "    </tr>\n",
       "    <tr>\n",
       "      <th>price_distance</th>\n",
       "      <td>0.005320</td>\n",
       "      <td>0.001083</td>\n",
       "      <td>-0.000424</td>\n",
       "      <td>-0.000320</td>\n",
       "      <td>0.086845</td>\n",
       "      <td>0.087270</td>\n",
       "      <td>0.032534</td>\n",
       "      <td>1.000000</td>\n",
       "      <td>0.006747</td>\n",
       "      <td>0.971383</td>\n",
       "      <td>0.007069</td>\n",
       "      <td>0.005073</td>\n",
       "      <td>0.877969</td>\n",
       "      <td>0.007501</td>\n",
       "      <td>0.006549</td>\n",
       "      <td>0.007800</td>\n",
       "    </tr>\n",
       "    <tr>\n",
       "      <th>price_duration</th>\n",
       "      <td>0.037522</td>\n",
       "      <td>-0.031350</td>\n",
       "      <td>-0.002870</td>\n",
       "      <td>0.003181</td>\n",
       "      <td>-0.021131</td>\n",
       "      <td>-0.020871</td>\n",
       "      <td>0.605348</td>\n",
       "      <td>0.006747</td>\n",
       "      <td>1.000000</td>\n",
       "      <td>0.002522</td>\n",
       "      <td>0.997152</td>\n",
       "      <td>0.076299</td>\n",
       "      <td>0.008930</td>\n",
       "      <td>0.947594</td>\n",
       "      <td>-0.012751</td>\n",
       "      <td>-0.000510</td>\n",
       "    </tr>\n",
       "    <tr>\n",
       "      <th>distance</th>\n",
       "      <td>0.004159</td>\n",
       "      <td>0.002198</td>\n",
       "      <td>-0.000819</td>\n",
       "      <td>-0.000598</td>\n",
       "      <td>0.104542</td>\n",
       "      <td>0.105011</td>\n",
       "      <td>0.022213</td>\n",
       "      <td>0.971383</td>\n",
       "      <td>0.002522</td>\n",
       "      <td>1.000000</td>\n",
       "      <td>0.004799</td>\n",
       "      <td>0.004594</td>\n",
       "      <td>0.794745</td>\n",
       "      <td>0.002926</td>\n",
       "      <td>0.006556</td>\n",
       "      <td>0.008456</td>\n",
       "    </tr>\n",
       "    <tr>\n",
       "      <th>duration</th>\n",
       "      <td>0.032566</td>\n",
       "      <td>-0.027392</td>\n",
       "      <td>-0.003020</td>\n",
       "      <td>0.002670</td>\n",
       "      <td>-0.016358</td>\n",
       "      <td>-0.016112</td>\n",
       "      <td>0.601898</td>\n",
       "      <td>0.007069</td>\n",
       "      <td>0.997152</td>\n",
       "      <td>0.004799</td>\n",
       "      <td>1.000000</td>\n",
       "      <td>0.080286</td>\n",
       "      <td>0.009092</td>\n",
       "      <td>0.943175</td>\n",
       "      <td>-0.013859</td>\n",
       "      <td>0.005257</td>\n",
       "    </tr>\n",
       "    <tr>\n",
       "      <th>cost</th>\n",
       "      <td>0.006661</td>\n",
       "      <td>0.002089</td>\n",
       "      <td>-0.001967</td>\n",
       "      <td>-0.000178</td>\n",
       "      <td>-0.007663</td>\n",
       "      <td>-0.007441</td>\n",
       "      <td>0.121940</td>\n",
       "      <td>0.005073</td>\n",
       "      <td>0.076299</td>\n",
       "      <td>0.004594</td>\n",
       "      <td>0.080286</td>\n",
       "      <td>1.000000</td>\n",
       "      <td>0.008061</td>\n",
       "      <td>0.140842</td>\n",
       "      <td>0.004951</td>\n",
       "      <td>0.007556</td>\n",
       "    </tr>\n",
       "    <tr>\n",
       "      <th>cost_distance</th>\n",
       "      <td>0.003967</td>\n",
       "      <td>-0.003639</td>\n",
       "      <td>-0.000415</td>\n",
       "      <td>-0.000412</td>\n",
       "      <td>0.058224</td>\n",
       "      <td>0.058583</td>\n",
       "      <td>0.036856</td>\n",
       "      <td>0.877969</td>\n",
       "      <td>0.008930</td>\n",
       "      <td>0.794745</td>\n",
       "      <td>0.009092</td>\n",
       "      <td>0.008061</td>\n",
       "      <td>1.000000</td>\n",
       "      <td>0.013965</td>\n",
       "      <td>0.005620</td>\n",
       "      <td>0.006019</td>\n",
       "    </tr>\n",
       "    <tr>\n",
       "      <th>cost_duration</th>\n",
       "      <td>0.035003</td>\n",
       "      <td>-0.040477</td>\n",
       "      <td>-0.004565</td>\n",
       "      <td>0.000466</td>\n",
       "      <td>-0.033749</td>\n",
       "      <td>-0.033448</td>\n",
       "      <td>0.582016</td>\n",
       "      <td>0.007501</td>\n",
       "      <td>0.947594</td>\n",
       "      <td>0.002926</td>\n",
       "      <td>0.943175</td>\n",
       "      <td>0.140842</td>\n",
       "      <td>0.013965</td>\n",
       "      <td>1.000000</td>\n",
       "      <td>-0.045643</td>\n",
       "      <td>-0.007040</td>\n",
       "    </tr>\n",
       "    <tr>\n",
       "      <th>driver_score</th>\n",
       "      <td>0.017973</td>\n",
       "      <td>-0.016395</td>\n",
       "      <td>0.007794</td>\n",
       "      <td>-0.007417</td>\n",
       "      <td>0.033201</td>\n",
       "      <td>0.032683</td>\n",
       "      <td>-0.037278</td>\n",
       "      <td>0.006549</td>\n",
       "      <td>-0.012751</td>\n",
       "      <td>0.006556</td>\n",
       "      <td>-0.013859</td>\n",
       "      <td>0.004951</td>\n",
       "      <td>0.005620</td>\n",
       "      <td>-0.045643</td>\n",
       "      <td>1.000000</td>\n",
       "      <td>0.124901</td>\n",
       "    </tr>\n",
       "    <tr>\n",
       "      <th>rider_score</th>\n",
       "      <td>-0.002991</td>\n",
       "      <td>0.014453</td>\n",
       "      <td>0.008932</td>\n",
       "      <td>-0.014445</td>\n",
       "      <td>0.007910</td>\n",
       "      <td>0.008602</td>\n",
       "      <td>-0.005659</td>\n",
       "      <td>0.007800</td>\n",
       "      <td>-0.000510</td>\n",
       "      <td>0.008456</td>\n",
       "      <td>0.005257</td>\n",
       "      <td>0.007556</td>\n",
       "      <td>0.006019</td>\n",
       "      <td>-0.007040</td>\n",
       "      <td>0.124901</td>\n",
       "      <td>1.000000</td>\n",
       "    </tr>\n",
       "  </tbody>\n",
       "</table>\n",
       "</div>"
      ],
      "text/plain": [
       "                  start_lat  start_lon   end_lat   end_lon  driver_start_lat  \\\n",
       "start_lat          1.000000  -0.394971  0.000759  0.013101          0.018066   \n",
       "start_lon         -0.394971   1.000000 -0.004213  0.001531          0.049369   \n",
       "end_lat            0.000759  -0.004213  1.000000  0.289164         -0.003140   \n",
       "end_lon            0.013101   0.001531  0.289164  1.000000          0.011355   \n",
       "driver_start_lat   0.018066   0.049369 -0.003140  0.011355          1.000000   \n",
       "driver_start_lon   0.009889   0.053464 -0.003350  0.011216          0.994215   \n",
       "price              0.045909  -0.007620  0.017930  0.012144         -0.035689   \n",
       "price_distance     0.005320   0.001083 -0.000424 -0.000320          0.086845   \n",
       "price_duration     0.037522  -0.031350 -0.002870  0.003181         -0.021131   \n",
       "distance           0.004159   0.002198 -0.000819 -0.000598          0.104542   \n",
       "duration           0.032566  -0.027392 -0.003020  0.002670         -0.016358   \n",
       "cost               0.006661   0.002089 -0.001967 -0.000178         -0.007663   \n",
       "cost_distance      0.003967  -0.003639 -0.000415 -0.000412          0.058224   \n",
       "cost_duration      0.035003  -0.040477 -0.004565  0.000466         -0.033749   \n",
       "driver_score       0.017973  -0.016395  0.007794 -0.007417          0.033201   \n",
       "rider_score       -0.002991   0.014453  0.008932 -0.014445          0.007910   \n",
       "\n",
       "                  driver_start_lon     price  price_distance  price_duration  \\\n",
       "start_lat                 0.009889  0.045909        0.005320        0.037522   \n",
       "start_lon                 0.053464 -0.007620        0.001083       -0.031350   \n",
       "end_lat                  -0.003350  0.017930       -0.000424       -0.002870   \n",
       "end_lon                   0.011216  0.012144       -0.000320        0.003181   \n",
       "driver_start_lat          0.994215 -0.035689        0.086845       -0.021131   \n",
       "driver_start_lon          1.000000 -0.033894        0.087270       -0.020871   \n",
       "price                    -0.033894  1.000000        0.032534        0.605348   \n",
       "price_distance            0.087270  0.032534        1.000000        0.006747   \n",
       "price_duration           -0.020871  0.605348        0.006747        1.000000   \n",
       "distance                  0.105011  0.022213        0.971383        0.002522   \n",
       "duration                 -0.016112  0.601898        0.007069        0.997152   \n",
       "cost                     -0.007441  0.121940        0.005073        0.076299   \n",
       "cost_distance             0.058583  0.036856        0.877969        0.008930   \n",
       "cost_duration            -0.033448  0.582016        0.007501        0.947594   \n",
       "driver_score              0.032683 -0.037278        0.006549       -0.012751   \n",
       "rider_score               0.008602 -0.005659        0.007800       -0.000510   \n",
       "\n",
       "                  distance  duration      cost  cost_distance  cost_duration  \\\n",
       "start_lat         0.004159  0.032566  0.006661       0.003967       0.035003   \n",
       "start_lon         0.002198 -0.027392  0.002089      -0.003639      -0.040477   \n",
       "end_lat          -0.000819 -0.003020 -0.001967      -0.000415      -0.004565   \n",
       "end_lon          -0.000598  0.002670 -0.000178      -0.000412       0.000466   \n",
       "driver_start_lat  0.104542 -0.016358 -0.007663       0.058224      -0.033749   \n",
       "driver_start_lon  0.105011 -0.016112 -0.007441       0.058583      -0.033448   \n",
       "price             0.022213  0.601898  0.121940       0.036856       0.582016   \n",
       "price_distance    0.971383  0.007069  0.005073       0.877969       0.007501   \n",
       "price_duration    0.002522  0.997152  0.076299       0.008930       0.947594   \n",
       "distance          1.000000  0.004799  0.004594       0.794745       0.002926   \n",
       "duration          0.004799  1.000000  0.080286       0.009092       0.943175   \n",
       "cost              0.004594  0.080286  1.000000       0.008061       0.140842   \n",
       "cost_distance     0.794745  0.009092  0.008061       1.000000       0.013965   \n",
       "cost_duration     0.002926  0.943175  0.140842       0.013965       1.000000   \n",
       "driver_score      0.006556 -0.013859  0.004951       0.005620      -0.045643   \n",
       "rider_score       0.008456  0.005257  0.007556       0.006019      -0.007040   \n",
       "\n",
       "                  driver_score  rider_score  \n",
       "start_lat             0.017973    -0.002991  \n",
       "start_lon            -0.016395     0.014453  \n",
       "end_lat               0.007794     0.008932  \n",
       "end_lon              -0.007417    -0.014445  \n",
       "driver_start_lat      0.033201     0.007910  \n",
       "driver_start_lon      0.032683     0.008602  \n",
       "price                -0.037278    -0.005659  \n",
       "price_distance        0.006549     0.007800  \n",
       "price_duration       -0.012751    -0.000510  \n",
       "distance              0.006556     0.008456  \n",
       "duration             -0.013859     0.005257  \n",
       "cost                  0.004951     0.007556  \n",
       "cost_distance         0.005620     0.006019  \n",
       "cost_duration        -0.045643    -0.007040  \n",
       "driver_score          1.000000     0.124901  \n",
       "rider_score           0.124901     1.000000  "
      ]
     },
     "execution_count": 147,
     "metadata": {},
     "output_type": "execute_result"
    }
   ],
   "source": [
    "corr"
   ]
  },
  {
   "cell_type": "code",
   "execution_count": 153,
   "id": "cf4ff6c0",
   "metadata": {},
   "outputs": [
    {
     "data": {
      "image/png": "[encoded data removed]",
      "text/plain": [
       "<Figure size 432x288 with 2 Axes>"
      ]
     },
     "metadata": {},
     "output_type": "display_data"
    }
   ],
   "source": [
    "sns.set(style='white')   # estilo blanco\n",
    "\n",
    "\n",
    "mascara=np.triu(np.ones_like(corr, dtype=bool))    # genera una mascara para la triangular superior\n",
    "\n",
    "\n",
    "cmap=sns.diverging_palette(0, 10, as_cmap=True)    # paleta de colores\n",
    "\n",
    "sns.heatmap(corr,\n",
    "            mask=mascara,\n",
    "            cmap=cmap,\n",
    "            vmax=1,\n",
    "            center=0,\n",
    "            square=True,\n",
    "            linewidths=0.5,\n",
    "            cbar_kws={'shrink':0.9}\n",
    "           );"
   ]
  },
  {
   "cell_type": "markdown",
   "id": "1a5c0af1",
   "metadata": {},
   "source": [
    "### Dates exploration"
   ]
  },
  {
   "cell_type": "code",
   "execution_count": null,
   "id": "600574a0",
   "metadata": {},
   "outputs": [],
   "source": []
  },
  {
   "cell_type": "code",
   "execution_count": null,
   "id": "8a9f5566",
   "metadata": {},
   "outputs": [],
   "source": []
  },
  {
   "cell_type": "code",
   "execution_count": 155,
   "id": "7f98b9fb",
   "metadata": {},
   "outputs": [
    {
     "name": "stdout",
     "output_type": "stream",
     "text": [
      "<class 'pandas.core.frame.DataFrame'>\n",
      "RangeIndex: 19726 entries, 0 to 19725\n",
      "Data columns (total 27 columns):\n",
      " #   Column            Non-Null Count  Dtype         \n",
      "---  ------            --------------  -----         \n",
      " 0   journey_id        19726 non-null  object        \n",
      " 1   user_id           19726 non-null  object        \n",
      " 2   driver_id         19726 non-null  object        \n",
      " 3   icon              19726 non-null  object        \n",
      " 4   start_type        19726 non-null  object        \n",
      " 5   start_at          19726 non-null  datetime64[ns]\n",
      " 6   start_lat         19726 non-null  float64       \n",
      " 7   start_lon         19726 non-null  float64       \n",
      " 8   end_at            19718 non-null  datetime64[ns]\n",
      " 9   end_lat           19726 non-null  float64       \n",
      " 10  end_lon           19726 non-null  float64       \n",
      " 11  end_state         19726 non-null  object        \n",
      " 12  driver_start_lat  19576 non-null  float64       \n",
      " 13  driver_start_lon  19576 non-null  float64       \n",
      " 14  arrived_at        17716 non-null  datetime64[ns]\n",
      " 15  currency          19726 non-null  object        \n",
      " 16  price             19595 non-null  float64       \n",
      " 17  price_distance    18405 non-null  float64       \n",
      " 18  price_duration    18405 non-null  float64       \n",
      " 19  distance          19725 non-null  float64       \n",
      " 20  duration          19725 non-null  float64       \n",
      " 21  cost              18641 non-null  float64       \n",
      " 22  cost_distance     16502 non-null  float64       \n",
      " 23  cost_duration     16502 non-null  float64       \n",
      " 24  source            19618 non-null  object        \n",
      " 25  driver_score      7650 non-null   float64       \n",
      " 26  rider_score       15390 non-null  float64       \n",
      "dtypes: datetime64[ns](3), float64(16), object(8)\n",
      "memory usage: 4.1+ MB\n"
     ]
    }
   ],
   "source": [
    "data.info()"
   ]
  },
  {
   "cell_type": "code",
   "execution_count": 157,
   "id": "a68c4e94",
   "metadata": {},
   "outputs": [],
   "source": [
    "times=data[[\"driver_id\",\"start_at\"]]"
   ]
  },
  {
   "cell_type": "code",
   "execution_count": 163,
   "id": "78d5bc42",
   "metadata": {},
   "outputs": [
    {
     "name": "stderr",
     "output_type": "stream",
     "text": [
      "/var/folders/tr/7ry1klqj22sglvfj6nq3g5kw0000gn/T/ipykernel_60943/138496336.py:1: SettingWithCopyWarning: \n",
      "A value is trying to be set on a copy of a slice from a DataFrame.\n",
      "Try using .loc[row_indexer,col_indexer] = value instead\n",
      "\n",
      "See the caveats in the documentation: https://pandas.pydata.org/pandas-docs/stable/user_guide/indexing.html#returning-a-view-versus-a-copy\n",
      "  times[\"year\"] = pd.DatetimeIndex(times['start_at']).year\n",
      "/var/folders/tr/7ry1klqj22sglvfj6nq3g5kw0000gn/T/ipykernel_60943/138496336.py:2: SettingWithCopyWarning: \n",
      "A value is trying to be set on a copy of a slice from a DataFrame.\n",
      "Try using .loc[row_indexer,col_indexer] = value instead\n",
      "\n",
      "See the caveats in the documentation: https://pandas.pydata.org/pandas-docs/stable/user_guide/indexing.html#returning-a-view-versus-a-copy\n",
      "  times[\"month\"] = pd.DatetimeIndex(times['start_at']).month\n",
      "/var/folders/tr/7ry1klqj22sglvfj6nq3g5kw0000gn/T/ipykernel_60943/138496336.py:3: SettingWithCopyWarning: \n",
      "A value is trying to be set on a copy of a slice from a DataFrame.\n",
      "Try using .loc[row_indexer,col_indexer] = value instead\n",
      "\n",
      "See the caveats in the documentation: https://pandas.pydata.org/pandas-docs/stable/user_guide/indexing.html#returning-a-view-versus-a-copy\n",
      "  times[\"day\"] = pd.DatetimeIndex(times['start_at']).day\n"
     ]
    }
   ],
   "source": [
    "times[\"year\"] = pd.DatetimeIndex(times['start_at']).year\n",
    "times[\"month\"] = pd.DatetimeIndex(times['start_at']).month\n",
    "times[\"day\"] = pd.DatetimeIndex(times['start_at']).day"
   ]
  },
  {
   "cell_type": "code",
   "execution_count": 164,
   "id": "fb55d2ab",
   "metadata": {},
   "outputs": [
    {
     "data": {
      "text/html": [
       "<div>\n",
       "<style scoped>\n",
       "    .dataframe tbody tr th:only-of-type {\n",
       "        vertical-align: middle;\n",
       "    }\n",
       "\n",
       "    .dataframe tbody tr th {\n",
       "        vertical-align: top;\n",
       "    }\n",
       "\n",
       "    .dataframe thead th {\n",
       "        text-align: right;\n",
       "    }\n",
       "</style>\n",
       "<table border=\"1\" class=\"dataframe\">\n",
       "  <thead>\n",
       "    <tr style=\"text-align: right;\">\n",
       "      <th></th>\n",
       "      <th>driver_id</th>\n",
       "      <th>start_at</th>\n",
       "      <th>year</th>\n",
       "      <th>month</th>\n",
       "      <th>day</th>\n",
       "    </tr>\n",
       "  </thead>\n",
       "  <tbody>\n",
       "    <tr>\n",
       "      <th>0</th>\n",
       "      <td>583949a89a9ee17d19e3ca4f137b6b4c</td>\n",
       "      <td>2010-11-16 16:44:52.000002</td>\n",
       "      <td>2010</td>\n",
       "      <td>11</td>\n",
       "      <td>16</td>\n",
       "    </tr>\n",
       "    <tr>\n",
       "      <th>1</th>\n",
       "      <td>d665fb9f75ef5d9cd0fd89479380ba78</td>\n",
       "      <td>2010-09-11 23:55:00.000002</td>\n",
       "      <td>2010</td>\n",
       "      <td>9</td>\n",
       "      <td>11</td>\n",
       "    </tr>\n",
       "    <tr>\n",
       "      <th>2</th>\n",
       "      <td>baacf396f773709519bbde35a5eab861</td>\n",
       "      <td>2010-08-10 13:00:00.000003</td>\n",
       "      <td>2010</td>\n",
       "      <td>8</td>\n",
       "      <td>10</td>\n",
       "    </tr>\n",
       "    <tr>\n",
       "      <th>3</th>\n",
       "      <td>e1332f68e81526e498e4d845233a6d7d</td>\n",
       "      <td>2010-08-08 12:09:59.999996</td>\n",
       "      <td>2010</td>\n",
       "      <td>8</td>\n",
       "      <td>8</td>\n",
       "    </tr>\n",
       "    <tr>\n",
       "      <th>4</th>\n",
       "      <td>d665fb9f75ef5d9cd0fd89479380ba78</td>\n",
       "      <td>2010-05-16 03:58:58.999996</td>\n",
       "      <td>2010</td>\n",
       "      <td>5</td>\n",
       "      <td>16</td>\n",
       "    </tr>\n",
       "    <tr>\n",
       "      <th>...</th>\n",
       "      <td>...</td>\n",
       "      <td>...</td>\n",
       "      <td>...</td>\n",
       "      <td>...</td>\n",
       "      <td>...</td>\n",
       "    </tr>\n",
       "    <tr>\n",
       "      <th>19721</th>\n",
       "      <td>d665fb9f75ef5d9cd0fd89479380ba78</td>\n",
       "      <td>2010-07-31 13:14:59.999997</td>\n",
       "      <td>2010</td>\n",
       "      <td>7</td>\n",
       "      <td>31</td>\n",
       "    </tr>\n",
       "    <tr>\n",
       "      <th>19722</th>\n",
       "      <td>17c21284245ff240c7212732991c2373</td>\n",
       "      <td>2010-10-02 05:26:38.000000</td>\n",
       "      <td>2010</td>\n",
       "      <td>10</td>\n",
       "      <td>2</td>\n",
       "    </tr>\n",
       "    <tr>\n",
       "      <th>19723</th>\n",
       "      <td>4851ee4c867c9b49b909c1adb76c31e9</td>\n",
       "      <td>2010-09-21 09:56:40.000004</td>\n",
       "      <td>2010</td>\n",
       "      <td>9</td>\n",
       "      <td>21</td>\n",
       "    </tr>\n",
       "    <tr>\n",
       "      <th>19724</th>\n",
       "      <td>56f59b58bcbbd1cdabc3652e713134c2</td>\n",
       "      <td>2010-04-29 04:30:00.000000</td>\n",
       "      <td>2010</td>\n",
       "      <td>4</td>\n",
       "      <td>29</td>\n",
       "    </tr>\n",
       "    <tr>\n",
       "      <th>19725</th>\n",
       "      <td>924d4f0e7554566623e8ebb390491d08</td>\n",
       "      <td>2010-03-16 19:58:43.999999</td>\n",
       "      <td>2010</td>\n",
       "      <td>3</td>\n",
       "      <td>16</td>\n",
       "    </tr>\n",
       "  </tbody>\n",
       "</table>\n",
       "<p>19726 rows × 5 columns</p>\n",
       "</div>"
      ],
      "text/plain": [
       "                              driver_id                   start_at  year  \\\n",
       "0      583949a89a9ee17d19e3ca4f137b6b4c 2010-11-16 16:44:52.000002  2010   \n",
       "1      d665fb9f75ef5d9cd0fd89479380ba78 2010-09-11 23:55:00.000002  2010   \n",
       "2      baacf396f773709519bbde35a5eab861 2010-08-10 13:00:00.000003  2010   \n",
       "3      e1332f68e81526e498e4d845233a6d7d 2010-08-08 12:09:59.999996  2010   \n",
       "4      d665fb9f75ef5d9cd0fd89479380ba78 2010-05-16 03:58:58.999996  2010   \n",
       "...                                 ...                        ...   ...   \n",
       "19721  d665fb9f75ef5d9cd0fd89479380ba78 2010-07-31 13:14:59.999997  2010   \n",
       "19722  17c21284245ff240c7212732991c2373 2010-10-02 05:26:38.000000  2010   \n",
       "19723  4851ee4c867c9b49b909c1adb76c31e9 2010-09-21 09:56:40.000004  2010   \n",
       "19724  56f59b58bcbbd1cdabc3652e713134c2 2010-04-29 04:30:00.000000  2010   \n",
       "19725  924d4f0e7554566623e8ebb390491d08 2010-03-16 19:58:43.999999  2010   \n",
       "\n",
       "       month  day  \n",
       "0         11   16  \n",
       "1          9   11  \n",
       "2          8   10  \n",
       "3          8    8  \n",
       "4          5   16  \n",
       "...      ...  ...  \n",
       "19721      7   31  \n",
       "19722     10    2  \n",
       "19723      9   21  \n",
       "19724      4   29  \n",
       "19725      3   16  \n",
       "\n",
       "[19726 rows x 5 columns]"
      ]
     },
     "execution_count": 164,
     "metadata": {},
     "output_type": "execute_result"
    }
   ],
   "source": [
    "times"
   ]
  },
  {
   "cell_type": "code",
   "execution_count": 174,
   "id": "03b774e7",
   "metadata": {},
   "outputs": [],
   "source": [
    "date_summary=times.groupby([\"driver_id\"]).agg({\"year\":\"count\",\"day\":\"count\",\"start_at\":\"count\",\"month\":\"sum\"})"
   ]
  },
  {
   "cell_type": "code",
   "execution_count": 179,
   "id": "255808b4",
   "metadata": {},
   "outputs": [],
   "source": [
    "date_summary=times.groupby(\"driver_id\")[\"month\"].nunique()"
   ]
  },
  {
   "cell_type": "code",
   "execution_count": 217,
   "id": "b5ebfb7d",
   "metadata": {},
   "outputs": [],
   "source": [
    "high_length=list(date_summary[date_summary>=10].index)"
   ]
  },
  {
   "cell_type": "code",
   "execution_count": 218,
   "id": "14b08a7f",
   "metadata": {},
   "outputs": [],
   "source": [
    "medium_length=list(date_summary[(date_summary>=6)&(date_summary<10)].index)"
   ]
  },
  {
   "cell_type": "code",
   "execution_count": 219,
   "id": "5c0fda53",
   "metadata": {},
   "outputs": [],
   "source": [
    "low_length=list(date_summary[date_summary<6].index)"
   ]
  },
  {
   "cell_type": "code",
   "execution_count": 212,
   "id": "108d218d",
   "metadata": {},
   "outputs": [
    {
     "data": {
      "text/plain": [
       "119"
      ]
     },
     "execution_count": 212,
     "metadata": {},
     "output_type": "execute_result"
    }
   ],
   "source": [
    "len(high_length)"
   ]
  },
  {
   "cell_type": "code",
   "execution_count": 223,
   "id": "bb8fc252",
   "metadata": {},
   "outputs": [
    {
     "name": "stdout",
     "output_type": "stream",
     "text": [
      "14\n"
     ]
    }
   ],
   "source": [
    "a=0\n",
    "\n",
    "for i in medium_length:\n",
    "    \n",
    "    if i in high_productivity_drivers:\n",
    "        \n",
    "        a+=1\n",
    "print(a)"
   ]
  },
  {
   "cell_type": "markdown",
   "id": "1b49a41a",
   "metadata": {},
   "source": [
    "from math import radians, cos, sin, asin, sqrt\n",
    "def distance(lat1, lat2, lon1, lon2):\n",
    "     \n",
    "    # The math module contains a function named\n",
    "    # radians which converts from degrees to radians.\n",
    "    lon1 = radians(lon1)\n",
    "    lon2 = radians(lon2)\n",
    "    lat1 = radians(lat1)\n",
    "    lat2 = radians(lat2)\n",
    "      \n",
    "    # Haversine formula\n",
    "    dlon = lon2 - lon1\n",
    "    dlat = lat2 - lat1\n",
    "    a = sin(dlat / 2)**2 + cos(lat1) * cos(lat2) * sin(dlon / 2)**2\n",
    " \n",
    "    c = 2 * asin(sqrt(a))\n",
    "    \n",
    "    # Radius of earth in kilometers. Use 3956 for miles\n",
    "    r = 6371\n",
    "      \n",
    "    # calculate the result\n",
    "    return(c * r)\n",
    "     \n",
    "     \n",
    "# driver code\n"
   ]
  },
  {
   "cell_type": "code",
   "execution_count": null,
   "id": "3c98cc35",
   "metadata": {},
   "outputs": [],
   "source": []
  }
 ],
 "metadata": {
  "kernelspec": {
   "display_name": "Ironhack",
   "language": "python",
   "name": "ironhack"
  },
  "language_info": {
   "codemirror_mode": {
    "name": "ipython",
    "version": 3
   },
   "file_extension": ".py",
   "mimetype": "text/x-python",
   "name": "python",
   "nbconvert_exporter": "python",
   "pygments_lexer": "ipython3",
   "version": "3.9.7"
  }
 },
 "nbformat": 4,
 "nbformat_minor": 5
}
