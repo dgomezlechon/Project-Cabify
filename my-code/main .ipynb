{
 "cells": [
  {
   "cell_type": "markdown",
   "id": "505a058f",
   "metadata": {},
   "source": [
    "We install and import the libraries needed"
   ]
  },
  {
   "cell_type": "code",
   "execution_count": 1,
   "id": "89579f09",
   "metadata": {},
   "outputs": [
    {
     "name": "stdout",
     "output_type": "stream",
     "text": [
      "Requirement already satisfied: openpyxl in /Users/danigomezlechonbarrachina/opt/anaconda3/envs/Ironhack/lib/python3.9/site-packages (3.0.9)\n",
      "Requirement already satisfied: et-xmlfile in /Users/danigomezlechonbarrachina/opt/anaconda3/envs/Ironhack/lib/python3.9/site-packages (from openpyxl) (1.1.0)\n",
      "Note: you may need to restart the kernel to use updated packages.\n"
     ]
    }
   ],
   "source": [
    "pip install openpyxl"
   ]
  },
  {
   "cell_type": "code",
   "execution_count": 2,
   "id": "f87e1fe8",
   "metadata": {},
   "outputs": [],
   "source": [
    "import pandas as pd "
   ]
  },
  {
   "cell_type": "markdown",
   "id": "7f6e45eb",
   "metadata": {},
   "source": [
    "I import the data from excel into Pandas"
   ]
  },
  {
   "cell_type": "code",
   "execution_count": 3,
   "id": "757bcd2f",
   "metadata": {},
   "outputs": [],
   "source": [
    "data=pd.read_excel(\"../data/Data_BC_GlobalDelivery (1).xlsx\")"
   ]
  },
  {
   "cell_type": "code",
   "execution_count": 171,
   "id": "a9d913f3",
   "metadata": {},
   "outputs": [
    {
     "data": {
      "text/html": [
       "<div>\n",
       "<style scoped>\n",
       "    .dataframe tbody tr th:only-of-type {\n",
       "        vertical-align: middle;\n",
       "    }\n",
       "\n",
       "    .dataframe tbody tr th {\n",
       "        vertical-align: top;\n",
       "    }\n",
       "\n",
       "    .dataframe thead th {\n",
       "        text-align: right;\n",
       "    }\n",
       "</style>\n",
       "<table border=\"1\" class=\"dataframe\">\n",
       "  <thead>\n",
       "    <tr style=\"text-align: right;\">\n",
       "      <th></th>\n",
       "      <th>journey_id</th>\n",
       "      <th>user_id</th>\n",
       "      <th>driver_id</th>\n",
       "      <th>icon</th>\n",
       "      <th>start_type</th>\n",
       "      <th>start_at</th>\n",
       "      <th>start_lat</th>\n",
       "      <th>start_lon</th>\n",
       "      <th>end_at</th>\n",
       "      <th>end_lat</th>\n",
       "      <th>...</th>\n",
       "      <th>price_distance</th>\n",
       "      <th>price_duration</th>\n",
       "      <th>distance</th>\n",
       "      <th>duration</th>\n",
       "      <th>cost</th>\n",
       "      <th>cost_distance</th>\n",
       "      <th>cost_duration</th>\n",
       "      <th>source</th>\n",
       "      <th>driver_score</th>\n",
       "      <th>rider_score</th>\n",
       "    </tr>\n",
       "  </thead>\n",
       "  <tbody>\n",
       "    <tr>\n",
       "      <th>0</th>\n",
       "      <td>23a1406fc6a11d866e3c82f22eed4d4c</td>\n",
       "      <td>0e9af5bbf1edfe591b54ecdfd7e91e26</td>\n",
       "      <td>583949a89a9ee17d19e3ca4f137b6b4c</td>\n",
       "      <td>executive</td>\n",
       "      <td>asap</td>\n",
       "      <td>2010-11-16 16:44:52.000002</td>\n",
       "      <td>-12.139835</td>\n",
       "      <td>-77.023560</td>\n",
       "      <td>2010-11-16 17:29:56.999996</td>\n",
       "      <td>-12.055370</td>\n",
       "      <td>...</td>\n",
       "      <td>3626.0</td>\n",
       "      <td>195.0</td>\n",
       "      <td>11331.0</td>\n",
       "      <td>234.0</td>\n",
       "      <td>0.0</td>\n",
       "      <td>0.0</td>\n",
       "      <td>0.0</td>\n",
       "      <td>iPhone</td>\n",
       "      <td>5.0</td>\n",
       "      <td>5.0</td>\n",
       "    </tr>\n",
       "    <tr>\n",
       "      <th>1</th>\n",
       "      <td>85b7eabcf5d84e42dc7629b7d27781af</td>\n",
       "      <td>56772d544fdfa589a020a1ff894a86f7</td>\n",
       "      <td>d665fb9f75ef5d9cd0fd89479380ba78</td>\n",
       "      <td>executive</td>\n",
       "      <td>reserved</td>\n",
       "      <td>2010-09-11 23:55:00.000002</td>\n",
       "      <td>-12.089954</td>\n",
       "      <td>-76.926270</td>\n",
       "      <td>2010-09-12 01:07:01.999998</td>\n",
       "      <td>-12.022232</td>\n",
       "      <td>...</td>\n",
       "      <td>7665.0</td>\n",
       "      <td>562.0</td>\n",
       "      <td>30270.0</td>\n",
       "      <td>715.0</td>\n",
       "      <td>6173.0</td>\n",
       "      <td>5756.0</td>\n",
       "      <td>417.0</td>\n",
       "      <td>iPhone</td>\n",
       "      <td>4.0</td>\n",
       "      <td>5.0</td>\n",
       "    </tr>\n",
       "    <tr>\n",
       "      <th>2</th>\n",
       "      <td>2254715f0f569e3173ec61f16cbb8341</td>\n",
       "      <td>56772d544fdfa589a020a1ff894a86f7</td>\n",
       "      <td>baacf396f773709519bbde35a5eab861</td>\n",
       "      <td>executive</td>\n",
       "      <td>reserved</td>\n",
       "      <td>2010-08-10 13:00:00.000003</td>\n",
       "      <td>-12.022419</td>\n",
       "      <td>-77.106506</td>\n",
       "      <td>2010-08-10 14:26:51.000003</td>\n",
       "      <td>-12.089802</td>\n",
       "      <td>...</td>\n",
       "      <td>7393.0</td>\n",
       "      <td>1001.0</td>\n",
       "      <td>29080.0</td>\n",
       "      <td>1201.0</td>\n",
       "      <td>5875.0</td>\n",
       "      <td>5175.0</td>\n",
       "      <td>700.0</td>\n",
       "      <td>iPhone</td>\n",
       "      <td>NaN</td>\n",
       "      <td>4.0</td>\n",
       "    </tr>\n",
       "    <tr>\n",
       "      <th>3</th>\n",
       "      <td>12432d83b49393bf25164673212b8295</td>\n",
       "      <td>56772d544fdfa589a020a1ff894a86f7</td>\n",
       "      <td>e1332f68e81526e498e4d845233a6d7d</td>\n",
       "      <td>executive</td>\n",
       "      <td>reserved</td>\n",
       "      <td>2010-08-08 12:09:59.999996</td>\n",
       "      <td>-12.089958</td>\n",
       "      <td>-76.926208</td>\n",
       "      <td>2010-08-08 12:48:02.000002</td>\n",
       "      <td>-12.021523</td>\n",
       "      <td>...</td>\n",
       "      <td>7112.0</td>\n",
       "      <td>0.0</td>\n",
       "      <td>27230.0</td>\n",
       "      <td>0.0</td>\n",
       "      <td>5340.0</td>\n",
       "      <td>5340.0</td>\n",
       "      <td>0.0</td>\n",
       "      <td>iPhone</td>\n",
       "      <td>5.0</td>\n",
       "      <td>5.0</td>\n",
       "    </tr>\n",
       "    <tr>\n",
       "      <th>4</th>\n",
       "      <td>2e51db3a8a77aa594aa686ff19fe6036</td>\n",
       "      <td>56772d544fdfa589a020a1ff894a86f7</td>\n",
       "      <td>d665fb9f75ef5d9cd0fd89479380ba78</td>\n",
       "      <td>executive</td>\n",
       "      <td>asap</td>\n",
       "      <td>2010-05-16 03:58:58.999996</td>\n",
       "      <td>-12.113472</td>\n",
       "      <td>-77.043854</td>\n",
       "      <td>2010-05-16 04:40:34.999997</td>\n",
       "      <td>-12.091087</td>\n",
       "      <td>...</td>\n",
       "      <td>5519.0</td>\n",
       "      <td>193.0</td>\n",
       "      <td>17247.0</td>\n",
       "      <td>232.0</td>\n",
       "      <td>4282.0</td>\n",
       "      <td>4139.0</td>\n",
       "      <td>143.0</td>\n",
       "      <td>iPhone</td>\n",
       "      <td>5.0</td>\n",
       "      <td>5.0</td>\n",
       "    </tr>\n",
       "  </tbody>\n",
       "</table>\n",
       "<p>5 rows × 27 columns</p>\n",
       "</div>"
      ],
      "text/plain": [
       "                         journey_id                           user_id  \\\n",
       "0  23a1406fc6a11d866e3c82f22eed4d4c  0e9af5bbf1edfe591b54ecdfd7e91e26   \n",
       "1  85b7eabcf5d84e42dc7629b7d27781af  56772d544fdfa589a020a1ff894a86f7   \n",
       "2  2254715f0f569e3173ec61f16cbb8341  56772d544fdfa589a020a1ff894a86f7   \n",
       "3  12432d83b49393bf25164673212b8295  56772d544fdfa589a020a1ff894a86f7   \n",
       "4  2e51db3a8a77aa594aa686ff19fe6036  56772d544fdfa589a020a1ff894a86f7   \n",
       "\n",
       "                          driver_id       icon start_type  \\\n",
       "0  583949a89a9ee17d19e3ca4f137b6b4c  executive       asap   \n",
       "1  d665fb9f75ef5d9cd0fd89479380ba78  executive   reserved   \n",
       "2  baacf396f773709519bbde35a5eab861  executive   reserved   \n",
       "3  e1332f68e81526e498e4d845233a6d7d  executive   reserved   \n",
       "4  d665fb9f75ef5d9cd0fd89479380ba78  executive       asap   \n",
       "\n",
       "                    start_at  start_lat  start_lon                     end_at  \\\n",
       "0 2010-11-16 16:44:52.000002 -12.139835 -77.023560 2010-11-16 17:29:56.999996   \n",
       "1 2010-09-11 23:55:00.000002 -12.089954 -76.926270 2010-09-12 01:07:01.999998   \n",
       "2 2010-08-10 13:00:00.000003 -12.022419 -77.106506 2010-08-10 14:26:51.000003   \n",
       "3 2010-08-08 12:09:59.999996 -12.089958 -76.926208 2010-08-08 12:48:02.000002   \n",
       "4 2010-05-16 03:58:58.999996 -12.113472 -77.043854 2010-05-16 04:40:34.999997   \n",
       "\n",
       "     end_lat  ...  price_distance price_duration  distance  duration    cost  \\\n",
       "0 -12.055370  ...          3626.0          195.0   11331.0     234.0     0.0   \n",
       "1 -12.022232  ...          7665.0          562.0   30270.0     715.0  6173.0   \n",
       "2 -12.089802  ...          7393.0         1001.0   29080.0    1201.0  5875.0   \n",
       "3 -12.021523  ...          7112.0            0.0   27230.0       0.0  5340.0   \n",
       "4 -12.091087  ...          5519.0          193.0   17247.0     232.0  4282.0   \n",
       "\n",
       "  cost_distance  cost_duration  source  driver_score  rider_score  \n",
       "0           0.0            0.0  iPhone           5.0          5.0  \n",
       "1        5756.0          417.0  iPhone           4.0          5.0  \n",
       "2        5175.0          700.0  iPhone           NaN          4.0  \n",
       "3        5340.0            0.0  iPhone           5.0          5.0  \n",
       "4        4139.0          143.0  iPhone           5.0          5.0  \n",
       "\n",
       "[5 rows x 27 columns]"
      ]
     },
     "execution_count": 171,
     "metadata": {},
     "output_type": "execute_result"
    }
   ],
   "source": [
    "data.head()"
   ]
  },
  {
   "cell_type": "markdown",
   "id": "74034e5e",
   "metadata": {},
   "source": [
    "### Exploring and analyzing drivers data"
   ]
  },
  {
   "cell_type": "code",
   "execution_count": 4,
   "id": "4437089b",
   "metadata": {},
   "outputs": [],
   "source": [
    "drivers=data.driver_id.unique()"
   ]
  },
  {
   "cell_type": "code",
   "execution_count": 5,
   "id": "9a0f3af3",
   "metadata": {},
   "outputs": [
    {
     "data": {
      "text/plain": [
       "169"
      ]
     },
     "execution_count": 5,
     "metadata": {},
     "output_type": "execute_result"
    }
   ],
   "source": [
    "len(drivers)"
   ]
  },
  {
   "cell_type": "markdown",
   "id": "4d25a7e4",
   "metadata": {},
   "source": [
    "I drop the records for which we dont have a driver_id as they wont be useful for the analysis"
   ]
  },
  {
   "cell_type": "code",
   "execution_count": 6,
   "id": "ba2fc351",
   "metadata": {},
   "outputs": [],
   "source": [
    "data=data[data.driver_id.notna()]"
   ]
  },
  {
   "cell_type": "code",
   "execution_count": 7,
   "id": "c3b74c1c",
   "metadata": {},
   "outputs": [],
   "source": [
    "data.reset_index(inplace=True)"
   ]
  },
  {
   "cell_type": "code",
   "execution_count": 26,
   "id": "4719d9d5",
   "metadata": {},
   "outputs": [],
   "source": [
    "data=data.drop(\"index\",axis=1)"
   ]
  },
  {
   "cell_type": "code",
   "execution_count": 9,
   "id": "3e102342",
   "metadata": {},
   "outputs": [],
   "source": [
    "data2=data[[\"driver_id\",\"journey_id\",\"price\",\"cost\",\"end_state\",\"driver_score\",\"rider_score\"]]"
   ]
  },
  {
   "cell_type": "code",
   "execution_count": 10,
   "id": "5080fb01",
   "metadata": {},
   "outputs": [],
   "source": [
    "\n",
    "driv_summary=data2.groupby([\"driver_id\",\"end_state\"]).agg({\"journey_id\":\"count\",\"price\":\"sum\",\"cost\":\"sum\",\"driver_score\":\"mean\",\"rider_score\":\"mean\"})"
   ]
  },
  {
   "cell_type": "code",
   "execution_count": 11,
   "id": "f356ce2f",
   "metadata": {},
   "outputs": [],
   "source": [
    "driv_summary.reset_index(inplace=True)"
   ]
  },
  {
   "cell_type": "code",
   "execution_count": 12,
   "id": "8e6fa99c",
   "metadata": {},
   "outputs": [],
   "source": [
    "driver_canceling=driv_summary[driv_summary.end_state==\"driver cancel\"]"
   ]
  },
  {
   "cell_type": "markdown",
   "id": "085d31b5",
   "metadata": {},
   "source": [
    "There are 168 different riders, of which 65 have canceled their journeys (\"driver cancel\") at least once"
   ]
  },
  {
   "cell_type": "markdown",
   "id": "c371e0de",
   "metadata": {},
   "source": [
    "At this point I have to decide from which amount of cancelations made by the drivers we can consider them as low quality drivers as if they only have a few number of cancelations it may be due to extraordinary causes. \n",
    "\n",
    "For this i can only focus on absolute numbers, but instead I will have to look at the % of journeys they have cancelled. (its not the same to cancel 8 out of 300 that 2 out of 15. Therefore we first need to check the % cancelation."
   ]
  },
  {
   "cell_type": "code",
   "execution_count": 13,
   "id": "8656e429",
   "metadata": {},
   "outputs": [],
   "source": [
    "driver_canceling.set_index(\"driver_id\",inplace=True)"
   ]
  },
  {
   "cell_type": "code",
   "execution_count": 14,
   "id": "b01918c7",
   "metadata": {},
   "outputs": [
    {
     "name": "stderr",
     "output_type": "stream",
     "text": [
      "/var/folders/tr/7ry1klqj22sglvfj6nq3g5kw0000gn/T/ipykernel_57870/2160433506.py:1: SettingWithCopyWarning: \n",
      "A value is trying to be set on a copy of a slice from a DataFrame.\n",
      "Try using .loc[row_indexer,col_indexer] = value instead\n",
      "\n",
      "See the caveats in the documentation: https://pandas.pydata.org/pandas-docs/stable/user_guide/indexing.html#returning-a-view-versus-a-copy\n",
      "  driver_canceling[\"total_journeys\"]=0\n"
     ]
    }
   ],
   "source": [
    "driver_canceling[\"total_journeys\"]=0"
   ]
  },
  {
   "cell_type": "code",
   "execution_count": 17,
   "id": "6e64e11f",
   "metadata": {},
   "outputs": [],
   "source": [
    "journeys=data.groupby(\"driver_id\").count()"
   ]
  },
  {
   "cell_type": "code",
   "execution_count": 19,
   "id": "ad7c4ece",
   "metadata": {},
   "outputs": [],
   "source": [
    "driver_canceling=driver_canceling.assign(total_journeys=journeys[\"journey_id\"])"
   ]
  },
  {
   "cell_type": "code",
   "execution_count": 21,
   "id": "1a1b340e",
   "metadata": {},
   "outputs": [],
   "source": [
    "driver_canceling[\"percentage cancelled\"]=(driver_canceling.journey_id/driver_canceling.total_journeys)*100"
   ]
  },
  {
   "cell_type": "markdown",
   "id": "7274a7f1",
   "metadata": {},
   "source": [
    "I am going to classify as low quality drivers those with a percentage of trips cancelled by them greater than 8%"
   ]
  },
  {
   "cell_type": "code",
   "execution_count": 31,
   "id": "a8eb2567",
   "metadata": {},
   "outputs": [],
   "source": [
    "low_quality_drivers=driver_canceling.index[driver_canceling[\"percentage cancelled\"]>=8]"
   ]
  },
  {
   "cell_type": "code",
   "execution_count": 74,
   "id": "fb2378d3",
   "metadata": {},
   "outputs": [],
   "source": [
    "low_quality_drivers=list(low_quality_drivers)"
   ]
  },
  {
   "cell_type": "code",
   "execution_count": 79,
   "id": "65bee436",
   "metadata": {},
   "outputs": [],
   "source": [
    "medium_quality_drivers=driver_canceling.index[(driver_canceling[\"percentage cancelled\"]>=4)&(driver_canceling[\"percentage cancelled\"]<=8)]"
   ]
  },
  {
   "cell_type": "code",
   "execution_count": 80,
   "id": "58b77e99",
   "metadata": {},
   "outputs": [],
   "source": [
    "medium_quality_drivers=list(medium_quality_drivers)"
   ]
  },
  {
   "cell_type": "code",
   "execution_count": 81,
   "id": "0670f3a1",
   "metadata": {},
   "outputs": [],
   "source": [
    "high_quality_drivers=driver_canceling.index[driver_canceling[\"percentage cancelled\"]<4]"
   ]
  },
  {
   "cell_type": "code",
   "execution_count": 82,
   "id": "5d8511ef",
   "metadata": {},
   "outputs": [],
   "source": [
    "high_quality_drivers=list(high_quality_drivers)"
   ]
  },
  {
   "cell_type": "markdown",
   "id": "1929e2e5",
   "metadata": {},
   "source": [
    "#### Now Im going to focus on the rating of the drivers"
   ]
  },
  {
   "cell_type": "code",
   "execution_count": 28,
   "id": "7b861435",
   "metadata": {},
   "outputs": [],
   "source": [
    "ratings=data[[\"driver_id\",\"rider_score\",\"driver_score\"]]"
   ]
  },
  {
   "cell_type": "code",
   "execution_count": 30,
   "id": "5e6f88c4",
   "metadata": {},
   "outputs": [],
   "source": [
    "ratings=ratings.groupby(\"driver_id\").mean()"
   ]
  },
  {
   "cell_type": "markdown",
   "id": "62c1e528",
   "metadata": {},
   "source": [
    "We are going to set as:\n",
    "\n",
    "low quality drivers those that have a rating below 3.5, \n",
    "\n",
    "\n",
    "medium quality those with rating above 3.5 and below 4.5 \n",
    "\n",
    "\n",
    "high quality those with rating higher than or equal to 4.5"
   ]
  },
  {
   "cell_type": "code",
   "execution_count": 174,
   "id": "dcd8e4ac",
   "metadata": {},
   "outputs": [],
   "source": [
    "for i in range(len(ratings.index)):      \n",
    "\n",
    "    if ratings.driver_score[i]<3.5:\n",
    "        \n",
    "        low_quality_drivers.append(ratings.index[i])       "
   ]
  },
  {
   "cell_type": "code",
   "execution_count": 179,
   "id": "5eb1f819",
   "metadata": {},
   "outputs": [],
   "source": [
    "for i in range(len(ratings.index)):      \n",
    "\n",
    "    if ratings.driver_score[i]<4.5 and ratings.driver_score[i]>=3.5 and ratings.driver_score[i] not in low_quality_drivers:\n",
    "        \n",
    "        medium_quality_drivers.append(ratings.index[i])       "
   ]
  },
  {
   "cell_type": "code",
   "execution_count": 87,
   "id": "bd0687f5",
   "metadata": {},
   "outputs": [],
   "source": [
    "for i in range(len(ratings.index)):      \n",
    "\n",
    "    if ratings.driver_score[i]>=4.5 and ratings.driver_score[i] not in medium_quality_drivers and ratings.driver_score[i] not in low_quality_drivers:\n",
    "        \n",
    "        high_quality_drivers.append(ratings.index[i])  "
   ]
  },
  {
   "cell_type": "markdown",
   "id": "bfad838a",
   "metadata": {},
   "source": [
    "#### We check \"failure\" and \"not found\" trips"
   ]
  },
  {
   "cell_type": "markdown",
   "id": "8bada5f3",
   "metadata": {},
   "source": [
    "For these type of trips we see that not found ones are due to the app not finding a driver and failure might be due to a fail in the app. Therefore thse wont be relevant right now to classify riders"
   ]
  },
  {
   "cell_type": "markdown",
   "id": "dcb4e78f",
   "metadata": {},
   "source": [
    "#### Number of trips"
   ]
  },
  {
   "cell_type": "markdown",
   "id": "16226776",
   "metadata": {},
   "source": [
    "Now we are going to classify drivers according to the time they work for us and the amount of profit (price-cost) they report on average to the company and we will classify them in low_productibity_drivers, medium_productibity_drivers and high_productibity_drivers"
   ]
  },
  {
   "cell_type": "markdown",
   "id": "200ab7ef",
   "metadata": {},
   "source": [
    "-low_productibity_drivers below the 30th percentile\n",
    "\n",
    "-medium_productibity_drivers below the 60th percentile and above the 30th \n",
    "\n",
    "-high_productibity_drivers above the 75th percentile"
   ]
  },
  {
   "cell_type": "code",
   "execution_count": 109,
   "id": "961226b2",
   "metadata": {},
   "outputs": [
    {
     "data": {
      "text/plain": [
       "9.0"
      ]
     },
     "execution_count": 109,
     "metadata": {},
     "output_type": "execute_result"
    }
   ],
   "source": [
    "journeys.journey_id.quantile(0.30)"
   ]
  },
  {
   "cell_type": "code",
   "execution_count": 118,
   "id": "40f7fdb2",
   "metadata": {},
   "outputs": [],
   "source": [
    "low_productibity_drivers=journeys.index[journeys.journey_id<journeys.journey_id.quantile(0.30)]"
   ]
  },
  {
   "cell_type": "code",
   "execution_count": 121,
   "id": "cdc92c5d",
   "metadata": {},
   "outputs": [],
   "source": [
    "low_productibity_drivers=list(low_productibity_drivers)"
   ]
  },
  {
   "cell_type": "code",
   "execution_count": 102,
   "id": "74674989",
   "metadata": {},
   "outputs": [
    {
     "data": {
      "text/plain": [
       "25.0"
      ]
     },
     "execution_count": 102,
     "metadata": {},
     "output_type": "execute_result"
    }
   ],
   "source": [
    "journeys.journey_id.median()"
   ]
  },
  {
   "cell_type": "code",
   "execution_count": 172,
   "id": "40ef3484",
   "metadata": {},
   "outputs": [
    {
     "data": {
      "text/plain": [
       "117.41666666666667"
      ]
     },
     "execution_count": 172,
     "metadata": {},
     "output_type": "execute_result"
    }
   ],
   "source": [
    "journeys.journey_id.mean()"
   ]
  },
  {
   "cell_type": "code",
   "execution_count": 214,
   "id": "c102cd39",
   "metadata": {},
   "outputs": [],
   "source": [
    "medium_productibity_drivers=journeys.index[(journeys.journey_id<journeys.journey_id.quantile(0.75)) & (journeys.journey_id>=journeys.journey_id.quantile(0.30))]"
   ]
  },
  {
   "cell_type": "code",
   "execution_count": 215,
   "id": "ed812a4d",
   "metadata": {},
   "outputs": [],
   "source": [
    "medium_productibity_drivers=list(medium_productibity_drivers)"
   ]
  },
  {
   "cell_type": "code",
   "execution_count": 104,
   "id": "325a54cf",
   "metadata": {},
   "outputs": [
    {
     "data": {
      "text/plain": [
       "89.5"
      ]
     },
     "execution_count": 104,
     "metadata": {},
     "output_type": "execute_result"
    }
   ],
   "source": [
    "journeys.journey_id.quantile(0.75)"
   ]
  },
  {
   "cell_type": "code",
   "execution_count": 211,
   "id": "82ace6b8",
   "metadata": {},
   "outputs": [],
   "source": [
    "high_productibity_drivers=journeys.index[journeys.journey_id>journeys.journey_id.quantile(0.75)]"
   ]
  },
  {
   "cell_type": "code",
   "execution_count": 212,
   "id": "8b9a45cb",
   "metadata": {},
   "outputs": [],
   "source": [
    "high_productibity_drivers=list(high_productibity_drivers)"
   ]
  },
  {
   "cell_type": "markdown",
   "id": "8fd9b4cf",
   "metadata": {},
   "source": [
    "Now Im going to calculate the average duration per trip and the average profit they make per trip as well as the total amount"
   ]
  },
  {
   "cell_type": "code",
   "execution_count": 140,
   "id": "143cd3fd",
   "metadata": {},
   "outputs": [],
   "source": [
    "trips=data[[\"driver_id\",\"price\",\"cost\",\"duration\",\"journey_id\"]]"
   ]
  },
  {
   "cell_type": "code",
   "execution_count": 141,
   "id": "e4daa725",
   "metadata": {},
   "outputs": [],
   "source": [
    "trips=trips.groupby(\"driver_id\").agg({\"price\":\"sum\",\"cost\":\"sum\",\"duration\":\"sum\",\"journey_id\":\"count\"})"
   ]
  },
  {
   "cell_type": "code",
   "execution_count": 143,
   "id": "f473897a",
   "metadata": {},
   "outputs": [],
   "source": [
    "trips[\"profit\"]=trips.price-trips.cost"
   ]
  },
  {
   "cell_type": "code",
   "execution_count": 145,
   "id": "e437b18f",
   "metadata": {},
   "outputs": [],
   "source": [
    "trips[\"avg_profit\"]=trips.profit/trips.journey_id"
   ]
  },
  {
   "cell_type": "code",
   "execution_count": 153,
   "id": "44a8e9eb",
   "metadata": {},
   "outputs": [],
   "source": [
    "loose_money=trips[trips.profit<0]"
   ]
  },
  {
   "cell_type": "code",
   "execution_count": 221,
   "id": "82c72973",
   "metadata": {},
   "outputs": [
    {
     "data": {
      "text/plain": [
       "14"
      ]
     },
     "execution_count": 221,
     "metadata": {},
     "output_type": "execute_result"
    }
   ],
   "source": [
    "len(loose_money)"
   ]
  },
  {
   "cell_type": "markdown",
   "id": "55959cbc",
   "metadata": {},
   "source": [
    "We see there are drivers that eventhough might have a considerable amount of trips, are loosing money, therefore we will classify them as low_productivity_drivers\n",
    "\n",
    "I will classify as medium those with an average profit below the 0.5 quantile and above 0 and as high those between the 50th and 100th quartiles"
   ]
  },
  {
   "cell_type": "code",
   "execution_count": 155,
   "id": "a7f02749",
   "metadata": {},
   "outputs": [],
   "source": [
    "for i in loose_money.index:\n",
    "    \n",
    "    if i not in low_productibity_drivers:\n",
    "        \n",
    "        low_productibity_drivers.append(i)"
   ]
  },
  {
   "cell_type": "code",
   "execution_count": 220,
   "id": "2414f522",
   "metadata": {},
   "outputs": [
    {
     "data": {
      "text/plain": [
       "13413.5"
      ]
     },
     "execution_count": 220,
     "metadata": {},
     "output_type": "execute_result"
    }
   ],
   "source": [
    "trips[\"profit\"].quantile(0.50)"
   ]
  },
  {
   "cell_type": "code",
   "execution_count": 218,
   "id": "cc67fd65",
   "metadata": {},
   "outputs": [],
   "source": [
    "for i in range(len(trips.index)):\n",
    "    \n",
    "    if trips[\"profit\"][i]<676.7516556291391  and trips.profit[i]>0:\n",
    "                                                        \n",
    "        \n",
    "        medium_productibity_drivers.append(i)      "
   ]
  },
  {
   "cell_type": "code",
   "execution_count": 219,
   "id": "d0c8e2f3",
   "metadata": {},
   "outputs": [],
   "source": [
    "for i in range(len(trips.index)):\n",
    "    \n",
    "    if trips[\"profit\"][i]>=trips[\"profit\"].quantile(0.50):\n",
    "                                                        \n",
    "        \n",
    "        high_productibity_drivers.append(i)\n",
    "        "
   ]
  },
  {
   "cell_type": "code",
   "execution_count": null,
   "id": "c37974e2",
   "metadata": {},
   "outputs": [],
   "source": []
  },
  {
   "cell_type": "markdown",
   "id": "674eab77",
   "metadata": {},
   "source": [
    "## Exploring and analyzing clients data"
   ]
  },
  {
   "cell_type": "markdown",
   "id": "693cfed5",
   "metadata": {},
   "source": [
    "#### Rating scores"
   ]
  },
  {
   "cell_type": "markdown",
   "id": "4423a0a6",
   "metadata": {},
   "source": [
    "In the same way as we used drivers scores to calsify them, im going to use the \"rider_score\" to classify clients. In this case we will use the same metrics:\n",
    "\n",
    "low_quality_riders <3.5\n",
    "\n",
    "3.5<=medium_quality_riders<4.5\n",
    "\n",
    "4.5<=high_quality_riders\n"
   ]
  },
  {
   "cell_type": "code",
   "execution_count": 176,
   "id": "707ef4fc",
   "metadata": {},
   "outputs": [],
   "source": [
    "low_quality_riders=[]\n",
    "medium_quality_riders=[]\n",
    "high_quality_riders=[]"
   ]
  },
  {
   "cell_type": "code",
   "execution_count": 177,
   "id": "e26f3eb6",
   "metadata": {},
   "outputs": [],
   "source": [
    "for i in range(len(ratings.index)):      \n",
    "\n",
    "    if ratings.rider_score[i]<3.5:\n",
    "        \n",
    "        low_quality_riders.append(ratings.index)   "
   ]
  },
  {
   "cell_type": "code",
   "execution_count": 225,
   "id": "c003492a",
   "metadata": {},
   "outputs": [
    {
     "data": {
      "text/plain": [
       "21"
      ]
     },
     "execution_count": 225,
     "metadata": {},
     "output_type": "execute_result"
    }
   ],
   "source": [
    "len(low_quality_riders)"
   ]
  },
  {
   "cell_type": "code",
   "execution_count": 227,
   "id": "575dd6f5",
   "metadata": {},
   "outputs": [
    {
     "data": {
      "text/plain": [
       "68"
      ]
     },
     "execution_count": 227,
     "metadata": {},
     "output_type": "execute_result"
    }
   ],
   "source": [
    "len(medium_quality_riders)"
   ]
  },
  {
   "cell_type": "code",
   "execution_count": 229,
   "id": "fe8b632d",
   "metadata": {},
   "outputs": [
    {
     "data": {
      "text/plain": [
       "109"
      ]
     },
     "execution_count": 229,
     "metadata": {},
     "output_type": "execute_result"
    }
   ],
   "source": [
    "len(high_quality_riders)"
   ]
  },
  {
   "cell_type": "code",
   "execution_count": 184,
   "id": "c84358a7",
   "metadata": {},
   "outputs": [],
   "source": [
    "for i in range(len(ratings.index)):      \n",
    "\n",
    "    if ratings.rider_score[i]<4.5 and ratings.rider_score[i]>=3.5 :#and ratings.rider_score[i] not in low_quality_riders:\n",
    "        \n",
    "        medium_quality_riders.append(ratings.index[i])    "
   ]
  },
  {
   "cell_type": "code",
   "execution_count": 224,
   "id": "32cd5336",
   "metadata": {},
   "outputs": [],
   "source": [
    "for i in range(len(ratings.index)):      \n",
    "\n",
    "    if ratings.rider_score[i]>=4.5: #and ratings.rider_score[i] not in medium_quality_riders and ratings.rider_score[i] not in low_quality_riders:\n",
    "        \n",
    "        high_quality_riders.append(ratings.index[i])  "
   ]
  },
  {
   "cell_type": "markdown",
   "id": "fb6b0777",
   "metadata": {},
   "source": [
    "#### Average and total profit and riders made by users"
   ]
  },
  {
   "cell_type": "markdown",
   "id": "655b8a24",
   "metadata": {},
   "source": [
    "Now Im going to check the amount of rides each customer has done as well as the profits we made with each customer and the average profit their trips report to the company "
   ]
  },
  {
   "cell_type": "code",
   "execution_count": 197,
   "id": "2806879c",
   "metadata": {},
   "outputs": [],
   "source": [
    "riders=data[[\"user_id\",\"journey_id\",\"end_state\",\"duration\",\"price\",\"cost\",\"distance\"]]"
   ]
  },
  {
   "cell_type": "code",
   "execution_count": 198,
   "id": "9d2ec351",
   "metadata": {},
   "outputs": [],
   "source": [
    "riders=riders.groupby(\"user_id\").agg({\"journey_id\":\"count\",\"end_state\":\"count\",\"duration\":\"sum\",\"cost\":\"sum\",\"price\":\"sum\",\"distance\":\"sum\"})"
   ]
  },
  {
   "cell_type": "code",
   "execution_count": 194,
   "id": "a2767b6a",
   "metadata": {},
   "outputs": [
    {
     "data": {
      "text/plain": [
       "630"
      ]
     },
     "execution_count": 194,
     "metadata": {},
     "output_type": "execute_result"
    }
   ],
   "source": [
    "riders.journey_id.max()"
   ]
  },
  {
   "cell_type": "code",
   "execution_count": 200,
   "id": "007b0366",
   "metadata": {},
   "outputs": [],
   "source": [
    "riders[\"profit\"]=riders.price-riders.cost"
   ]
  },
  {
   "cell_type": "code",
   "execution_count": 206,
   "id": "3f31b011",
   "metadata": {},
   "outputs": [],
   "source": [
    "riders[\"avg_profit\"]=riders.profit/riders.journey_id"
   ]
  },
  {
   "cell_type": "code",
   "execution_count": 231,
   "id": "f3d43dec",
   "metadata": {},
   "outputs": [
    {
     "data": {
      "text/html": [
       "<div>\n",
       "<style scoped>\n",
       "    .dataframe tbody tr th:only-of-type {\n",
       "        vertical-align: middle;\n",
       "    }\n",
       "\n",
       "    .dataframe tbody tr th {\n",
       "        vertical-align: top;\n",
       "    }\n",
       "\n",
       "    .dataframe thead th {\n",
       "        text-align: right;\n",
       "    }\n",
       "</style>\n",
       "<table border=\"1\" class=\"dataframe\">\n",
       "  <thead>\n",
       "    <tr style=\"text-align: right;\">\n",
       "      <th></th>\n",
       "      <th>journey_id</th>\n",
       "      <th>end_state</th>\n",
       "      <th>duration</th>\n",
       "      <th>cost</th>\n",
       "      <th>price</th>\n",
       "      <th>distance</th>\n",
       "      <th>profit</th>\n",
       "      <th>avg_profit</th>\n",
       "    </tr>\n",
       "    <tr>\n",
       "      <th>user_id</th>\n",
       "      <th></th>\n",
       "      <th></th>\n",
       "      <th></th>\n",
       "      <th></th>\n",
       "      <th></th>\n",
       "      <th></th>\n",
       "      <th></th>\n",
       "      <th></th>\n",
       "    </tr>\n",
       "  </thead>\n",
       "  <tbody>\n",
       "    <tr>\n",
       "      <th>00cb8ad6a0f7214d002e3ded6b7c9b80</th>\n",
       "      <td>7</td>\n",
       "      <td>7</td>\n",
       "      <td>1723.0</td>\n",
       "      <td>22246.0</td>\n",
       "      <td>31587.0</td>\n",
       "      <td>88349.0</td>\n",
       "      <td>9341.0</td>\n",
       "      <td>1334.428571</td>\n",
       "    </tr>\n",
       "    <tr>\n",
       "      <th>00cb8ad6a0f7214d002e3ded6b7de012</th>\n",
       "      <td>7</td>\n",
       "      <td>7</td>\n",
       "      <td>5722.0</td>\n",
       "      <td>13851.0</td>\n",
       "      <td>17782.0</td>\n",
       "      <td>42793.0</td>\n",
       "      <td>3931.0</td>\n",
       "      <td>561.571429</td>\n",
       "    </tr>\n",
       "    <tr>\n",
       "      <th>00cb8ad6a0f7214d002e3ded6b7eb91b</th>\n",
       "      <td>1</td>\n",
       "      <td>1</td>\n",
       "      <td>406.0</td>\n",
       "      <td>4238.0</td>\n",
       "      <td>5368.0</td>\n",
       "      <td>15716.0</td>\n",
       "      <td>1130.0</td>\n",
       "      <td>1130.000000</td>\n",
       "    </tr>\n",
       "    <tr>\n",
       "      <th>0194b4a5c9e41bfd35f9168423f7b7b4</th>\n",
       "      <td>2</td>\n",
       "      <td>2</td>\n",
       "      <td>0.0</td>\n",
       "      <td>0.0</td>\n",
       "      <td>0.0</td>\n",
       "      <td>0.0</td>\n",
       "      <td>0.0</td>\n",
       "      <td>0.000000</td>\n",
       "    </tr>\n",
       "    <tr>\n",
       "      <th>0194b4a5c9e41bfd35f9168423fa2857</th>\n",
       "      <td>30</td>\n",
       "      <td>30</td>\n",
       "      <td>12231.0</td>\n",
       "      <td>31359.0</td>\n",
       "      <td>50935.0</td>\n",
       "      <td>125130.0</td>\n",
       "      <td>19576.0</td>\n",
       "      <td>652.533333</td>\n",
       "    </tr>\n",
       "    <tr>\n",
       "      <th>...</th>\n",
       "      <td>...</td>\n",
       "      <td>...</td>\n",
       "      <td>...</td>\n",
       "      <td>...</td>\n",
       "      <td>...</td>\n",
       "      <td>...</td>\n",
       "      <td>...</td>\n",
       "      <td>...</td>\n",
       "    </tr>\n",
       "    <tr>\n",
       "      <th>ff1cb10b9edf79369742a37ce5d8d6f6</th>\n",
       "      <td>1</td>\n",
       "      <td>1</td>\n",
       "      <td>76.0</td>\n",
       "      <td>1700.0</td>\n",
       "      <td>1700.0</td>\n",
       "      <td>4776.0</td>\n",
       "      <td>0.0</td>\n",
       "      <td>0.000000</td>\n",
       "    </tr>\n",
       "    <tr>\n",
       "      <th>ff5c924e0b630fd7c019a4234053c385</th>\n",
       "      <td>1</td>\n",
       "      <td>1</td>\n",
       "      <td>61.0</td>\n",
       "      <td>2887.0</td>\n",
       "      <td>4441.0</td>\n",
       "      <td>13720.0</td>\n",
       "      <td>1554.0</td>\n",
       "      <td>1554.000000</td>\n",
       "    </tr>\n",
       "    <tr>\n",
       "      <th>ff5c924e0b630fd7c019a42340593ee2</th>\n",
       "      <td>1</td>\n",
       "      <td>1</td>\n",
       "      <td>193.0</td>\n",
       "      <td>1700.0</td>\n",
       "      <td>1700.0</td>\n",
       "      <td>3370.0</td>\n",
       "      <td>0.0</td>\n",
       "      <td>0.000000</td>\n",
       "    </tr>\n",
       "    <tr>\n",
       "      <th>ff5c924e0b630fd7c019a42340594b55</th>\n",
       "      <td>33</td>\n",
       "      <td>33</td>\n",
       "      <td>11363.0</td>\n",
       "      <td>52991.0</td>\n",
       "      <td>73581.0</td>\n",
       "      <td>224330.0</td>\n",
       "      <td>20590.0</td>\n",
       "      <td>623.939394</td>\n",
       "    </tr>\n",
       "    <tr>\n",
       "      <th>ff5c924e0b630fd7c019a42340596fb0</th>\n",
       "      <td>1</td>\n",
       "      <td>1</td>\n",
       "      <td>293.0</td>\n",
       "      <td>2528.0</td>\n",
       "      <td>2500.0</td>\n",
       "      <td>9778.0</td>\n",
       "      <td>-28.0</td>\n",
       "      <td>-28.000000</td>\n",
       "    </tr>\n",
       "  </tbody>\n",
       "</table>\n",
       "<p>1293 rows × 8 columns</p>\n",
       "</div>"
      ],
      "text/plain": [
       "                                  journey_id  end_state  duration     cost  \\\n",
       "user_id                                                                      \n",
       "00cb8ad6a0f7214d002e3ded6b7c9b80           7          7    1723.0  22246.0   \n",
       "00cb8ad6a0f7214d002e3ded6b7de012           7          7    5722.0  13851.0   \n",
       "00cb8ad6a0f7214d002e3ded6b7eb91b           1          1     406.0   4238.0   \n",
       "0194b4a5c9e41bfd35f9168423f7b7b4           2          2       0.0      0.0   \n",
       "0194b4a5c9e41bfd35f9168423fa2857          30         30   12231.0  31359.0   \n",
       "...                                      ...        ...       ...      ...   \n",
       "ff1cb10b9edf79369742a37ce5d8d6f6           1          1      76.0   1700.0   \n",
       "ff5c924e0b630fd7c019a4234053c385           1          1      61.0   2887.0   \n",
       "ff5c924e0b630fd7c019a42340593ee2           1          1     193.0   1700.0   \n",
       "ff5c924e0b630fd7c019a42340594b55          33         33   11363.0  52991.0   \n",
       "ff5c924e0b630fd7c019a42340596fb0           1          1     293.0   2528.0   \n",
       "\n",
       "                                    price  distance   profit   avg_profit  \n",
       "user_id                                                                    \n",
       "00cb8ad6a0f7214d002e3ded6b7c9b80  31587.0   88349.0   9341.0  1334.428571  \n",
       "00cb8ad6a0f7214d002e3ded6b7de012  17782.0   42793.0   3931.0   561.571429  \n",
       "00cb8ad6a0f7214d002e3ded6b7eb91b   5368.0   15716.0   1130.0  1130.000000  \n",
       "0194b4a5c9e41bfd35f9168423f7b7b4      0.0       0.0      0.0     0.000000  \n",
       "0194b4a5c9e41bfd35f9168423fa2857  50935.0  125130.0  19576.0   652.533333  \n",
       "...                                   ...       ...      ...          ...  \n",
       "ff1cb10b9edf79369742a37ce5d8d6f6   1700.0    4776.0      0.0     0.000000  \n",
       "ff5c924e0b630fd7c019a4234053c385   4441.0   13720.0   1554.0  1554.000000  \n",
       "ff5c924e0b630fd7c019a42340593ee2   1700.0    3370.0      0.0     0.000000  \n",
       "ff5c924e0b630fd7c019a42340594b55  73581.0  224330.0  20590.0   623.939394  \n",
       "ff5c924e0b630fd7c019a42340596fb0   2500.0    9778.0    -28.0   -28.000000  \n",
       "\n",
       "[1293 rows x 8 columns]"
      ]
     },
     "execution_count": 231,
     "metadata": {},
     "output_type": "execute_result"
    }
   ],
   "source": [
    "riders"
   ]
  },
  {
   "cell_type": "code",
   "execution_count": 202,
   "id": "b633db2a",
   "metadata": {},
   "outputs": [
    {
     "data": {
      "text/plain": [
       "938.0"
      ]
     },
     "execution_count": 202,
     "metadata": {},
     "output_type": "execute_result"
    }
   ],
   "source": [
    "riders.profit.quantile(0.25)"
   ]
  },
  {
   "cell_type": "code",
   "execution_count": 235,
   "id": "ae5253d7",
   "metadata": {},
   "outputs": [],
   "source": [
    "for i in range(len(riders.index)):      \n",
    "\n",
    "    if riders.profit[i]<riders.profit.quantile(0.25):\n",
    "        \n",
    "        low_quality_riders.append(riders.index)   "
   ]
  },
  {
   "cell_type": "code",
   "execution_count": 203,
   "id": "7e935a99",
   "metadata": {},
   "outputs": [
    {
     "data": {
      "text/plain": [
       "3174.0"
      ]
     },
     "execution_count": 203,
     "metadata": {},
     "output_type": "execute_result"
    }
   ],
   "source": [
    "riders.profit.quantile(0.5)"
   ]
  },
  {
   "cell_type": "code",
   "execution_count": 236,
   "id": "619f55da",
   "metadata": {},
   "outputs": [],
   "source": [
    "for i in range(len(riders.index)):      \n",
    "\n",
    "    if riders.profit[i]<riders.profit.quantile(0.5):\n",
    "        \n",
    "        medium_quality_riders.append(riders.index)   "
   ]
  },
  {
   "cell_type": "code",
   "execution_count": 204,
   "id": "1fe610d9",
   "metadata": {},
   "outputs": [
    {
     "data": {
      "text/plain": [
       "11078.0"
      ]
     },
     "execution_count": 204,
     "metadata": {},
     "output_type": "execute_result"
    }
   ],
   "source": [
    "riders.profit.quantile(0.75)"
   ]
  },
  {
   "cell_type": "code",
   "execution_count": 238,
   "id": "19cfbf85",
   "metadata": {},
   "outputs": [],
   "source": [
    "for i in range(len(riders.index)):      \n",
    "\n",
    "    if riders.profit[i]>riders.profit.quantile(0.5):\n",
    "        \n",
    "        high_quality_riders.append(riders.index)   "
   ]
  },
  {
   "cell_type": "code",
   "execution_count": 208,
   "id": "116c5f21",
   "metadata": {},
   "outputs": [
    {
     "data": {
      "text/plain": [
       "519.3333333333334"
      ]
     },
     "execution_count": 208,
     "metadata": {},
     "output_type": "execute_result"
    }
   ],
   "source": [
    "riders.avg_profit.quantile(0.25)"
   ]
  },
  {
   "cell_type": "code",
   "execution_count": 209,
   "id": "2378f219",
   "metadata": {},
   "outputs": [
    {
     "data": {
      "text/plain": [
       "1034.0"
      ]
     },
     "execution_count": 209,
     "metadata": {},
     "output_type": "execute_result"
    }
   ],
   "source": [
    "riders.avg_profit.quantile(0.5)"
   ]
  },
  {
   "cell_type": "code",
   "execution_count": 210,
   "id": "54adc311",
   "metadata": {},
   "outputs": [
    {
     "data": {
      "text/plain": [
       "1650.0"
      ]
     },
     "execution_count": 210,
     "metadata": {},
     "output_type": "execute_result"
    }
   ],
   "source": [
    "riders.avg_profit.quantile(0.75)"
   ]
  },
  {
   "cell_type": "code",
   "execution_count": null,
   "id": "33fa447b",
   "metadata": {},
   "outputs": [],
   "source": []
  },
  {
   "cell_type": "code",
   "execution_count": null,
   "id": "677b45a9",
   "metadata": {},
   "outputs": [],
   "source": []
  },
  {
   "cell_type": "code",
   "execution_count": null,
   "id": "641b8bbb",
   "metadata": {},
   "outputs": [],
   "source": []
  },
  {
   "cell_type": "code",
   "execution_count": null,
   "id": "0639b611",
   "metadata": {},
   "outputs": [],
   "source": []
  },
  {
   "cell_type": "code",
   "execution_count": null,
   "id": "3acc9894",
   "metadata": {},
   "outputs": [],
   "source": []
  },
  {
   "cell_type": "code",
   "execution_count": null,
   "id": "4b57712c",
   "metadata": {},
   "outputs": [],
   "source": []
  },
  {
   "cell_type": "code",
   "execution_count": null,
   "id": "43edd8f2",
   "metadata": {},
   "outputs": [],
   "source": []
  },
  {
   "cell_type": "markdown",
   "id": "53764e6b",
   "metadata": {},
   "source": [
    "from math import radians, cos, sin, asin, sqrt\n",
    "def distance(lat1, lat2, lon1, lon2):\n",
    "     \n",
    "    # The math module contains a function named\n",
    "    # radians which converts from degrees to radians.\n",
    "    lon1 = radians(lon1)\n",
    "    lon2 = radians(lon2)\n",
    "    lat1 = radians(lat1)\n",
    "    lat2 = radians(lat2)\n",
    "      \n",
    "    # Haversine formula\n",
    "    dlon = lon2 - lon1\n",
    "    dlat = lat2 - lat1\n",
    "    a = sin(dlat / 2)**2 + cos(lat1) * cos(lat2) * sin(dlon / 2)**2\n",
    " \n",
    "    c = 2 * asin(sqrt(a))\n",
    "    \n",
    "    # Radius of earth in kilometers. Use 3956 for miles\n",
    "    r = 6371\n",
    "      \n",
    "    # calculate the result\n",
    "    return(c * r)\n",
    "     \n",
    "     \n",
    "# driver code\n"
   ]
  },
  {
   "cell_type": "code",
   "execution_count": null,
   "id": "e6e60225",
   "metadata": {},
   "outputs": [],
   "source": []
  }
 ],
 "metadata": {
  "kernelspec": {
   "display_name": "Ironhack",
   "language": "python",
   "name": "ironhack"
  },
  "language_info": {
   "codemirror_mode": {
    "name": "ipython",
    "version": 3
   },
   "file_extension": ".py",
   "mimetype": "text/x-python",
   "name": "python",
   "nbconvert_exporter": "python",
   "pygments_lexer": "ipython3",
   "version": "3.9.7"
  }
 },
 "nbformat": 4,
 "nbformat_minor": 5
}
